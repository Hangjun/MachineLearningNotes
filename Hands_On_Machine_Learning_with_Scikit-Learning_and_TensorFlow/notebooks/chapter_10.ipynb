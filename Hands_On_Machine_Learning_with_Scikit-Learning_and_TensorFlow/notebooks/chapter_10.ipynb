{
 "cells": [
  {
   "cell_type": "markdown",
   "metadata": {},
   "source": [
    "# Chapter 10 – Introduction to Artificial Neural Networks"
   ]
  },
  {
   "cell_type": "code",
   "execution_count": 3,
   "metadata": {
    "collapsed": true
   },
   "outputs": [],
   "source": [
    "# To support both python 2 and python 3\n",
    "from __future__ import division, print_function, unicode_literals\n",
    "\n",
    "# Common imports\n",
    "import numpy as np\n",
    "import os\n",
    "import tensorflow as tf\n",
    "\n",
    "# to make this notebook's output stable across runs\n",
    "def reset_graph(seed=42):\n",
    "    tf.reset_default_graph()\n",
    "    tf.set_random_seed(seed)\n",
    "    np.random.seed(seed)\n",
    "\n",
    "# To plot pretty figures\n",
    "%matplotlib inline\n",
    "import matplotlib\n",
    "import matplotlib.pyplot as plt\n",
    "plt.rcParams['axes.labelsize'] = 14\n",
    "plt.rcParams['xtick.labelsize'] = 12\n",
    "plt.rcParams['ytick.labelsize'] = 12\n",
    "\n",
    "# Where to save the figures\n",
    "PROJECT_ROOT_DIR = \".\"\n",
    "CHAPTER_ID = \"ann\"\n",
    "\n",
    "def save_fig(fig_id, tight_layout=True):\n",
    "    path = os.path.join(PROJECT_ROOT_DIR, \"images\", CHAPTER_ID, fig_id + \".png\")\n",
    "    print(\"Saving figure\", fig_id)\n",
    "    if tight_layout:\n",
    "        plt.tight_layout()\n",
    "    plt.savefig(path, format='png', dpi=300)"
   ]
  },
  {
   "cell_type": "markdown",
   "metadata": {},
   "source": [
    "# Perceptrons"
   ]
  },
  {
   "cell_type": "code",
   "execution_count": 29,
   "metadata": {},
   "outputs": [
    {
     "name": "stderr",
     "output_type": "stream",
     "text": [
      "/Users/hangjun_xu/.local/lib/python3.6/site-packages/sklearn/linear_model/stochastic_gradient.py:128: FutureWarning: max_iter and tol parameters have been added in <class 'sklearn.linear_model.perceptron.Perceptron'> in 0.19. If both are left unset, they default to max_iter=5 and tol=None. If tol is not None, max_iter defaults to max_iter=1000. From 0.21, default max_iter will be 1000, and default tol will be 1e-3.\n",
      "  \"and default tol will be 1e-3.\" % type(self), FutureWarning)\n"
     ]
    },
    {
     "data": {
      "text/plain": [
       "Perceptron(alpha=0.0001, class_weight=None, eta0=1.0, fit_intercept=True,\n",
       "      max_iter=None, n_iter=None, n_jobs=1, penalty=None, random_state=42,\n",
       "      shuffle=True, tol=None, verbose=0, warm_start=False)"
      ]
     },
     "execution_count": 29,
     "metadata": {},
     "output_type": "execute_result"
    }
   ],
   "source": [
    "import numpy as np\n",
    "from sklearn.datasets import load_iris\n",
    "from sklearn.linear_model import Perceptron\n",
    "\n",
    "iris = load_iris()\n",
    "X = iris.data[:, (2, 3)]  # petal length, petal width\n",
    "y = (iris.target == 0).astype(np.int)\n",
    "\n",
    "per_clf = Perceptron(random_state=42)\n",
    "per_clf.fit(X, y)"
   ]
  },
  {
   "cell_type": "code",
   "execution_count": 25,
   "metadata": {},
   "outputs": [],
   "source": [
    "y_pred = per_clf.predict([[2, 0.5]])"
   ]
  },
  {
   "cell_type": "code",
   "execution_count": 32,
   "metadata": {},
   "outputs": [
    {
     "name": "stderr",
     "output_type": "stream",
     "text": [
      "/Users/hangjun_xu/.local/lib/python3.6/site-packages/matplotlib/contour.py:967: UserWarning: The following kwargs were not used by contour: 'linewidth'\n",
      "  s)\n"
     ]
    },
    {
     "name": "stdout",
     "output_type": "stream",
     "text": [
      "Saving figure perceptron_iris_plot\n"
     ]
    },
    {
     "data": {
      "image/png": "[encoded data removed]",
      "text/plain": [
       "<matplotlib.figure.Figure at 0x11ef7f0f0>"
      ]
     },
     "metadata": {},
     "output_type": "display_data"
    }
   ],
   "source": [
    "a = -per_clf.coef_[0][0] / per_clf.coef_[0][1]\n",
    "b = -per_clf.intercept_ / per_clf.coef_[0][1]\n",
    "\n",
    "axes = [0, 5, 0, 2]\n",
    "\n",
    "x0, x1 = np.meshgrid(\n",
    "        np.linspace(axes[0], axes[1], 500).reshape(-1, 1),\n",
    "        np.linspace(axes[2], axes[3], 200).reshape(-1, 1),\n",
    "    )\n",
    "X_new = np.c_[x0.ravel(), x1.ravel()]\n",
    "y_predict = per_clf.predict(X_new)\n",
    "zz = y_predict.reshape(x0.shape)\n",
    "\n",
    "plt.figure(figsize=(10, 4))\n",
    "plt.plot(X[y==0, 0], X[y==0, 1], \"bs\", label=\"Not Iris-Setosa\")\n",
    "plt.plot(X[y==1, 0], X[y==1, 1], \"yo\", label=\"Iris-Setosa\")\n",
    "\n",
    "plt.plot([axes[0], axes[1]], [a * axes[0] + b, a * axes[1] + b], \"k-\", linewidth=3)\n",
    "from matplotlib.colors import ListedColormap\n",
    "custom_cmap = ListedColormap(['#9898ff', '#fafab0'])\n",
    "\n",
    "plt.contourf(x0, x1, zz, cmap=custom_cmap, linewidth=5)\n",
    "plt.xlabel(\"Petal length\", fontsize=14)\n",
    "plt.ylabel(\"Petal width\", fontsize=14)\n",
    "plt.legend(loc=\"lower right\", fontsize=14)\n",
    "plt.axis(axes)\n",
    "\n",
    "save_fig(\"perceptron_iris_plot\")\n",
    "plt.show()"
   ]
  },
  {
   "cell_type": "markdown",
   "metadata": {},
   "source": [
    "# Activation functions"
   ]
  },
  {
   "cell_type": "code",
   "execution_count": 33,
   "metadata": {
    "collapsed": true
   },
   "outputs": [],
   "source": [
    "def logit(z):\n",
    "    return 1 / (1 + np.exp(-z))\n",
    "\n",
    "def relu(z):\n",
    "    return np.maximum(0, z)\n",
    "\n",
    "def derivative(f, z, eps=0.000001):\n",
    "    return (f(z + eps) - f(z - eps))/(2 * eps)                                "
   ]
  },
  {
   "cell_type": "code",
   "execution_count": 34,
   "metadata": {},
   "outputs": [
    {
     "name": "stdout",
     "output_type": "stream",
     "text": [
      "Saving figure activation_functions_plot\n"
     ]
    },
    {
     "data": {
      "image/png": "[encoded data removed]",
      "text/plain": [
       "<matplotlib.figure.Figure at 0x11eff0198>"
      ]
     },
     "metadata": {},
     "output_type": "display_data"
    }
   ],
   "source": [
    "z = np.linspace(-5, 5, 200)\n",
    "\n",
    "plt.figure(figsize=(11,4))\n",
    "\n",
    "plt.subplot(121)\n",
    "plt.plot(z, np.sign(z), \"r-\", linewidth=2, label=\"Step\")\n",
    "plt.plot(z, logit(z), \"g--\", linewidth=2, label=\"Logit\")\n",
    "plt.plot(z, np.tanh(z), \"b-\", linewidth=2, label=\"Tanh\")\n",
    "plt.plot(z, relu(z), \"m-.\", linewidth=2, label=\"ReLU\")\n",
    "plt.grid(True)\n",
    "plt.legend(loc=\"center right\", fontsize=14)\n",
    "plt.title(\"Activation functions\", fontsize=14)\n",
    "plt.axis([-5, 5, -1.2, 1.2])\n",
    "\n",
    "plt.subplot(122)\n",
    "plt.plot(z, derivative(np.sign, z), \"r-\", linewidth=2, label=\"Step\")\n",
    "plt.plot(0, 0, \"ro\", markersize=5)\n",
    "plt.plot(0, 0, \"rx\", markersize=10)\n",
    "plt.plot(z, derivative(logit, z), \"g--\", linewidth=2, label=\"Logit\")\n",
    "plt.plot(z, derivative(np.tanh, z), \"b-\", linewidth=2, label=\"Tanh\")\n",
    "plt.plot(z, derivative(relu, z), \"m-.\", linewidth=2, label=\"ReLU\")\n",
    "plt.grid(True)\n",
    "#plt.legend(loc=\"center right\", fontsize=14)\n",
    "plt.title(\"Derivatives\", fontsize=14)\n",
    "plt.axis([-5, 5, -0.2, 1.2])\n",
    "\n",
    "save_fig(\"activation_functions_plot\")\n",
    "plt.show()"
   ]
  },
  {
   "cell_type": "code",
   "execution_count": 35,
   "metadata": {
    "collapsed": true
   },
   "outputs": [],
   "source": [
    "def heaviside(z):\n",
    "    return (z >= 0).astype(z.dtype)\n",
    "\n",
    "def sigmoid(z):\n",
    "    return 1/(1+np.exp(-z))\n",
    "\n",
    "def mlp_xor(x1, x2, activation=heaviside):\n",
    "    return activation(-activation(x1 + x2 - 1.5) + activation(x1 + x2 - 0.5) - 0.5)"
   ]
  },
  {
   "cell_type": "code",
   "execution_count": 36,
   "metadata": {},
   "outputs": [
    {
     "data": {
      "image/png": "[encoded data removed]",
      "text/plain": [
       "<matplotlib.figure.Figure at 0x11dc56e48>"
      ]
     },
     "metadata": {},
     "output_type": "display_data"
    }
   ],
   "source": [
    "x1s = np.linspace(-0.2, 1.2, 100)\n",
    "x2s = np.linspace(-0.2, 1.2, 100)\n",
    "x1, x2 = np.meshgrid(x1s, x2s)\n",
    "\n",
    "z1 = mlp_xor(x1, x2, activation=heaviside)\n",
    "z2 = mlp_xor(x1, x2, activation=sigmoid)\n",
    "\n",
    "plt.figure(figsize=(10,4))\n",
    "\n",
    "plt.subplot(121)\n",
    "plt.contourf(x1, x2, z1)\n",
    "plt.plot([0, 1], [0, 1], \"gs\", markersize=20)\n",
    "plt.plot([0, 1], [1, 0], \"y^\", markersize=20)\n",
    "plt.title(\"Activation function: heaviside\", fontsize=14)\n",
    "plt.grid(True)\n",
    "\n",
    "plt.subplot(122)\n",
    "plt.contourf(x1, x2, z2)\n",
    "plt.plot([0, 1], [0, 1], \"gs\", markersize=20)\n",
    "plt.plot([0, 1], [1, 0], \"y^\", markersize=20)\n",
    "plt.title(\"Activation function: sigmoid\", fontsize=14)\n",
    "plt.grid(True)"
   ]
  },
  {
   "cell_type": "markdown",
   "metadata": {},
   "source": [
    "# FNN for MNIST"
   ]
  },
  {
   "cell_type": "markdown",
   "metadata": {},
   "source": [
    "## Using tf.learn"
   ]
  },
  {
   "cell_type": "code",
   "execution_count": 53,
   "metadata": {},
   "outputs": [
    {
     "name": "stdout",
     "output_type": "stream",
     "text": [
      "Extracting /tmp/data/train-images-idx3-ubyte.gz\n",
      "Extracting /tmp/data/train-labels-idx1-ubyte.gz\n",
      "Extracting /tmp/data/t10k-images-idx3-ubyte.gz\n",
      "Extracting /tmp/data/t10k-labels-idx1-ubyte.gz\n"
     ]
    }
   ],
   "source": [
    "from tensorflow.examples.tutorials.mnist import input_data\n",
    "\n",
    "mnist = input_data.read_data_sets(\"/tmp/data/\")\n",
    "\n",
    "X_train = mnist.train.images\n",
    "X_test = mnist.test.images\n",
    "y_train = mnist.train.labels.astype(\"int\")\n",
    "y_test = mnist.test.labels.astype(\"int\")"
   ]
  },
  {
   "cell_type": "code",
   "execution_count": 61,
   "metadata": {},
   "outputs": [
    {
     "name": "stdout",
     "output_type": "stream",
     "text": [
      "WARNING:tensorflow:Using temporary folder as model directory: /var/folders/zc/c024qb1j19s5blmjkt_b8pzr0000gn/T/tmp9lqjj3lw\n",
      "INFO:tensorflow:Using config: {'_task_type': None, '_task_id': 0, '_cluster_spec': <tensorflow.python.training.server_lib.ClusterSpec object at 0x11b83bf98>, '_master': '', '_num_ps_replicas': 0, '_num_worker_replicas': 0, '_environment': 'local', '_is_chief': True, '_evaluation_master': '', '_tf_config': gpu_options {\n",
      "  per_process_gpu_memory_fraction: 1.0\n",
      "}\n",
      ", '_tf_random_seed': 42, '_save_summary_steps': 100, '_save_checkpoints_secs': 600, '_log_step_count_steps': 100, '_session_config': None, '_save_checkpoints_steps': None, '_keep_checkpoint_max': 5, '_keep_checkpoint_every_n_hours': 10000, '_model_dir': '/var/folders/zc/c024qb1j19s5blmjkt_b8pzr0000gn/T/tmp9lqjj3lw'}\n",
      "INFO:tensorflow:Create CheckpointSaverHook.\n",
      "INFO:tensorflow:Graph was finalized.\n",
      "INFO:tensorflow:Running local_init_op.\n",
      "INFO:tensorflow:Done running local_init_op.\n",
      "INFO:tensorflow:Saving checkpoints for 1 into /var/folders/zc/c024qb1j19s5blmjkt_b8pzr0000gn/T/tmp9lqjj3lw/model.ckpt.\n",
      "INFO:tensorflow:loss = 2.2865596, step = 1\n",
      "INFO:tensorflow:global_step/sec: 505.649\n",
      "INFO:tensorflow:loss = 0.3356965, step = 101 (0.199 sec)\n",
      "INFO:tensorflow:global_step/sec: 575.116\n",
      "INFO:tensorflow:loss = 0.2775252, step = 201 (0.174 sec)\n",
      "INFO:tensorflow:global_step/sec: 575.208\n",
      "INFO:tensorflow:loss = 0.40996158, step = 301 (0.174 sec)\n",
      "INFO:tensorflow:global_step/sec: 571.942\n",
      "INFO:tensorflow:loss = 0.23542866, step = 401 (0.175 sec)\n",
      "INFO:tensorflow:global_step/sec: 545.577\n",
      "INFO:tensorflow:loss = 0.23480538, step = 501 (0.184 sec)\n",
      "INFO:tensorflow:global_step/sec: 511.855\n",
      "INFO:tensorflow:loss = 0.07679455, step = 601 (0.195 sec)\n",
      "INFO:tensorflow:global_step/sec: 535.498\n",
      "INFO:tensorflow:loss = 0.12395303, step = 701 (0.187 sec)\n",
      "INFO:tensorflow:global_step/sec: 542.528\n",
      "INFO:tensorflow:loss = 0.2585954, step = 801 (0.184 sec)\n",
      "INFO:tensorflow:global_step/sec: 542.55\n",
      "INFO:tensorflow:loss = 0.10641231, step = 901 (0.184 sec)\n",
      "INFO:tensorflow:global_step/sec: 505.868\n",
      "INFO:tensorflow:loss = 0.18778442, step = 1001 (0.198 sec)\n",
      "INFO:tensorflow:global_step/sec: 527.318\n",
      "INFO:tensorflow:loss = 0.19348845, step = 1101 (0.190 sec)\n",
      "INFO:tensorflow:global_step/sec: 559.406\n",
      "INFO:tensorflow:loss = 0.19223976, step = 1201 (0.179 sec)\n",
      "INFO:tensorflow:global_step/sec: 558.562\n",
      "INFO:tensorflow:loss = 0.1591971, step = 1301 (0.179 sec)\n",
      "INFO:tensorflow:global_step/sec: 500.231\n",
      "INFO:tensorflow:loss = 0.09233641, step = 1401 (0.200 sec)\n",
      "INFO:tensorflow:global_step/sec: 460.214\n",
      "INFO:tensorflow:loss = 0.1044448, step = 1501 (0.217 sec)\n",
      "INFO:tensorflow:global_step/sec: 474.46\n",
      "INFO:tensorflow:loss = 0.17615551, step = 1601 (0.211 sec)\n",
      "INFO:tensorflow:global_step/sec: 552.086\n",
      "INFO:tensorflow:loss = 0.031181036, step = 1701 (0.181 sec)\n",
      "INFO:tensorflow:global_step/sec: 569.905\n",
      "INFO:tensorflow:loss = 0.14642735, step = 1801 (0.175 sec)\n",
      "INFO:tensorflow:global_step/sec: 574.373\n",
      "INFO:tensorflow:loss = 0.09195499, step = 1901 (0.174 sec)\n",
      "INFO:tensorflow:global_step/sec: 516.71\n",
      "INFO:tensorflow:loss = 0.08264937, step = 2001 (0.194 sec)\n",
      "INFO:tensorflow:global_step/sec: 538.592\n",
      "INFO:tensorflow:loss = 0.023886524, step = 2101 (0.186 sec)\n",
      "INFO:tensorflow:global_step/sec: 570.422\n",
      "INFO:tensorflow:loss = 0.039084002, step = 2201 (0.175 sec)\n",
      "INFO:tensorflow:global_step/sec: 545.233\n",
      "INFO:tensorflow:loss = 0.060589775, step = 2301 (0.184 sec)\n",
      "INFO:tensorflow:global_step/sec: 559.732\n",
      "INFO:tensorflow:loss = 0.047474287, step = 2401 (0.179 sec)\n",
      "INFO:tensorflow:global_step/sec: 567.402\n",
      "INFO:tensorflow:loss = 0.06444881, step = 2501 (0.176 sec)\n",
      "INFO:tensorflow:global_step/sec: 560.739\n",
      "INFO:tensorflow:loss = 0.037124526, step = 2601 (0.178 sec)\n",
      "INFO:tensorflow:global_step/sec: 553.854\n",
      "INFO:tensorflow:loss = 0.026455348, step = 2701 (0.181 sec)\n",
      "INFO:tensorflow:global_step/sec: 518.21\n",
      "INFO:tensorflow:loss = 0.065410495, step = 2801 (0.193 sec)\n",
      "INFO:tensorflow:global_step/sec: 515.591\n",
      "INFO:tensorflow:loss = 0.1513297, step = 2901 (0.194 sec)\n",
      "INFO:tensorflow:global_step/sec: 452.439\n",
      "INFO:tensorflow:loss = 0.016833149, step = 3001 (0.221 sec)\n",
      "INFO:tensorflow:global_step/sec: 575.516\n",
      "INFO:tensorflow:loss = 0.047092453, step = 3101 (0.173 sec)\n",
      "INFO:tensorflow:global_step/sec: 578.316\n",
      "INFO:tensorflow:loss = 0.013002361, step = 3201 (0.173 sec)\n",
      "INFO:tensorflow:global_step/sec: 505.648\n",
      "INFO:tensorflow:loss = 0.024934238, step = 3301 (0.199 sec)\n",
      "INFO:tensorflow:global_step/sec: 498.669\n",
      "INFO:tensorflow:loss = 0.20165716, step = 3401 (0.200 sec)\n",
      "INFO:tensorflow:global_step/sec: 497.639\n",
      "INFO:tensorflow:loss = 0.12964624, step = 3501 (0.201 sec)\n",
      "INFO:tensorflow:global_step/sec: 504.737\n",
      "INFO:tensorflow:loss = 0.14958301, step = 3601 (0.198 sec)\n",
      "INFO:tensorflow:global_step/sec: 509.012\n",
      "INFO:tensorflow:loss = 0.04601155, step = 3701 (0.196 sec)\n",
      "INFO:tensorflow:global_step/sec: 512.206\n",
      "INFO:tensorflow:loss = 0.0048350897, step = 3801 (0.195 sec)\n",
      "INFO:tensorflow:global_step/sec: 513.494\n",
      "INFO:tensorflow:loss = 0.082951844, step = 3901 (0.195 sec)\n",
      "INFO:tensorflow:global_step/sec: 497.649\n",
      "INFO:tensorflow:loss = 0.1559577, step = 4001 (0.201 sec)\n",
      "INFO:tensorflow:global_step/sec: 585.549\n",
      "INFO:tensorflow:loss = 0.029876685, step = 4101 (0.171 sec)\n",
      "INFO:tensorflow:global_step/sec: 510.924\n",
      "INFO:tensorflow:loss = 0.07021765, step = 4201 (0.196 sec)\n",
      "INFO:tensorflow:global_step/sec: 524.065\n",
      "INFO:tensorflow:loss = 0.1769446, step = 4301 (0.190 sec)\n",
      "INFO:tensorflow:global_step/sec: 555.821\n",
      "INFO:tensorflow:loss = 0.12943463, step = 4401 (0.180 sec)\n",
      "INFO:tensorflow:global_step/sec: 509.118\n",
      "INFO:tensorflow:loss = 0.020182082, step = 4501 (0.197 sec)\n",
      "INFO:tensorflow:global_step/sec: 511.396\n",
      "INFO:tensorflow:loss = 0.0203583, step = 4601 (0.195 sec)\n",
      "INFO:tensorflow:global_step/sec: 546.893\n",
      "INFO:tensorflow:loss = 0.009742152, step = 4701 (0.182 sec)\n",
      "INFO:tensorflow:global_step/sec: 604.391\n",
      "INFO:tensorflow:loss = 0.01929045, step = 4801 (0.165 sec)\n",
      "INFO:tensorflow:global_step/sec: 526.116\n",
      "INFO:tensorflow:loss = 0.06949016, step = 4901 (0.191 sec)\n",
      "INFO:tensorflow:global_step/sec: 567.45\n",
      "INFO:tensorflow:loss = 0.07281621, step = 5001 (0.175 sec)\n",
      "INFO:tensorflow:global_step/sec: 584.796\n",
      "INFO:tensorflow:loss = 0.013786985, step = 5101 (0.171 sec)\n",
      "INFO:tensorflow:global_step/sec: 551.292\n",
      "INFO:tensorflow:loss = 0.031506214, step = 5201 (0.182 sec)\n",
      "INFO:tensorflow:global_step/sec: 528.413\n",
      "INFO:tensorflow:loss = 0.075913884, step = 5301 (0.189 sec)\n",
      "INFO:tensorflow:global_step/sec: 575.811\n",
      "INFO:tensorflow:loss = 0.029635934, step = 5401 (0.174 sec)\n",
      "INFO:tensorflow:global_step/sec: 569.191\n",
      "INFO:tensorflow:loss = 0.029957091, step = 5501 (0.176 sec)\n",
      "INFO:tensorflow:global_step/sec: 576.911\n",
      "INFO:tensorflow:loss = 0.08941801, step = 5601 (0.173 sec)\n",
      "INFO:tensorflow:global_step/sec: 574.307\n",
      "INFO:tensorflow:loss = 0.013213443, step = 5701 (0.174 sec)\n",
      "INFO:tensorflow:global_step/sec: 570.155\n",
      "INFO:tensorflow:loss = 0.007338679, step = 5801 (0.175 sec)\n",
      "INFO:tensorflow:global_step/sec: 573.948\n",
      "INFO:tensorflow:loss = 0.046424273, step = 5901 (0.175 sec)\n",
      "INFO:tensorflow:global_step/sec: 575.006\n",
      "INFO:tensorflow:loss = 0.11915817, step = 6001 (0.174 sec)\n",
      "INFO:tensorflow:global_step/sec: 568.799\n",
      "INFO:tensorflow:loss = 0.028035944, step = 6101 (0.176 sec)\n",
      "INFO:tensorflow:global_step/sec: 499.862\n",
      "INFO:tensorflow:loss = 0.019247739, step = 6201 (0.201 sec)\n",
      "INFO:tensorflow:global_step/sec: 549.889\n",
      "INFO:tensorflow:loss = 0.07241198, step = 6301 (0.181 sec)\n",
      "INFO:tensorflow:global_step/sec: 600.416\n",
      "INFO:tensorflow:loss = 0.02614253, step = 6401 (0.167 sec)\n",
      "INFO:tensorflow:global_step/sec: 562.326\n",
      "INFO:tensorflow:loss = 0.019207913, step = 6501 (0.178 sec)\n",
      "INFO:tensorflow:global_step/sec: 565.681\n",
      "INFO:tensorflow:loss = 0.015787067, step = 6601 (0.176 sec)\n",
      "INFO:tensorflow:global_step/sec: 585.446\n",
      "INFO:tensorflow:loss = 0.02286069, step = 6701 (0.171 sec)\n",
      "INFO:tensorflow:global_step/sec: 580.03\n",
      "INFO:tensorflow:loss = 0.0049497606, step = 6801 (0.172 sec)\n",
      "INFO:tensorflow:global_step/sec: 530.687\n",
      "INFO:tensorflow:loss = 0.011871735, step = 6901 (0.189 sec)\n",
      "INFO:tensorflow:global_step/sec: 467.992\n",
      "INFO:tensorflow:loss = 0.018619562, step = 7001 (0.213 sec)\n",
      "INFO:tensorflow:global_step/sec: 545.495\n",
      "INFO:tensorflow:loss = 0.009654682, step = 7101 (0.184 sec)\n"
     ]
    },
    {
     "name": "stdout",
     "output_type": "stream",
     "text": [
      "INFO:tensorflow:global_step/sec: 557.494\n",
      "INFO:tensorflow:loss = 0.023617296, step = 7201 (0.179 sec)\n",
      "INFO:tensorflow:global_step/sec: 529.12\n",
      "INFO:tensorflow:loss = 0.0057689724, step = 7301 (0.189 sec)\n",
      "INFO:tensorflow:global_step/sec: 543.218\n",
      "INFO:tensorflow:loss = 0.019554693, step = 7401 (0.184 sec)\n",
      "INFO:tensorflow:global_step/sec: 566.249\n",
      "INFO:tensorflow:loss = 0.0028316763, step = 7501 (0.176 sec)\n",
      "INFO:tensorflow:global_step/sec: 510.276\n",
      "INFO:tensorflow:loss = 0.0290098, step = 7601 (0.196 sec)\n",
      "INFO:tensorflow:global_step/sec: 548.881\n",
      "INFO:tensorflow:loss = 0.012490218, step = 7701 (0.182 sec)\n",
      "INFO:tensorflow:global_step/sec: 550.982\n",
      "INFO:tensorflow:loss = 0.004221091, step = 7801 (0.181 sec)\n",
      "INFO:tensorflow:global_step/sec: 544.888\n",
      "INFO:tensorflow:loss = 0.011796335, step = 7901 (0.184 sec)\n",
      "INFO:tensorflow:global_step/sec: 562.955\n",
      "INFO:tensorflow:loss = 0.0031221367, step = 8001 (0.179 sec)\n",
      "INFO:tensorflow:global_step/sec: 558.157\n",
      "INFO:tensorflow:loss = 0.020210136, step = 8101 (0.178 sec)\n",
      "INFO:tensorflow:global_step/sec: 462.304\n",
      "INFO:tensorflow:loss = 0.012365382, step = 8201 (0.217 sec)\n",
      "INFO:tensorflow:global_step/sec: 541.909\n",
      "INFO:tensorflow:loss = 0.044079944, step = 8301 (0.185 sec)\n",
      "INFO:tensorflow:global_step/sec: 572.78\n",
      "INFO:tensorflow:loss = 0.007334717, step = 8401 (0.174 sec)\n",
      "INFO:tensorflow:global_step/sec: 515.1\n",
      "INFO:tensorflow:loss = 0.0046987, step = 8501 (0.194 sec)\n",
      "INFO:tensorflow:global_step/sec: 580.08\n",
      "INFO:tensorflow:loss = 0.006200173, step = 8601 (0.172 sec)\n",
      "INFO:tensorflow:global_step/sec: 584.799\n",
      "INFO:tensorflow:loss = 0.004355491, step = 8701 (0.171 sec)\n",
      "INFO:tensorflow:global_step/sec: 505.888\n",
      "INFO:tensorflow:loss = 0.009393148, step = 8801 (0.198 sec)\n",
      "INFO:tensorflow:global_step/sec: 498.164\n",
      "INFO:tensorflow:loss = 0.002025329, step = 8901 (0.201 sec)\n",
      "INFO:tensorflow:global_step/sec: 544.251\n",
      "INFO:tensorflow:loss = 0.01344584, step = 9001 (0.184 sec)\n",
      "INFO:tensorflow:global_step/sec: 525.019\n",
      "INFO:tensorflow:loss = 0.0075700874, step = 9101 (0.190 sec)\n",
      "INFO:tensorflow:global_step/sec: 469.621\n",
      "INFO:tensorflow:loss = 0.004180617, step = 9201 (0.213 sec)\n",
      "INFO:tensorflow:global_step/sec: 524.279\n",
      "INFO:tensorflow:loss = 0.013504599, step = 9301 (0.191 sec)\n",
      "INFO:tensorflow:global_step/sec: 570.165\n",
      "INFO:tensorflow:loss = 0.051712178, step = 9401 (0.176 sec)\n",
      "INFO:tensorflow:global_step/sec: 575.539\n",
      "INFO:tensorflow:loss = 0.0043353457, step = 9501 (0.174 sec)\n",
      "INFO:tensorflow:global_step/sec: 578.295\n",
      "INFO:tensorflow:loss = 0.010429698, step = 9601 (0.173 sec)\n",
      "INFO:tensorflow:global_step/sec: 568.534\n",
      "INFO:tensorflow:loss = 0.0068556787, step = 9701 (0.176 sec)\n",
      "INFO:tensorflow:global_step/sec: 566.297\n",
      "INFO:tensorflow:loss = 0.0019953307, step = 9801 (0.177 sec)\n",
      "INFO:tensorflow:global_step/sec: 578.179\n",
      "INFO:tensorflow:loss = 0.010569203, step = 9901 (0.172 sec)\n",
      "INFO:tensorflow:global_step/sec: 538.979\n",
      "INFO:tensorflow:loss = 0.010019588, step = 10001 (0.186 sec)\n",
      "INFO:tensorflow:global_step/sec: 549.647\n",
      "INFO:tensorflow:loss = 0.0054419693, step = 10101 (0.182 sec)\n",
      "INFO:tensorflow:global_step/sec: 590.957\n",
      "INFO:tensorflow:loss = 0.007788998, step = 10201 (0.169 sec)\n",
      "INFO:tensorflow:global_step/sec: 593.103\n",
      "INFO:tensorflow:loss = 0.0052370895, step = 10301 (0.169 sec)\n",
      "INFO:tensorflow:global_step/sec: 551.228\n",
      "INFO:tensorflow:loss = 0.015680732, step = 10401 (0.181 sec)\n",
      "INFO:tensorflow:global_step/sec: 601.935\n",
      "INFO:tensorflow:loss = 0.0054179435, step = 10501 (0.166 sec)\n",
      "INFO:tensorflow:global_step/sec: 587.921\n",
      "INFO:tensorflow:loss = 0.0046723774, step = 10601 (0.170 sec)\n",
      "INFO:tensorflow:global_step/sec: 568.375\n",
      "INFO:tensorflow:loss = 0.015599278, step = 10701 (0.176 sec)\n",
      "INFO:tensorflow:global_step/sec: 572.47\n",
      "INFO:tensorflow:loss = 0.00417504, step = 10801 (0.174 sec)\n",
      "INFO:tensorflow:global_step/sec: 539.45\n",
      "INFO:tensorflow:loss = 0.0024917116, step = 10901 (0.187 sec)\n",
      "INFO:tensorflow:global_step/sec: 471.034\n",
      "INFO:tensorflow:loss = 0.026601352, step = 11001 (0.211 sec)\n",
      "INFO:tensorflow:global_step/sec: 549.689\n",
      "INFO:tensorflow:loss = 0.0057271635, step = 11101 (0.181 sec)\n",
      "INFO:tensorflow:global_step/sec: 553.107\n",
      "INFO:tensorflow:loss = 0.0009032808, step = 11201 (0.181 sec)\n",
      "INFO:tensorflow:global_step/sec: 549.701\n",
      "INFO:tensorflow:loss = 0.0079912385, step = 11301 (0.182 sec)\n",
      "INFO:tensorflow:global_step/sec: 577.191\n",
      "INFO:tensorflow:loss = 0.0062699066, step = 11401 (0.174 sec)\n",
      "INFO:tensorflow:global_step/sec: 542.823\n",
      "INFO:tensorflow:loss = 0.011581166, step = 11501 (0.184 sec)\n",
      "INFO:tensorflow:global_step/sec: 529.961\n",
      "INFO:tensorflow:loss = 0.001484144, step = 11601 (0.189 sec)\n",
      "INFO:tensorflow:global_step/sec: 573.888\n",
      "INFO:tensorflow:loss = 0.004630999, step = 11701 (0.174 sec)\n",
      "INFO:tensorflow:global_step/sec: 578.419\n",
      "INFO:tensorflow:loss = 0.00044796444, step = 11801 (0.173 sec)\n",
      "INFO:tensorflow:global_step/sec: 552.02\n",
      "INFO:tensorflow:loss = 0.003047607, step = 11901 (0.182 sec)\n",
      "INFO:tensorflow:global_step/sec: 478.423\n",
      "INFO:tensorflow:loss = 0.00018021766, step = 12001 (0.209 sec)\n",
      "INFO:tensorflow:global_step/sec: 551.158\n",
      "INFO:tensorflow:loss = 0.0027282184, step = 12101 (0.181 sec)\n",
      "INFO:tensorflow:global_step/sec: 532.176\n",
      "INFO:tensorflow:loss = 0.0032805915, step = 12201 (0.188 sec)\n",
      "INFO:tensorflow:global_step/sec: 494.098\n",
      "INFO:tensorflow:loss = 0.008683838, step = 12301 (0.203 sec)\n",
      "INFO:tensorflow:global_step/sec: 590.113\n",
      "INFO:tensorflow:loss = 0.0011271561, step = 12401 (0.169 sec)\n",
      "INFO:tensorflow:global_step/sec: 590.346\n",
      "INFO:tensorflow:loss = 0.0019170892, step = 12501 (0.169 sec)\n",
      "INFO:tensorflow:global_step/sec: 538.619\n",
      "INFO:tensorflow:loss = 0.0040926193, step = 12601 (0.187 sec)\n",
      "INFO:tensorflow:global_step/sec: 557.339\n",
      "INFO:tensorflow:loss = 0.0036909285, step = 12701 (0.179 sec)\n",
      "INFO:tensorflow:global_step/sec: 561.632\n",
      "INFO:tensorflow:loss = 0.0088503435, step = 12801 (0.178 sec)\n",
      "INFO:tensorflow:global_step/sec: 593.088\n",
      "INFO:tensorflow:loss = 0.0044127475, step = 12901 (0.169 sec)\n",
      "INFO:tensorflow:global_step/sec: 513.236\n",
      "INFO:tensorflow:loss = 0.0048034727, step = 13001 (0.196 sec)\n",
      "INFO:tensorflow:global_step/sec: 569.155\n",
      "INFO:tensorflow:loss = 0.0042050905, step = 13101 (0.175 sec)\n",
      "INFO:tensorflow:global_step/sec: 567.798\n",
      "INFO:tensorflow:loss = 0.0016706438, step = 13201 (0.176 sec)\n",
      "INFO:tensorflow:global_step/sec: 587.952\n",
      "INFO:tensorflow:loss = 0.0053819, step = 13301 (0.171 sec)\n",
      "INFO:tensorflow:global_step/sec: 581.794\n",
      "INFO:tensorflow:loss = 0.017784303, step = 13401 (0.171 sec)\n",
      "INFO:tensorflow:global_step/sec: 562.18\n",
      "INFO:tensorflow:loss = 0.02218662, step = 13501 (0.178 sec)\n",
      "INFO:tensorflow:global_step/sec: 540.663\n",
      "INFO:tensorflow:loss = 0.008515783, step = 13601 (0.185 sec)\n",
      "INFO:tensorflow:global_step/sec: 578.981\n",
      "INFO:tensorflow:loss = 0.0018748052, step = 13701 (0.172 sec)\n",
      "INFO:tensorflow:global_step/sec: 526.507\n",
      "INFO:tensorflow:loss = 0.006370504, step = 13801 (0.190 sec)\n",
      "INFO:tensorflow:global_step/sec: 521.054\n",
      "INFO:tensorflow:loss = 0.00817174, step = 13901 (0.192 sec)\n",
      "INFO:tensorflow:global_step/sec: 562.306\n",
      "INFO:tensorflow:loss = 0.0016253326, step = 14001 (0.178 sec)\n",
      "INFO:tensorflow:global_step/sec: 578.54\n",
      "INFO:tensorflow:loss = 0.007480366, step = 14101 (0.173 sec)\n",
      "INFO:tensorflow:global_step/sec: 595.133\n",
      "INFO:tensorflow:loss = 0.005157809, step = 14201 (0.168 sec)\n",
      "INFO:tensorflow:global_step/sec: 567.269\n",
      "INFO:tensorflow:loss = 0.0008531502, step = 14301 (0.176 sec)\n",
      "INFO:tensorflow:global_step/sec: 612.633\n",
      "INFO:tensorflow:loss = 0.00086140045, step = 14401 (0.163 sec)\n",
      "INFO:tensorflow:global_step/sec: 606.369\n",
      "INFO:tensorflow:loss = 0.0006120551, step = 14501 (0.165 sec)\n",
      "INFO:tensorflow:global_step/sec: 585.751\n",
      "INFO:tensorflow:loss = 0.0058089574, step = 14601 (0.171 sec)\n",
      "INFO:tensorflow:global_step/sec: 593.737\n",
      "INFO:tensorflow:loss = 0.0013619375, step = 14701 (0.168 sec)\n",
      "INFO:tensorflow:global_step/sec: 609.191\n",
      "INFO:tensorflow:loss = 0.0008390624, step = 14801 (0.164 sec)\n",
      "INFO:tensorflow:global_step/sec: 605.272\n",
      "INFO:tensorflow:loss = 0.0021696899, step = 14901 (0.165 sec)\n",
      "INFO:tensorflow:global_step/sec: 607.61\n",
      "INFO:tensorflow:loss = 0.0004804016, step = 15001 (0.165 sec)\n",
      "INFO:tensorflow:global_step/sec: 615.957\n",
      "INFO:tensorflow:loss = 0.002021876, step = 15101 (0.162 sec)\n",
      "INFO:tensorflow:global_step/sec: 614.542\n"
     ]
    },
    {
     "name": "stdout",
     "output_type": "stream",
     "text": [
      "INFO:tensorflow:loss = 0.0016350342, step = 15201 (0.163 sec)\n",
      "INFO:tensorflow:global_step/sec: 616.849\n",
      "INFO:tensorflow:loss = 0.0031969673, step = 15301 (0.162 sec)\n",
      "INFO:tensorflow:global_step/sec: 615.476\n",
      "INFO:tensorflow:loss = 0.003476299, step = 15401 (0.162 sec)\n",
      "INFO:tensorflow:global_step/sec: 610.076\n",
      "INFO:tensorflow:loss = 0.0063731237, step = 15501 (0.164 sec)\n",
      "INFO:tensorflow:global_step/sec: 610.285\n",
      "INFO:tensorflow:loss = 0.0043329024, step = 15601 (0.164 sec)\n",
      "INFO:tensorflow:global_step/sec: 594.486\n",
      "INFO:tensorflow:loss = 0.009507208, step = 15701 (0.168 sec)\n",
      "INFO:tensorflow:global_step/sec: 613.234\n",
      "INFO:tensorflow:loss = 0.00094377506, step = 15801 (0.163 sec)\n",
      "INFO:tensorflow:global_step/sec: 610.133\n",
      "INFO:tensorflow:loss = 0.0004562597, step = 15901 (0.164 sec)\n",
      "INFO:tensorflow:global_step/sec: 605.917\n",
      "INFO:tensorflow:loss = 0.008790955, step = 16001 (0.165 sec)\n",
      "INFO:tensorflow:global_step/sec: 559.97\n",
      "INFO:tensorflow:loss = 0.002252589, step = 16101 (0.179 sec)\n",
      "INFO:tensorflow:global_step/sec: 522.51\n",
      "INFO:tensorflow:loss = 0.00014071235, step = 16201 (0.192 sec)\n",
      "INFO:tensorflow:global_step/sec: 475.188\n",
      "INFO:tensorflow:loss = 0.0028554425, step = 16301 (0.210 sec)\n",
      "INFO:tensorflow:global_step/sec: 532.99\n",
      "INFO:tensorflow:loss = 0.0015053734, step = 16401 (0.188 sec)\n",
      "INFO:tensorflow:global_step/sec: 584.347\n",
      "INFO:tensorflow:loss = 0.0027747238, step = 16501 (0.171 sec)\n",
      "INFO:tensorflow:global_step/sec: 562.89\n",
      "INFO:tensorflow:loss = 0.004555327, step = 16601 (0.178 sec)\n",
      "INFO:tensorflow:global_step/sec: 606.737\n",
      "INFO:tensorflow:loss = 0.0016071771, step = 16701 (0.165 sec)\n",
      "INFO:tensorflow:global_step/sec: 612.764\n",
      "INFO:tensorflow:loss = 0.0025529966, step = 16801 (0.163 sec)\n",
      "INFO:tensorflow:global_step/sec: 591.715\n",
      "INFO:tensorflow:loss = 0.0031646586, step = 16901 (0.169 sec)\n",
      "INFO:tensorflow:global_step/sec: 607.131\n",
      "INFO:tensorflow:loss = 0.0058682584, step = 17001 (0.165 sec)\n",
      "INFO:tensorflow:global_step/sec: 608.562\n",
      "INFO:tensorflow:loss = 0.0012029269, step = 17101 (0.164 sec)\n",
      "INFO:tensorflow:global_step/sec: 582.52\n",
      "INFO:tensorflow:loss = 0.0016708005, step = 17201 (0.172 sec)\n",
      "INFO:tensorflow:global_step/sec: 593.018\n",
      "INFO:tensorflow:loss = 0.0010421735, step = 17301 (0.169 sec)\n",
      "INFO:tensorflow:global_step/sec: 605.943\n",
      "INFO:tensorflow:loss = 0.0014520261, step = 17401 (0.165 sec)\n",
      "INFO:tensorflow:global_step/sec: 616.58\n",
      "INFO:tensorflow:loss = 0.00093047856, step = 17501 (0.162 sec)\n",
      "INFO:tensorflow:global_step/sec: 610.325\n",
      "INFO:tensorflow:loss = 0.00067060237, step = 17601 (0.164 sec)\n",
      "INFO:tensorflow:global_step/sec: 613.889\n",
      "INFO:tensorflow:loss = 0.00078296027, step = 17701 (0.163 sec)\n",
      "INFO:tensorflow:global_step/sec: 607.017\n",
      "INFO:tensorflow:loss = 0.0004361578, step = 17801 (0.165 sec)\n",
      "INFO:tensorflow:global_step/sec: 616.686\n",
      "INFO:tensorflow:loss = 0.003057117, step = 17901 (0.162 sec)\n",
      "INFO:tensorflow:global_step/sec: 611.057\n",
      "INFO:tensorflow:loss = 0.0005650917, step = 18001 (0.164 sec)\n",
      "INFO:tensorflow:global_step/sec: 607.496\n",
      "INFO:tensorflow:loss = 0.0003258205, step = 18101 (0.165 sec)\n",
      "INFO:tensorflow:global_step/sec: 604.183\n",
      "INFO:tensorflow:loss = 0.0037376776, step = 18201 (0.166 sec)\n",
      "INFO:tensorflow:global_step/sec: 612.485\n",
      "INFO:tensorflow:loss = 0.01078219, step = 18301 (0.163 sec)\n",
      "INFO:tensorflow:global_step/sec: 611.288\n",
      "INFO:tensorflow:loss = 0.0031003796, step = 18401 (0.164 sec)\n",
      "INFO:tensorflow:global_step/sec: 612.419\n",
      "INFO:tensorflow:loss = 0.0032443705, step = 18501 (0.163 sec)\n",
      "INFO:tensorflow:global_step/sec: 609.221\n",
      "INFO:tensorflow:loss = 0.003953106, step = 18601 (0.164 sec)\n",
      "INFO:tensorflow:global_step/sec: 608.155\n",
      "INFO:tensorflow:loss = 0.0018056273, step = 18701 (0.165 sec)\n",
      "INFO:tensorflow:global_step/sec: 618.012\n",
      "INFO:tensorflow:loss = 0.0014840063, step = 18801 (0.162 sec)\n",
      "INFO:tensorflow:global_step/sec: 617.399\n",
      "INFO:tensorflow:loss = 0.0031599596, step = 18901 (0.162 sec)\n",
      "INFO:tensorflow:global_step/sec: 621.331\n",
      "INFO:tensorflow:loss = 0.0013015557, step = 19001 (0.161 sec)\n",
      "INFO:tensorflow:global_step/sec: 618.953\n",
      "INFO:tensorflow:loss = 0.00050144334, step = 19101 (0.162 sec)\n",
      "INFO:tensorflow:global_step/sec: 611.778\n",
      "INFO:tensorflow:loss = 0.0013689911, step = 19201 (0.163 sec)\n",
      "INFO:tensorflow:global_step/sec: 613.245\n",
      "INFO:tensorflow:loss = 0.007321636, step = 19301 (0.163 sec)\n",
      "INFO:tensorflow:global_step/sec: 598.14\n",
      "INFO:tensorflow:loss = 0.00045760127, step = 19401 (0.167 sec)\n",
      "INFO:tensorflow:global_step/sec: 607.349\n",
      "INFO:tensorflow:loss = 0.0021520434, step = 19501 (0.165 sec)\n",
      "INFO:tensorflow:global_step/sec: 588.402\n",
      "INFO:tensorflow:loss = 0.00025066204, step = 19601 (0.170 sec)\n",
      "INFO:tensorflow:global_step/sec: 603.358\n",
      "INFO:tensorflow:loss = 9.046594e-05, step = 19701 (0.166 sec)\n",
      "INFO:tensorflow:global_step/sec: 584.895\n",
      "INFO:tensorflow:loss = 0.00055735966, step = 19801 (0.171 sec)\n",
      "INFO:tensorflow:global_step/sec: 620.27\n",
      "INFO:tensorflow:loss = 0.0020683573, step = 19901 (0.161 sec)\n",
      "INFO:tensorflow:global_step/sec: 617.147\n",
      "INFO:tensorflow:loss = 0.0021258583, step = 20001 (0.162 sec)\n",
      "INFO:tensorflow:global_step/sec: 616.469\n",
      "INFO:tensorflow:loss = 0.00058065227, step = 20101 (0.162 sec)\n",
      "INFO:tensorflow:global_step/sec: 593.733\n",
      "INFO:tensorflow:loss = 0.0019514892, step = 20201 (0.168 sec)\n",
      "INFO:tensorflow:global_step/sec: 619.681\n",
      "INFO:tensorflow:loss = 0.0012379613, step = 20301 (0.161 sec)\n",
      "INFO:tensorflow:global_step/sec: 610.706\n",
      "INFO:tensorflow:loss = 0.00035572413, step = 20401 (0.164 sec)\n",
      "INFO:tensorflow:global_step/sec: 595.679\n",
      "INFO:tensorflow:loss = 0.0004608786, step = 20501 (0.168 sec)\n",
      "INFO:tensorflow:global_step/sec: 610.929\n",
      "INFO:tensorflow:loss = 0.0012864333, step = 20601 (0.164 sec)\n",
      "INFO:tensorflow:global_step/sec: 612.021\n",
      "INFO:tensorflow:loss = 0.00057957857, step = 20701 (0.163 sec)\n",
      "INFO:tensorflow:global_step/sec: 607.774\n",
      "INFO:tensorflow:loss = 0.0016707483, step = 20801 (0.165 sec)\n",
      "INFO:tensorflow:global_step/sec: 609.762\n",
      "INFO:tensorflow:loss = 0.0012916067, step = 20901 (0.164 sec)\n",
      "INFO:tensorflow:global_step/sec: 613.87\n",
      "INFO:tensorflow:loss = 0.003808023, step = 21001 (0.163 sec)\n",
      "INFO:tensorflow:global_step/sec: 611.412\n",
      "INFO:tensorflow:loss = 0.0009183675, step = 21101 (0.164 sec)\n",
      "INFO:tensorflow:global_step/sec: 623.57\n",
      "INFO:tensorflow:loss = 0.0065237884, step = 21201 (0.160 sec)\n",
      "INFO:tensorflow:global_step/sec: 619.94\n",
      "INFO:tensorflow:loss = 0.00089748605, step = 21301 (0.161 sec)\n",
      "INFO:tensorflow:global_step/sec: 612.377\n",
      "INFO:tensorflow:loss = 0.0022178642, step = 21401 (0.163 sec)\n",
      "INFO:tensorflow:global_step/sec: 612.994\n",
      "INFO:tensorflow:loss = 0.00019050384, step = 21501 (0.163 sec)\n",
      "INFO:tensorflow:global_step/sec: 611.19\n",
      "INFO:tensorflow:loss = 0.0010809074, step = 21601 (0.164 sec)\n",
      "INFO:tensorflow:global_step/sec: 608.021\n",
      "INFO:tensorflow:loss = 0.0011009608, step = 21701 (0.164 sec)\n",
      "INFO:tensorflow:global_step/sec: 612.513\n",
      "INFO:tensorflow:loss = 0.0010657678, step = 21801 (0.163 sec)\n",
      "INFO:tensorflow:global_step/sec: 611.827\n",
      "INFO:tensorflow:loss = 0.0009377233, step = 21901 (0.163 sec)\n",
      "INFO:tensorflow:global_step/sec: 607.113\n",
      "INFO:tensorflow:loss = 0.00035079697, step = 22001 (0.165 sec)\n",
      "INFO:tensorflow:global_step/sec: 610.702\n",
      "INFO:tensorflow:loss = 0.0002586876, step = 22101 (0.164 sec)\n",
      "INFO:tensorflow:global_step/sec: 610.817\n",
      "INFO:tensorflow:loss = 0.0012486746, step = 22201 (0.164 sec)\n",
      "INFO:tensorflow:global_step/sec: 600.388\n",
      "INFO:tensorflow:loss = 0.0016312526, step = 22301 (0.167 sec)\n",
      "INFO:tensorflow:global_step/sec: 602.119\n",
      "INFO:tensorflow:loss = 0.0016409443, step = 22401 (0.166 sec)\n",
      "INFO:tensorflow:global_step/sec: 588.661\n",
      "INFO:tensorflow:loss = 0.0020127946, step = 22501 (0.170 sec)\n",
      "INFO:tensorflow:global_step/sec: 613.201\n",
      "INFO:tensorflow:loss = 0.0026247364, step = 22601 (0.163 sec)\n",
      "INFO:tensorflow:global_step/sec: 614.627\n",
      "INFO:tensorflow:loss = 0.0006979762, step = 22701 (0.163 sec)\n",
      "INFO:tensorflow:global_step/sec: 607.57\n",
      "INFO:tensorflow:loss = 0.0012774166, step = 22801 (0.165 sec)\n",
      "INFO:tensorflow:global_step/sec: 582.015\n",
      "INFO:tensorflow:loss = 0.002400388, step = 22901 (0.172 sec)\n",
      "INFO:tensorflow:global_step/sec: 598.23\n",
      "INFO:tensorflow:loss = 0.000992446, step = 23001 (0.167 sec)\n",
      "INFO:tensorflow:global_step/sec: 604.175\n",
      "INFO:tensorflow:loss = 0.004410347, step = 23101 (0.165 sec)\n",
      "INFO:tensorflow:global_step/sec: 574.824\n"
     ]
    },
    {
     "name": "stdout",
     "output_type": "stream",
     "text": [
      "INFO:tensorflow:loss = 0.0017352236, step = 23201 (0.175 sec)\n",
      "INFO:tensorflow:global_step/sec: 546.441\n",
      "INFO:tensorflow:loss = 0.002226826, step = 23301 (0.182 sec)\n",
      "INFO:tensorflow:global_step/sec: 576.715\n",
      "INFO:tensorflow:loss = 0.0007256684, step = 23401 (0.173 sec)\n",
      "INFO:tensorflow:global_step/sec: 526.935\n",
      "INFO:tensorflow:loss = 0.00059190457, step = 23501 (0.190 sec)\n",
      "INFO:tensorflow:global_step/sec: 502.755\n",
      "INFO:tensorflow:loss = 0.00066422636, step = 23601 (0.199 sec)\n",
      "INFO:tensorflow:global_step/sec: 489.438\n",
      "INFO:tensorflow:loss = 0.0004310972, step = 23701 (0.204 sec)\n",
      "INFO:tensorflow:global_step/sec: 528.762\n",
      "INFO:tensorflow:loss = 0.0011430397, step = 23801 (0.189 sec)\n",
      "INFO:tensorflow:global_step/sec: 542.896\n",
      "INFO:tensorflow:loss = 0.0017941196, step = 23901 (0.184 sec)\n",
      "INFO:tensorflow:global_step/sec: 555.368\n",
      "INFO:tensorflow:loss = 0.0010763649, step = 24001 (0.180 sec)\n",
      "INFO:tensorflow:global_step/sec: 547.528\n",
      "INFO:tensorflow:loss = 0.0005140181, step = 24101 (0.183 sec)\n",
      "INFO:tensorflow:global_step/sec: 543.396\n",
      "INFO:tensorflow:loss = 0.0014454249, step = 24201 (0.184 sec)\n",
      "INFO:tensorflow:global_step/sec: 566.935\n",
      "INFO:tensorflow:loss = 9.848423e-05, step = 24301 (0.176 sec)\n",
      "INFO:tensorflow:global_step/sec: 565.272\n",
      "INFO:tensorflow:loss = 0.002273977, step = 24401 (0.177 sec)\n",
      "INFO:tensorflow:global_step/sec: 573.83\n",
      "INFO:tensorflow:loss = 0.00072479324, step = 24501 (0.174 sec)\n",
      "INFO:tensorflow:global_step/sec: 580.457\n",
      "INFO:tensorflow:loss = 0.00042098176, step = 24601 (0.172 sec)\n",
      "INFO:tensorflow:global_step/sec: 573.341\n",
      "INFO:tensorflow:loss = 0.0012196952, step = 24701 (0.174 sec)\n",
      "INFO:tensorflow:global_step/sec: 581.532\n",
      "INFO:tensorflow:loss = 0.0015884016, step = 24801 (0.172 sec)\n",
      "INFO:tensorflow:global_step/sec: 575.854\n",
      "INFO:tensorflow:loss = 0.0014105267, step = 24901 (0.174 sec)\n",
      "INFO:tensorflow:global_step/sec: 581.242\n",
      "INFO:tensorflow:loss = 0.0003822595, step = 25001 (0.172 sec)\n",
      "INFO:tensorflow:global_step/sec: 572.384\n",
      "INFO:tensorflow:loss = 0.0008404902, step = 25101 (0.175 sec)\n",
      "INFO:tensorflow:global_step/sec: 577.968\n",
      "INFO:tensorflow:loss = 0.0022868882, step = 25201 (0.173 sec)\n",
      "INFO:tensorflow:global_step/sec: 578.857\n",
      "INFO:tensorflow:loss = 0.00017267274, step = 25301 (0.173 sec)\n",
      "INFO:tensorflow:global_step/sec: 582.307\n",
      "INFO:tensorflow:loss = 0.00041598725, step = 25401 (0.172 sec)\n",
      "INFO:tensorflow:global_step/sec: 574.699\n",
      "INFO:tensorflow:loss = 0.0012525507, step = 25501 (0.174 sec)\n",
      "INFO:tensorflow:global_step/sec: 592.789\n",
      "INFO:tensorflow:loss = 0.0010435603, step = 25601 (0.169 sec)\n",
      "INFO:tensorflow:global_step/sec: 556.041\n",
      "INFO:tensorflow:loss = 0.00056038325, step = 25701 (0.180 sec)\n",
      "INFO:tensorflow:global_step/sec: 569.563\n",
      "INFO:tensorflow:loss = 0.0007936673, step = 25801 (0.176 sec)\n",
      "INFO:tensorflow:global_step/sec: 555.589\n",
      "INFO:tensorflow:loss = 0.0014891237, step = 25901 (0.180 sec)\n",
      "INFO:tensorflow:global_step/sec: 575.822\n",
      "INFO:tensorflow:loss = 8.873688e-05, step = 26001 (0.174 sec)\n",
      "INFO:tensorflow:global_step/sec: 578.67\n",
      "INFO:tensorflow:loss = 0.00083864876, step = 26101 (0.173 sec)\n",
      "INFO:tensorflow:global_step/sec: 576.449\n",
      "INFO:tensorflow:loss = 0.0005587341, step = 26201 (0.173 sec)\n",
      "INFO:tensorflow:global_step/sec: 557.509\n",
      "INFO:tensorflow:loss = 0.00072947226, step = 26301 (0.179 sec)\n",
      "INFO:tensorflow:global_step/sec: 582.014\n",
      "INFO:tensorflow:loss = 0.0019289765, step = 26401 (0.172 sec)\n",
      "INFO:tensorflow:global_step/sec: 579.418\n",
      "INFO:tensorflow:loss = 0.00055925205, step = 26501 (0.172 sec)\n",
      "INFO:tensorflow:global_step/sec: 572.115\n",
      "INFO:tensorflow:loss = 0.00061329594, step = 26601 (0.175 sec)\n",
      "INFO:tensorflow:global_step/sec: 577.06\n",
      "INFO:tensorflow:loss = 8.2105935e-06, step = 26701 (0.174 sec)\n",
      "INFO:tensorflow:global_step/sec: 573.681\n",
      "INFO:tensorflow:loss = 0.00052417204, step = 26801 (0.174 sec)\n",
      "INFO:tensorflow:global_step/sec: 580.51\n",
      "INFO:tensorflow:loss = 0.00081701635, step = 26901 (0.172 sec)\n",
      "INFO:tensorflow:global_step/sec: 580.912\n",
      "INFO:tensorflow:loss = 0.0007437704, step = 27001 (0.172 sec)\n",
      "INFO:tensorflow:global_step/sec: 583.441\n",
      "INFO:tensorflow:loss = 0.00039870248, step = 27101 (0.172 sec)\n",
      "INFO:tensorflow:global_step/sec: 559.623\n",
      "INFO:tensorflow:loss = 0.0006539585, step = 27201 (0.178 sec)\n",
      "INFO:tensorflow:global_step/sec: 582.92\n",
      "INFO:tensorflow:loss = 0.0019852016, step = 27301 (0.172 sec)\n",
      "INFO:tensorflow:global_step/sec: 577.071\n",
      "INFO:tensorflow:loss = 0.00018321171, step = 27401 (0.173 sec)\n",
      "INFO:tensorflow:global_step/sec: 570.558\n",
      "INFO:tensorflow:loss = 0.0013442155, step = 27501 (0.175 sec)\n",
      "INFO:tensorflow:global_step/sec: 579.498\n",
      "INFO:tensorflow:loss = 0.0009675388, step = 27601 (0.173 sec)\n",
      "INFO:tensorflow:global_step/sec: 591.835\n",
      "INFO:tensorflow:loss = 0.00018686603, step = 27701 (0.169 sec)\n",
      "INFO:tensorflow:global_step/sec: 562.439\n",
      "INFO:tensorflow:loss = 0.0001941891, step = 27801 (0.178 sec)\n",
      "INFO:tensorflow:global_step/sec: 583.138\n",
      "INFO:tensorflow:loss = 0.00042666504, step = 27901 (0.172 sec)\n",
      "INFO:tensorflow:global_step/sec: 600.36\n",
      "INFO:tensorflow:loss = 0.0012213413, step = 28001 (0.166 sec)\n",
      "INFO:tensorflow:global_step/sec: 615.017\n",
      "INFO:tensorflow:loss = 0.00042209632, step = 28101 (0.163 sec)\n",
      "INFO:tensorflow:global_step/sec: 610.05\n",
      "INFO:tensorflow:loss = 0.0010289093, step = 28201 (0.164 sec)\n",
      "INFO:tensorflow:global_step/sec: 621.384\n",
      "INFO:tensorflow:loss = 0.0007445427, step = 28301 (0.161 sec)\n",
      "INFO:tensorflow:global_step/sec: 589.644\n",
      "INFO:tensorflow:loss = 0.0008210117, step = 28401 (0.170 sec)\n",
      "INFO:tensorflow:global_step/sec: 592.993\n",
      "INFO:tensorflow:loss = 0.00035269425, step = 28501 (0.168 sec)\n",
      "INFO:tensorflow:global_step/sec: 608.127\n",
      "INFO:tensorflow:loss = 0.0005201573, step = 28601 (0.164 sec)\n",
      "INFO:tensorflow:global_step/sec: 612.79\n",
      "INFO:tensorflow:loss = 0.0010770776, step = 28701 (0.163 sec)\n",
      "INFO:tensorflow:global_step/sec: 618.127\n",
      "INFO:tensorflow:loss = 0.0012521809, step = 28801 (0.162 sec)\n",
      "INFO:tensorflow:global_step/sec: 612.704\n",
      "INFO:tensorflow:loss = 0.00028278035, step = 28901 (0.163 sec)\n",
      "INFO:tensorflow:global_step/sec: 474.498\n",
      "INFO:tensorflow:loss = 0.0019632762, step = 29001 (0.211 sec)\n",
      "INFO:tensorflow:global_step/sec: 549.544\n",
      "INFO:tensorflow:loss = 0.0014584559, step = 29101 (0.182 sec)\n",
      "INFO:tensorflow:global_step/sec: 545.361\n",
      "INFO:tensorflow:loss = 0.0016945436, step = 29201 (0.183 sec)\n",
      "INFO:tensorflow:global_step/sec: 572.675\n",
      "INFO:tensorflow:loss = 0.0018105274, step = 29301 (0.175 sec)\n",
      "INFO:tensorflow:global_step/sec: 562.588\n",
      "INFO:tensorflow:loss = 0.0010145827, step = 29401 (0.177 sec)\n",
      "INFO:tensorflow:global_step/sec: 532.091\n",
      "INFO:tensorflow:loss = 0.0010941825, step = 29501 (0.188 sec)\n",
      "INFO:tensorflow:global_step/sec: 530.788\n",
      "INFO:tensorflow:loss = 0.00050865306, step = 29601 (0.188 sec)\n",
      "INFO:tensorflow:global_step/sec: 531.997\n",
      "INFO:tensorflow:loss = 0.00033346415, step = 29701 (0.189 sec)\n",
      "INFO:tensorflow:global_step/sec: 519.524\n",
      "INFO:tensorflow:loss = 0.0007310691, step = 29801 (0.192 sec)\n",
      "INFO:tensorflow:global_step/sec: 566.64\n",
      "INFO:tensorflow:loss = 0.0011707356, step = 29901 (0.176 sec)\n",
      "INFO:tensorflow:global_step/sec: 587.237\n",
      "INFO:tensorflow:loss = 6.0689832e-05, step = 30001 (0.170 sec)\n",
      "INFO:tensorflow:global_step/sec: 552.038\n",
      "INFO:tensorflow:loss = 0.0004608261, step = 30101 (0.181 sec)\n",
      "INFO:tensorflow:global_step/sec: 572.138\n",
      "INFO:tensorflow:loss = 0.0005632654, step = 30201 (0.175 sec)\n",
      "INFO:tensorflow:global_step/sec: 605.232\n",
      "INFO:tensorflow:loss = 0.0008877587, step = 30301 (0.165 sec)\n",
      "INFO:tensorflow:global_step/sec: 620.759\n",
      "INFO:tensorflow:loss = 0.0013810219, step = 30401 (0.161 sec)\n",
      "INFO:tensorflow:global_step/sec: 617.707\n",
      "INFO:tensorflow:loss = 0.00077195285, step = 30501 (0.162 sec)\n",
      "INFO:tensorflow:global_step/sec: 603.887\n",
      "INFO:tensorflow:loss = 0.0010490572, step = 30601 (0.166 sec)\n",
      "INFO:tensorflow:global_step/sec: 617.044\n",
      "INFO:tensorflow:loss = 0.00074017054, step = 30701 (0.162 sec)\n",
      "INFO:tensorflow:global_step/sec: 606.645\n",
      "INFO:tensorflow:loss = 0.0014423053, step = 30801 (0.165 sec)\n",
      "INFO:tensorflow:global_step/sec: 608.198\n",
      "INFO:tensorflow:loss = 0.0012451091, step = 30901 (0.164 sec)\n",
      "INFO:tensorflow:global_step/sec: 601.939\n",
      "INFO:tensorflow:loss = 0.0014470362, step = 31001 (0.166 sec)\n",
      "INFO:tensorflow:global_step/sec: 617.234\n",
      "INFO:tensorflow:loss = 0.000990813, step = 31101 (0.162 sec)\n"
     ]
    },
    {
     "name": "stdout",
     "output_type": "stream",
     "text": [
      "INFO:tensorflow:global_step/sec: 617.802\n",
      "INFO:tensorflow:loss = 0.00037729822, step = 31201 (0.162 sec)\n",
      "INFO:tensorflow:global_step/sec: 616.105\n",
      "INFO:tensorflow:loss = 0.0007811908, step = 31301 (0.162 sec)\n",
      "INFO:tensorflow:global_step/sec: 618.612\n",
      "INFO:tensorflow:loss = 0.001277635, step = 31401 (0.162 sec)\n",
      "INFO:tensorflow:global_step/sec: 623.597\n",
      "INFO:tensorflow:loss = 0.00018046824, step = 31501 (0.160 sec)\n",
      "INFO:tensorflow:global_step/sec: 609.588\n",
      "INFO:tensorflow:loss = 0.00028529283, step = 31601 (0.164 sec)\n",
      "INFO:tensorflow:global_step/sec: 616.907\n",
      "INFO:tensorflow:loss = 0.00062832556, step = 31701 (0.162 sec)\n",
      "INFO:tensorflow:global_step/sec: 623.772\n",
      "INFO:tensorflow:loss = 0.00030795197, step = 31801 (0.160 sec)\n",
      "INFO:tensorflow:global_step/sec: 605.503\n",
      "INFO:tensorflow:loss = 0.00078143226, step = 31901 (0.165 sec)\n",
      "INFO:tensorflow:global_step/sec: 615.574\n",
      "INFO:tensorflow:loss = 0.0005259356, step = 32001 (0.162 sec)\n",
      "INFO:tensorflow:global_step/sec: 617.783\n",
      "INFO:tensorflow:loss = 0.00040727333, step = 32101 (0.162 sec)\n",
      "INFO:tensorflow:global_step/sec: 617.543\n",
      "INFO:tensorflow:loss = 0.00092130713, step = 32201 (0.162 sec)\n",
      "INFO:tensorflow:global_step/sec: 621.2\n",
      "INFO:tensorflow:loss = 0.00071369705, step = 32301 (0.161 sec)\n",
      "INFO:tensorflow:global_step/sec: 615.85\n",
      "INFO:tensorflow:loss = 0.00015408423, step = 32401 (0.162 sec)\n",
      "INFO:tensorflow:global_step/sec: 617.573\n",
      "INFO:tensorflow:loss = 0.00054024684, step = 32501 (0.162 sec)\n",
      "INFO:tensorflow:global_step/sec: 609.207\n",
      "INFO:tensorflow:loss = 8.5339154e-05, step = 32601 (0.164 sec)\n",
      "INFO:tensorflow:global_step/sec: 605.345\n",
      "INFO:tensorflow:loss = 0.0010433522, step = 32701 (0.166 sec)\n",
      "INFO:tensorflow:global_step/sec: 596.488\n",
      "INFO:tensorflow:loss = 0.0007130434, step = 32801 (0.167 sec)\n",
      "INFO:tensorflow:global_step/sec: 619.045\n",
      "INFO:tensorflow:loss = 0.0006421642, step = 32901 (0.162 sec)\n",
      "INFO:tensorflow:global_step/sec: 610.561\n",
      "INFO:tensorflow:loss = 0.00054466014, step = 33001 (0.164 sec)\n",
      "INFO:tensorflow:global_step/sec: 611.471\n",
      "INFO:tensorflow:loss = 0.001958009, step = 33101 (0.164 sec)\n",
      "INFO:tensorflow:global_step/sec: 610.845\n",
      "INFO:tensorflow:loss = 0.0010805228, step = 33201 (0.164 sec)\n",
      "INFO:tensorflow:global_step/sec: 620.116\n",
      "INFO:tensorflow:loss = 0.0002283418, step = 33301 (0.161 sec)\n",
      "INFO:tensorflow:global_step/sec: 601.409\n",
      "INFO:tensorflow:loss = 0.0012369868, step = 33401 (0.166 sec)\n",
      "INFO:tensorflow:global_step/sec: 608.254\n",
      "INFO:tensorflow:loss = 0.00032247082, step = 33501 (0.164 sec)\n",
      "INFO:tensorflow:global_step/sec: 621.868\n",
      "INFO:tensorflow:loss = 0.001112912, step = 33601 (0.161 sec)\n",
      "INFO:tensorflow:global_step/sec: 618.371\n",
      "INFO:tensorflow:loss = 0.0009847444, step = 33701 (0.162 sec)\n",
      "INFO:tensorflow:global_step/sec: 603.304\n",
      "INFO:tensorflow:loss = 0.0006848951, step = 33801 (0.166 sec)\n",
      "INFO:tensorflow:global_step/sec: 595.543\n",
      "INFO:tensorflow:loss = 0.0011238405, step = 33901 (0.168 sec)\n",
      "INFO:tensorflow:global_step/sec: 550.173\n",
      "INFO:tensorflow:loss = 0.0008901836, step = 34001 (0.181 sec)\n",
      "INFO:tensorflow:global_step/sec: 617.585\n",
      "INFO:tensorflow:loss = 0.00062111253, step = 34101 (0.162 sec)\n",
      "INFO:tensorflow:global_step/sec: 615.108\n",
      "INFO:tensorflow:loss = 0.0010873615, step = 34201 (0.163 sec)\n",
      "INFO:tensorflow:global_step/sec: 595.433\n",
      "INFO:tensorflow:loss = 0.00022442797, step = 34301 (0.168 sec)\n",
      "INFO:tensorflow:global_step/sec: 621.903\n",
      "INFO:tensorflow:loss = 0.0004187435, step = 34401 (0.161 sec)\n",
      "INFO:tensorflow:global_step/sec: 617.531\n",
      "INFO:tensorflow:loss = 0.00046593286, step = 34501 (0.162 sec)\n",
      "INFO:tensorflow:global_step/sec: 617.173\n",
      "INFO:tensorflow:loss = 0.00034647182, step = 34601 (0.162 sec)\n",
      "INFO:tensorflow:global_step/sec: 602.794\n",
      "INFO:tensorflow:loss = 0.0013955379, step = 34701 (0.166 sec)\n",
      "INFO:tensorflow:global_step/sec: 579.747\n",
      "INFO:tensorflow:loss = 0.00037965286, step = 34801 (0.172 sec)\n",
      "INFO:tensorflow:global_step/sec: 562.326\n",
      "INFO:tensorflow:loss = 0.00081054255, step = 34901 (0.178 sec)\n",
      "INFO:tensorflow:global_step/sec: 582.296\n",
      "INFO:tensorflow:loss = 0.0003272448, step = 35001 (0.172 sec)\n",
      "INFO:tensorflow:global_step/sec: 554.923\n",
      "INFO:tensorflow:loss = 0.0010107323, step = 35101 (0.180 sec)\n",
      "INFO:tensorflow:global_step/sec: 450.924\n",
      "INFO:tensorflow:loss = 0.00022794554, step = 35201 (0.222 sec)\n",
      "INFO:tensorflow:global_step/sec: 477.781\n",
      "INFO:tensorflow:loss = 0.00026564367, step = 35301 (0.209 sec)\n",
      "INFO:tensorflow:global_step/sec: 540.608\n",
      "INFO:tensorflow:loss = 0.0011657475, step = 35401 (0.185 sec)\n",
      "INFO:tensorflow:global_step/sec: 579.696\n",
      "INFO:tensorflow:loss = 0.00029407803, step = 35501 (0.172 sec)\n",
      "INFO:tensorflow:global_step/sec: 568.616\n",
      "INFO:tensorflow:loss = 0.00033642873, step = 35601 (0.176 sec)\n",
      "INFO:tensorflow:global_step/sec: 492.57\n",
      "INFO:tensorflow:loss = 0.0005209794, step = 35701 (0.203 sec)\n",
      "INFO:tensorflow:global_step/sec: 542.149\n",
      "INFO:tensorflow:loss = 0.00061035313, step = 35801 (0.185 sec)\n",
      "INFO:tensorflow:global_step/sec: 478.178\n",
      "INFO:tensorflow:loss = 0.00073734805, step = 35901 (0.211 sec)\n",
      "INFO:tensorflow:global_step/sec: 158.379\n",
      "INFO:tensorflow:loss = 0.00036080444, step = 36001 (0.631 sec)\n",
      "INFO:tensorflow:global_step/sec: 285.593\n",
      "INFO:tensorflow:loss = 0.0012771707, step = 36101 (0.349 sec)\n",
      "INFO:tensorflow:global_step/sec: 317.881\n",
      "INFO:tensorflow:loss = 0.0007212186, step = 36201 (0.315 sec)\n",
      "INFO:tensorflow:global_step/sec: 419.176\n",
      "INFO:tensorflow:loss = 0.00031325564, step = 36301 (0.237 sec)\n",
      "INFO:tensorflow:global_step/sec: 557.175\n",
      "INFO:tensorflow:loss = 0.0005661776, step = 36401 (0.179 sec)\n",
      "INFO:tensorflow:global_step/sec: 562.082\n",
      "INFO:tensorflow:loss = 0.00028935683, step = 36501 (0.178 sec)\n",
      "INFO:tensorflow:global_step/sec: 554.585\n",
      "INFO:tensorflow:loss = 0.00045277402, step = 36601 (0.180 sec)\n",
      "INFO:tensorflow:global_step/sec: 584.57\n",
      "INFO:tensorflow:loss = 0.00027652283, step = 36701 (0.171 sec)\n",
      "INFO:tensorflow:global_step/sec: 561.334\n",
      "INFO:tensorflow:loss = 0.00079702766, step = 36801 (0.178 sec)\n",
      "INFO:tensorflow:global_step/sec: 540.567\n",
      "INFO:tensorflow:loss = 0.00075398805, step = 36901 (0.185 sec)\n",
      "INFO:tensorflow:global_step/sec: 541.703\n",
      "INFO:tensorflow:loss = 0.0014106712, step = 37001 (0.184 sec)\n",
      "INFO:tensorflow:global_step/sec: 516.51\n",
      "INFO:tensorflow:loss = 0.00026645587, step = 37101 (0.194 sec)\n",
      "INFO:tensorflow:global_step/sec: 596.819\n",
      "INFO:tensorflow:loss = 0.00033099207, step = 37201 (0.168 sec)\n",
      "INFO:tensorflow:global_step/sec: 568.117\n",
      "INFO:tensorflow:loss = 0.0008874142, step = 37301 (0.176 sec)\n",
      "INFO:tensorflow:global_step/sec: 574.383\n",
      "INFO:tensorflow:loss = 0.00032958467, step = 37401 (0.174 sec)\n",
      "INFO:tensorflow:global_step/sec: 577.134\n",
      "INFO:tensorflow:loss = 0.00019108351, step = 37501 (0.173 sec)\n",
      "INFO:tensorflow:global_step/sec: 576.828\n",
      "INFO:tensorflow:loss = 0.00037654914, step = 37601 (0.173 sec)\n",
      "INFO:tensorflow:global_step/sec: 582.506\n",
      "INFO:tensorflow:loss = 0.00013092795, step = 37701 (0.172 sec)\n",
      "INFO:tensorflow:global_step/sec: 580.832\n",
      "INFO:tensorflow:loss = 0.00032485233, step = 37801 (0.172 sec)\n",
      "INFO:tensorflow:global_step/sec: 580.74\n",
      "INFO:tensorflow:loss = 0.0013232523, step = 37901 (0.173 sec)\n",
      "INFO:tensorflow:global_step/sec: 580.602\n",
      "INFO:tensorflow:loss = 0.00026580063, step = 38001 (0.172 sec)\n",
      "INFO:tensorflow:global_step/sec: 581.29\n",
      "INFO:tensorflow:loss = 0.00056844385, step = 38101 (0.172 sec)\n",
      "INFO:tensorflow:global_step/sec: 575.537\n",
      "INFO:tensorflow:loss = 0.0005958867, step = 38201 (0.174 sec)\n",
      "INFO:tensorflow:global_step/sec: 580.663\n",
      "INFO:tensorflow:loss = 8.0148384e-05, step = 38301 (0.172 sec)\n",
      "INFO:tensorflow:global_step/sec: 568.695\n",
      "INFO:tensorflow:loss = 0.00018028583, step = 38401 (0.176 sec)\n",
      "INFO:tensorflow:global_step/sec: 573.73\n",
      "INFO:tensorflow:loss = 0.00043786253, step = 38501 (0.175 sec)\n",
      "INFO:tensorflow:global_step/sec: 589.842\n",
      "INFO:tensorflow:loss = 0.00069258554, step = 38601 (0.169 sec)\n",
      "INFO:tensorflow:global_step/sec: 574.908\n",
      "INFO:tensorflow:loss = 0.00033589383, step = 38701 (0.174 sec)\n",
      "INFO:tensorflow:global_step/sec: 579.425\n",
      "INFO:tensorflow:loss = 0.00012673618, step = 38801 (0.173 sec)\n",
      "INFO:tensorflow:global_step/sec: 574.967\n",
      "INFO:tensorflow:loss = 0.0013137326, step = 38901 (0.174 sec)\n",
      "INFO:tensorflow:global_step/sec: 574.786\n",
      "INFO:tensorflow:loss = 0.00010135887, step = 39001 (0.174 sec)\n",
      "INFO:tensorflow:global_step/sec: 546.218\n"
     ]
    },
    {
     "name": "stdout",
     "output_type": "stream",
     "text": [
      "INFO:tensorflow:loss = 0.00092111423, step = 39101 (0.183 sec)\n",
      "INFO:tensorflow:global_step/sec: 571.044\n",
      "INFO:tensorflow:loss = 0.00040538423, step = 39201 (0.175 sec)\n",
      "INFO:tensorflow:global_step/sec: 590.34\n",
      "INFO:tensorflow:loss = 0.000336163, step = 39301 (0.169 sec)\n",
      "INFO:tensorflow:global_step/sec: 587.396\n",
      "INFO:tensorflow:loss = 0.0005468019, step = 39401 (0.170 sec)\n",
      "INFO:tensorflow:global_step/sec: 591.989\n",
      "INFO:tensorflow:loss = 0.00029204064, step = 39501 (0.169 sec)\n",
      "INFO:tensorflow:global_step/sec: 590.818\n",
      "INFO:tensorflow:loss = 0.0005105185, step = 39601 (0.169 sec)\n",
      "INFO:tensorflow:global_step/sec: 592.147\n",
      "INFO:tensorflow:loss = 0.00022984853, step = 39701 (0.169 sec)\n",
      "INFO:tensorflow:global_step/sec: 589.449\n",
      "INFO:tensorflow:loss = 0.0011348161, step = 39801 (0.170 sec)\n",
      "INFO:tensorflow:global_step/sec: 589.389\n",
      "INFO:tensorflow:loss = 0.00074003905, step = 39901 (0.170 sec)\n",
      "INFO:tensorflow:Saving checkpoints for 40000 into /var/folders/zc/c024qb1j19s5blmjkt_b8pzr0000gn/T/tmp9lqjj3lw/model.ckpt.\n",
      "INFO:tensorflow:Loss for final step: 0.00051569066.\n"
     ]
    },
    {
     "data": {
      "text/plain": [
       "SKCompat()"
      ]
     },
     "execution_count": 61,
     "metadata": {},
     "output_type": "execute_result"
    }
   ],
   "source": [
    "import tensorflow as tf\n",
    "\n",
    "config = tf.contrib.learn.RunConfig(tf_random_seed=42) # not shown in the config\n",
    "\n",
    "feature_cols = tf.contrib.learn.infer_real_valued_columns_from_input(X_train)\n",
    "dnn_clf = tf.contrib.learn.DNNClassifier(hidden_units=[300,100], n_classes=10,\n",
    "                                         feature_columns=feature_cols, config=config)\n",
    "dnn_clf = tf.contrib.learn.SKCompat(dnn_clf) # if TensorFlow >= 1.1\n",
    "dnn_clf.fit(X_train, y_train, batch_size=50, steps=40000)"
   ]
  },
  {
   "cell_type": "code",
   "execution_count": 64,
   "metadata": {},
   "outputs": [
    {
     "name": "stdout",
     "output_type": "stream",
     "text": [
      "INFO:tensorflow:Graph was finalized.\n",
      "INFO:tensorflow:Restoring parameters from /var/folders/zc/c024qb1j19s5blmjkt_b8pzr0000gn/T/tmp9lqjj3lw/model.ckpt-40000\n",
      "INFO:tensorflow:Running local_init_op.\n",
      "INFO:tensorflow:Done running local_init_op.\n"
     ]
    },
    {
     "data": {
      "text/plain": [
       "0.9829"
      ]
     },
     "execution_count": 64,
     "metadata": {},
     "output_type": "execute_result"
    }
   ],
   "source": [
    "from sklearn.metrics import accuracy_score\n",
    "\n",
    "y_pred = dnn_clf.predict(X_test)\n",
    "accuracy_score(y_test, y_pred['classes'])"
   ]
  },
  {
   "cell_type": "code",
   "execution_count": 65,
   "metadata": {},
   "outputs": [
    {
     "data": {
      "text/plain": [
       "0.07101056167650813"
      ]
     },
     "execution_count": 65,
     "metadata": {},
     "output_type": "execute_result"
    }
   ],
   "source": [
    "from sklearn.metrics import log_loss\n",
    "\n",
    "y_pred_proba = y_pred['probabilities']\n",
    "log_loss(y_test, y_pred_proba)"
   ]
  },
  {
   "cell_type": "markdown",
   "metadata": {},
   "source": [
    "## Using plain TensorFlow"
   ]
  },
  {
   "cell_type": "code",
   "execution_count": 66,
   "metadata": {
    "collapsed": true
   },
   "outputs": [],
   "source": [
    "import tensorflow as tf\n",
    "\n",
    "n_inputs = 28*28  # MNIST\n",
    "n_hidden1 = 300\n",
    "n_hidden2 = 100\n",
    "n_outputs = 10"
   ]
  },
  {
   "cell_type": "code",
   "execution_count": 67,
   "metadata": {
    "collapsed": true
   },
   "outputs": [],
   "source": [
    "reset_graph()\n",
    "\n",
    "# placeholder nodes to hold the (batch) training data and predictions\n",
    "X = tf.placeholder(tf.float32, shape=(None, n_inputs), name=\"X\")\n",
    "y = tf.placeholder(tf.int64, shape=(None), name=\"y\")"
   ]
  },
  {
   "cell_type": "code",
   "execution_count": 68,
   "metadata": {
    "collapsed": true
   },
   "outputs": [],
   "source": [
    "def neuron_layer(X, n_neurons, name, activation=None):\n",
    "    with tf.name_scope(name):\n",
    "        n_inputs = int(X.get_shape()[1])\n",
    "        stddev = 2 / np.sqrt(n_inputs)\n",
    "        init = tf.truncated_normal((n_inputs, n_neurons), stddev=stddev)\n",
    "        W = tf.Variable(init, name=\"kernel\")\n",
    "        b = tf.Variable(tf.zeros([n_neurons]), name=\"bias\")\n",
    "        Z = tf.matmul(X, W) + b\n",
    "        if activation is not None:\n",
    "            return activation(Z)\n",
    "        else:\n",
    "            return Z"
   ]
  },
  {
   "cell_type": "markdown",
   "metadata": {},
   "source": [
    "Now we create a MLP with 2 hidden layers:"
   ]
  },
  {
   "cell_type": "code",
   "execution_count": 69,
   "metadata": {
    "collapsed": true
   },
   "outputs": [],
   "source": [
    "with tf.name_scope(\"dnn\"):\n",
    "    hidden1 = neuron_layer(X, n_hidden1, name=\"hidden1\",\n",
    "                           activation=tf.nn.relu)\n",
    "    hidden2 = neuron_layer(hidden1, n_hidden2, name=\"hidden2\",\n",
    "                           activation=tf.nn.relu)\n",
    "    logits = neuron_layer(hidden2, n_outputs, name=\"outputs\")"
   ]
  },
  {
   "cell_type": "markdown",
   "metadata": {},
   "source": [
    "Note that the `logits` is the output of the neural network _before_ going through the softmax activation function. See that it has no activation associated with it yet. We now define the softmax activation in the following:"
   ]
  },
  {
   "cell_type": "code",
   "execution_count": 70,
   "metadata": {
    "collapsed": true
   },
   "outputs": [],
   "source": [
    "with tf.name_scope(\"loss\"):\n",
    "    xentropy = tf.nn.sparse_softmax_cross_entropy_with_logits(labels=y,\n",
    "                                                              logits=logits)\n",
    "    loss = tf.reduce_mean(xentropy, name=\"loss\")"
   ]
  },
  {
   "cell_type": "code",
   "execution_count": 71,
   "metadata": {
    "collapsed": true
   },
   "outputs": [],
   "source": [
    "learning_rate = 0.01\n",
    "\n",
    "with tf.name_scope(\"train\"):\n",
    "    optimizer = tf.train.GradientDescentOptimizer(learning_rate)\n",
    "    training_op = optimizer.minimize(loss)"
   ]
  },
  {
   "cell_type": "code",
   "execution_count": 72,
   "metadata": {
    "collapsed": true
   },
   "outputs": [],
   "source": [
    "with tf.name_scope(\"eval\"):\n",
    "    # whether the targets are in the top K predictions.\n",
    "    correct = tf.nn.in_top_k(logits, y, 1)\n",
    "    accuracy = tf.reduce_mean(tf.cast(correct, tf.float32))"
   ]
  },
  {
   "cell_type": "code",
   "execution_count": 73,
   "metadata": {},
   "outputs": [
    {
     "name": "stdout",
     "output_type": "stream",
     "text": [
      "0 Train accuracy: 0.88 Test accuracy: 0.9169\n",
      "1 Train accuracy: 0.92 Test accuracy: 0.9315\n",
      "2 Train accuracy: 0.92 Test accuracy: 0.9393\n",
      "3 Train accuracy: 0.96 Test accuracy: 0.9457\n",
      "4 Train accuracy: 0.92 Test accuracy: 0.9496\n",
      "5 Train accuracy: 0.94 Test accuracy: 0.953\n",
      "6 Train accuracy: 0.96 Test accuracy: 0.9563\n",
      "7 Train accuracy: 0.96 Test accuracy: 0.9579\n",
      "8 Train accuracy: 0.94 Test accuracy: 0.9605\n",
      "9 Train accuracy: 0.98 Test accuracy: 0.962\n",
      "10 Train accuracy: 1.0 Test accuracy: 0.964\n",
      "11 Train accuracy: 0.9 Test accuracy: 0.9649\n",
      "12 Train accuracy: 0.98 Test accuracy: 0.9662\n",
      "13 Train accuracy: 0.98 Test accuracy: 0.9652\n",
      "14 Train accuracy: 1.0 Test accuracy: 0.9687\n",
      "15 Train accuracy: 1.0 Test accuracy: 0.9682\n",
      "16 Train accuracy: 1.0 Test accuracy: 0.9684\n",
      "17 Train accuracy: 0.96 Test accuracy: 0.9701\n",
      "18 Train accuracy: 1.0 Test accuracy: 0.9705\n",
      "19 Train accuracy: 1.0 Test accuracy: 0.9712\n",
      "20 Train accuracy: 1.0 Test accuracy: 0.9701\n",
      "21 Train accuracy: 1.0 Test accuracy: 0.9721\n",
      "22 Train accuracy: 1.0 Test accuracy: 0.9715\n",
      "23 Train accuracy: 1.0 Test accuracy: 0.9733\n",
      "24 Train accuracy: 1.0 Test accuracy: 0.9726\n",
      "25 Train accuracy: 1.0 Test accuracy: 0.9727\n",
      "26 Train accuracy: 0.98 Test accuracy: 0.9736\n",
      "27 Train accuracy: 1.0 Test accuracy: 0.9741\n",
      "28 Train accuracy: 0.98 Test accuracy: 0.9742\n",
      "29 Train accuracy: 1.0 Test accuracy: 0.9739\n",
      "30 Train accuracy: 1.0 Test accuracy: 0.975\n",
      "31 Train accuracy: 1.0 Test accuracy: 0.9738\n",
      "32 Train accuracy: 0.98 Test accuracy: 0.9741\n",
      "33 Train accuracy: 0.98 Test accuracy: 0.9739\n",
      "34 Train accuracy: 0.98 Test accuracy: 0.9758\n",
      "35 Train accuracy: 1.0 Test accuracy: 0.975\n",
      "36 Train accuracy: 0.98 Test accuracy: 0.9747\n",
      "37 Train accuracy: 0.98 Test accuracy: 0.9755\n",
      "38 Train accuracy: 1.0 Test accuracy: 0.9759\n",
      "39 Train accuracy: 1.0 Test accuracy: 0.9761\n"
     ]
    }
   ],
   "source": [
    "init = tf.global_variables_initializer()\n",
    "saver = tf.train.Saver()\n",
    "\n",
    "n_epochs = 40\n",
    "batch_size = 50\n",
    "\n",
    "with tf.Session() as sess:\n",
    "    init.run()\n",
    "    for epoch in range(n_epochs):\n",
    "        for iteration in range(mnist.train.num_examples // batch_size):\n",
    "            X_batch, y_batch = mnist.train.next_batch(batch_size)\n",
    "            sess.run(training_op, feed_dict={X: X_batch, y: y_batch})\n",
    "        acc_train = accuracy.eval(feed_dict={X: X_batch, y: y_batch})\n",
    "        acc_test = accuracy.eval(feed_dict={X: mnist.test.images, y: mnist.test.labels})\n",
    "        print(epoch, \"Train accuracy:\", acc_train, \"Test accuracy:\", acc_test)\n",
    "\n",
    "    save_path = saver.save(sess, \"./my_model_final.ckpt\")"
   ]
  },
  {
   "cell_type": "code",
   "execution_count": 74,
   "metadata": {},
   "outputs": [
    {
     "name": "stdout",
     "output_type": "stream",
     "text": [
      "INFO:tensorflow:Restoring parameters from ./my_model_final.ckpt\n"
     ]
    }
   ],
   "source": [
    "with tf.Session() as sess:\n",
    "    saver.restore(sess, \"./my_model_final.ckpt\") # or better, use save_path\n",
    "    X_new_scaled = mnist.test.images[:20]\n",
    "    Z = logits.eval(feed_dict={X: X_new_scaled})\n",
    "    y_pred = np.argmax(Z, axis=1)"
   ]
  },
  {
   "cell_type": "code",
   "execution_count": 75,
   "metadata": {},
   "outputs": [
    {
     "name": "stdout",
     "output_type": "stream",
     "text": [
      "Predicted classes: [7 2 1 0 4 1 4 9 6 9 0 6 9 0 1 5 9 7 3 4]\n",
      "Actual classes:    [7 2 1 0 4 1 4 9 5 9 0 6 9 0 1 5 9 7 3 4]\n"
     ]
    }
   ],
   "source": [
    "print(\"Predicted classes:\", y_pred)\n",
    "print(\"Actual classes:   \", mnist.test.labels[:20])"
   ]
  },
  {
   "cell_type": "code",
   "execution_count": 76,
   "metadata": {
    "collapsed": true
   },
   "outputs": [],
   "source": [
    "from IPython.display import clear_output, Image, display, HTML\n",
    "\n",
    "def strip_consts(graph_def, max_const_size=32):\n",
    "    \"\"\"Strip large constant values from graph_def.\"\"\"\n",
    "    strip_def = tf.GraphDef()\n",
    "    for n0 in graph_def.node:\n",
    "        n = strip_def.node.add() \n",
    "        n.MergeFrom(n0)\n",
    "        if n.op == 'Const':\n",
    "            tensor = n.attr['value'].tensor\n",
    "            size = len(tensor.tensor_content)\n",
    "            if size > max_const_size:\n",
    "                tensor.tensor_content = b\"<stripped %d bytes>\"%size\n",
    "    return strip_def\n",
    "\n",
    "def show_graph(graph_def, max_const_size=32):\n",
    "    \"\"\"Visualize TensorFlow graph.\"\"\"\n",
    "    if hasattr(graph_def, 'as_graph_def'):\n",
    "        graph_def = graph_def.as_graph_def()\n",
    "    strip_def = strip_consts(graph_def, max_const_size=max_const_size)\n",
    "    code = \"\"\"\n",
    "        <script>\n",
    "          function load() {{\n",
    "            document.getElementById(\"{id}\").pbtxt = {data};\n",
    "          }}\n",
    "        </script>\n",
    "        <link rel=\"import\" href=\"https://tensorboard.appspot.com/tf-graph-basic.build.html\" onload=load()>\n",
    "        <div style=\"height:600px\">\n",
    "          <tf-graph-basic id=\"{id}\"></tf-graph-basic>\n",
    "        </div>\n",
    "    \"\"\".format(data=repr(str(strip_def)), id='graph'+str(np.random.rand()))\n",
    "\n",
    "    iframe = \"\"\"\n",
    "        <iframe seamless style=\"width:1200px;height:620px;border:0\" srcdoc=\"{}\"></iframe>\n",
    "    \"\"\".format(code.replace('\"', '&quot;'))\n",
    "    display(HTML(iframe))"
   ]
  },
  {
   "cell_type": "code",
   "execution_count": 77,
   "metadata": {},
   "outputs": [
    {
     "data": {
      "text/html": [
       "\n",
       "        <iframe seamless style=\"width:1200px;height:620px;border:0\" srcdoc=\"\n",
       "        <script>\n",
       "          function load() {\n",
       "            document.getElementById(&quot;graph0.2851015593374667&quot;).pbtxt = 'node {\\n  name: &quot;X&quot;\\n  op: &quot;Placeholder&quot;\\n  attr {\\n    key: &quot;dtype&quot;\\n    value {\\n      type: DT_FLOAT\\n    }\\n  }\\n  attr {\\n    key: &quot;shape&quot;\\n    value {\\n      shape {\\n        dim {\\n          size: -1\\n        }\\n        dim {\\n          size: 784\\n        }\\n      }\\n    }\\n  }\\n}\\nnode {\\n  name: &quot;y&quot;\\n  op: &quot;Placeholder&quot;\\n  attr {\\n    key: &quot;dtype&quot;\\n    value {\\n      type: DT_INT64\\n    }\\n  }\\n  attr {\\n    key: &quot;shape&quot;\\n    value {\\n      shape {\\n        unknown_rank: true\\n      }\\n    }\\n  }\\n}\\nnode {\\n  name: &quot;dnn/hidden1/truncated_normal/shape&quot;\\n  op: &quot;Const&quot;\\n  attr {\\n    key: &quot;dtype&quot;\\n    value {\\n      type: DT_INT32\\n    }\\n  }\\n  attr {\\n    key: &quot;value&quot;\\n    value {\\n      tensor {\\n        dtype: DT_INT32\\n        tensor_shape {\\n          dim {\\n            size: 2\\n          }\\n        }\\n        tensor_content: &quot;\\\\020\\\\003\\\\000\\\\000,\\\\001\\\\000\\\\000&quot;\\n      }\\n    }\\n  }\\n}\\nnode {\\n  name: &quot;dnn/hidden1/truncated_normal/mean&quot;\\n  op: &quot;Const&quot;\\n  attr {\\n    key: &quot;dtype&quot;\\n    value {\\n      type: DT_FLOAT\\n    }\\n  }\\n  attr {\\n    key: &quot;value&quot;\\n    value {\\n      tensor {\\n        dtype: DT_FLOAT\\n        tensor_shape {\\n        }\\n        float_val: 0.0\\n      }\\n    }\\n  }\\n}\\nnode {\\n  name: &quot;dnn/hidden1/truncated_normal/stddev&quot;\\n  op: &quot;Const&quot;\\n  attr {\\n    key: &quot;dtype&quot;\\n    value {\\n      type: DT_FLOAT\\n    }\\n  }\\n  attr {\\n    key: &quot;value&quot;\\n    value {\\n      tensor {\\n        dtype: DT_FLOAT\\n        tensor_shape {\\n        }\\n        float_val: 0.0714285746216774\\n      }\\n    }\\n  }\\n}\\nnode {\\n  name: &quot;dnn/hidden1/truncated_normal/TruncatedNormal&quot;\\n  op: &quot;TruncatedNormal&quot;\\n  input: &quot;dnn/hidden1/truncated_normal/shape&quot;\\n  attr {\\n    key: &quot;T&quot;\\n    value {\\n      type: DT_INT32\\n    }\\n  }\\n  attr {\\n    key: &quot;dtype&quot;\\n    value {\\n      type: DT_FLOAT\\n    }\\n  }\\n  attr {\\n    key: &quot;seed&quot;\\n    value {\\n      i: 42\\n    }\\n  }\\n  attr {\\n    key: &quot;seed2&quot;\\n    value {\\n      i: 5\\n    }\\n  }\\n}\\nnode {\\n  name: &quot;dnn/hidden1/truncated_normal/mul&quot;\\n  op: &quot;Mul&quot;\\n  input: &quot;dnn/hidden1/truncated_normal/TruncatedNormal&quot;\\n  input: &quot;dnn/hidden1/truncated_normal/stddev&quot;\\n  attr {\\n    key: &quot;T&quot;\\n    value {\\n      type: DT_FLOAT\\n    }\\n  }\\n}\\nnode {\\n  name: &quot;dnn/hidden1/truncated_normal&quot;\\n  op: &quot;Add&quot;\\n  input: &quot;dnn/hidden1/truncated_normal/mul&quot;\\n  input: &quot;dnn/hidden1/truncated_normal/mean&quot;\\n  attr {\\n    key: &quot;T&quot;\\n    value {\\n      type: DT_FLOAT\\n    }\\n  }\\n}\\nnode {\\n  name: &quot;dnn/hidden1/kernel&quot;\\n  op: &quot;VariableV2&quot;\\n  attr {\\n    key: &quot;container&quot;\\n    value {\\n      s: &quot;&quot;\\n    }\\n  }\\n  attr {\\n    key: &quot;dtype&quot;\\n    value {\\n      type: DT_FLOAT\\n    }\\n  }\\n  attr {\\n    key: &quot;shape&quot;\\n    value {\\n      shape {\\n        dim {\\n          size: 784\\n        }\\n        dim {\\n          size: 300\\n        }\\n      }\\n    }\\n  }\\n  attr {\\n    key: &quot;shared_name&quot;\\n    value {\\n      s: &quot;&quot;\\n    }\\n  }\\n}\\nnode {\\n  name: &quot;dnn/hidden1/kernel/Assign&quot;\\n  op: &quot;Assign&quot;\\n  input: &quot;dnn/hidden1/kernel&quot;\\n  input: &quot;dnn/hidden1/truncated_normal&quot;\\n  attr {\\n    key: &quot;T&quot;\\n    value {\\n      type: DT_FLOAT\\n    }\\n  }\\n  attr {\\n    key: &quot;_class&quot;\\n    value {\\n      list {\\n        s: &quot;loc:@dnn/hidden1/kernel&quot;\\n      }\\n    }\\n  }\\n  attr {\\n    key: &quot;use_locking&quot;\\n    value {\\n      b: true\\n    }\\n  }\\n  attr {\\n    key: &quot;validate_shape&quot;\\n    value {\\n      b: true\\n    }\\n  }\\n}\\nnode {\\n  name: &quot;dnn/hidden1/kernel/read&quot;\\n  op: &quot;Identity&quot;\\n  input: &quot;dnn/hidden1/kernel&quot;\\n  attr {\\n    key: &quot;T&quot;\\n    value {\\n      type: DT_FLOAT\\n    }\\n  }\\n  attr {\\n    key: &quot;_class&quot;\\n    value {\\n      list {\\n        s: &quot;loc:@dnn/hidden1/kernel&quot;\\n      }\\n    }\\n  }\\n}\\nnode {\\n  name: &quot;dnn/hidden1/zeros/shape_as_tensor&quot;\\n  op: &quot;Const&quot;\\n  attr {\\n    key: &quot;dtype&quot;\\n    value {\\n      type: DT_INT32\\n    }\\n  }\\n  attr {\\n    key: &quot;value&quot;\\n    value {\\n      tensor {\\n        dtype: DT_INT32\\n        tensor_shape {\\n          dim {\\n            size: 1\\n          }\\n        }\\n        int_val: 300\\n      }\\n    }\\n  }\\n}\\nnode {\\n  name: &quot;dnn/hidden1/zeros/Const&quot;\\n  op: &quot;Const&quot;\\n  attr {\\n    key: &quot;dtype&quot;\\n    value {\\n      type: DT_FLOAT\\n    }\\n  }\\n  attr {\\n    key: &quot;value&quot;\\n    value {\\n      tensor {\\n        dtype: DT_FLOAT\\n        tensor_shape {\\n        }\\n        float_val: 0.0\\n      }\\n    }\\n  }\\n}\\nnode {\\n  name: &quot;dnn/hidden1/zeros&quot;\\n  op: &quot;Fill&quot;\\n  input: &quot;dnn/hidden1/zeros/shape_as_tensor&quot;\\n  input: &quot;dnn/hidden1/zeros/Const&quot;\\n  attr {\\n    key: &quot;T&quot;\\n    value {\\n      type: DT_FLOAT\\n    }\\n  }\\n  attr {\\n    key: &quot;index_type&quot;\\n    value {\\n      type: DT_INT32\\n    }\\n  }\\n}\\nnode {\\n  name: &quot;dnn/hidden1/bias&quot;\\n  op: &quot;VariableV2&quot;\\n  attr {\\n    key: &quot;container&quot;\\n    value {\\n      s: &quot;&quot;\\n    }\\n  }\\n  attr {\\n    key: &quot;dtype&quot;\\n    value {\\n      type: DT_FLOAT\\n    }\\n  }\\n  attr {\\n    key: &quot;shape&quot;\\n    value {\\n      shape {\\n        dim {\\n          size: 300\\n        }\\n      }\\n    }\\n  }\\n  attr {\\n    key: &quot;shared_name&quot;\\n    value {\\n      s: &quot;&quot;\\n    }\\n  }\\n}\\nnode {\\n  name: &quot;dnn/hidden1/bias/Assign&quot;\\n  op: &quot;Assign&quot;\\n  input: &quot;dnn/hidden1/bias&quot;\\n  input: &quot;dnn/hidden1/zeros&quot;\\n  attr {\\n    key: &quot;T&quot;\\n    value {\\n      type: DT_FLOAT\\n    }\\n  }\\n  attr {\\n    key: &quot;_class&quot;\\n    value {\\n      list {\\n        s: &quot;loc:@dnn/hidden1/bias&quot;\\n      }\\n    }\\n  }\\n  attr {\\n    key: &quot;use_locking&quot;\\n    value {\\n      b: true\\n    }\\n  }\\n  attr {\\n    key: &quot;validate_shape&quot;\\n    value {\\n      b: true\\n    }\\n  }\\n}\\nnode {\\n  name: &quot;dnn/hidden1/bias/read&quot;\\n  op: &quot;Identity&quot;\\n  input: &quot;dnn/hidden1/bias&quot;\\n  attr {\\n    key: &quot;T&quot;\\n    value {\\n      type: DT_FLOAT\\n    }\\n  }\\n  attr {\\n    key: &quot;_class&quot;\\n    value {\\n      list {\\n        s: &quot;loc:@dnn/hidden1/bias&quot;\\n      }\\n    }\\n  }\\n}\\nnode {\\n  name: &quot;dnn/hidden1/MatMul&quot;\\n  op: &quot;MatMul&quot;\\n  input: &quot;X&quot;\\n  input: &quot;dnn/hidden1/kernel/read&quot;\\n  attr {\\n    key: &quot;T&quot;\\n    value {\\n      type: DT_FLOAT\\n    }\\n  }\\n  attr {\\n    key: &quot;transpose_a&quot;\\n    value {\\n      b: false\\n    }\\n  }\\n  attr {\\n    key: &quot;transpose_b&quot;\\n    value {\\n      b: false\\n    }\\n  }\\n}\\nnode {\\n  name: &quot;dnn/hidden1/add&quot;\\n  op: &quot;Add&quot;\\n  input: &quot;dnn/hidden1/MatMul&quot;\\n  input: &quot;dnn/hidden1/bias/read&quot;\\n  attr {\\n    key: &quot;T&quot;\\n    value {\\n      type: DT_FLOAT\\n    }\\n  }\\n}\\nnode {\\n  name: &quot;dnn/hidden1/Relu&quot;\\n  op: &quot;Relu&quot;\\n  input: &quot;dnn/hidden1/add&quot;\\n  attr {\\n    key: &quot;T&quot;\\n    value {\\n      type: DT_FLOAT\\n    }\\n  }\\n}\\nnode {\\n  name: &quot;dnn/hidden2/truncated_normal/shape&quot;\\n  op: &quot;Const&quot;\\n  attr {\\n    key: &quot;dtype&quot;\\n    value {\\n      type: DT_INT32\\n    }\\n  }\\n  attr {\\n    key: &quot;value&quot;\\n    value {\\n      tensor {\\n        dtype: DT_INT32\\n        tensor_shape {\\n          dim {\\n            size: 2\\n          }\\n        }\\n        tensor_content: &quot;,\\\\001\\\\000\\\\000d\\\\000\\\\000\\\\000&quot;\\n      }\\n    }\\n  }\\n}\\nnode {\\n  name: &quot;dnn/hidden2/truncated_normal/mean&quot;\\n  op: &quot;Const&quot;\\n  attr {\\n    key: &quot;dtype&quot;\\n    value {\\n      type: DT_FLOAT\\n    }\\n  }\\n  attr {\\n    key: &quot;value&quot;\\n    value {\\n      tensor {\\n        dtype: DT_FLOAT\\n        tensor_shape {\\n        }\\n        float_val: 0.0\\n      }\\n    }\\n  }\\n}\\nnode {\\n  name: &quot;dnn/hidden2/truncated_normal/stddev&quot;\\n  op: &quot;Const&quot;\\n  attr {\\n    key: &quot;dtype&quot;\\n    value {\\n      type: DT_FLOAT\\n    }\\n  }\\n  attr {\\n    key: &quot;value&quot;\\n    value {\\n      tensor {\\n        dtype: DT_FLOAT\\n        tensor_shape {\\n        }\\n        float_val: 0.1154700517654419\\n      }\\n    }\\n  }\\n}\\nnode {\\n  name: &quot;dnn/hidden2/truncated_normal/TruncatedNormal&quot;\\n  op: &quot;TruncatedNormal&quot;\\n  input: &quot;dnn/hidden2/truncated_normal/shape&quot;\\n  attr {\\n    key: &quot;T&quot;\\n    value {\\n      type: DT_INT32\\n    }\\n  }\\n  attr {\\n    key: &quot;dtype&quot;\\n    value {\\n      type: DT_FLOAT\\n    }\\n  }\\n  attr {\\n    key: &quot;seed&quot;\\n    value {\\n      i: 42\\n    }\\n  }\\n  attr {\\n    key: &quot;seed2&quot;\\n    value {\\n      i: 23\\n    }\\n  }\\n}\\nnode {\\n  name: &quot;dnn/hidden2/truncated_normal/mul&quot;\\n  op: &quot;Mul&quot;\\n  input: &quot;dnn/hidden2/truncated_normal/TruncatedNormal&quot;\\n  input: &quot;dnn/hidden2/truncated_normal/stddev&quot;\\n  attr {\\n    key: &quot;T&quot;\\n    value {\\n      type: DT_FLOAT\\n    }\\n  }\\n}\\nnode {\\n  name: &quot;dnn/hidden2/truncated_normal&quot;\\n  op: &quot;Add&quot;\\n  input: &quot;dnn/hidden2/truncated_normal/mul&quot;\\n  input: &quot;dnn/hidden2/truncated_normal/mean&quot;\\n  attr {\\n    key: &quot;T&quot;\\n    value {\\n      type: DT_FLOAT\\n    }\\n  }\\n}\\nnode {\\n  name: &quot;dnn/hidden2/kernel&quot;\\n  op: &quot;VariableV2&quot;\\n  attr {\\n    key: &quot;container&quot;\\n    value {\\n      s: &quot;&quot;\\n    }\\n  }\\n  attr {\\n    key: &quot;dtype&quot;\\n    value {\\n      type: DT_FLOAT\\n    }\\n  }\\n  attr {\\n    key: &quot;shape&quot;\\n    value {\\n      shape {\\n        dim {\\n          size: 300\\n        }\\n        dim {\\n          size: 100\\n        }\\n      }\\n    }\\n  }\\n  attr {\\n    key: &quot;shared_name&quot;\\n    value {\\n      s: &quot;&quot;\\n    }\\n  }\\n}\\nnode {\\n  name: &quot;dnn/hidden2/kernel/Assign&quot;\\n  op: &quot;Assign&quot;\\n  input: &quot;dnn/hidden2/kernel&quot;\\n  input: &quot;dnn/hidden2/truncated_normal&quot;\\n  attr {\\n    key: &quot;T&quot;\\n    value {\\n      type: DT_FLOAT\\n    }\\n  }\\n  attr {\\n    key: &quot;_class&quot;\\n    value {\\n      list {\\n        s: &quot;loc:@dnn/hidden2/kernel&quot;\\n      }\\n    }\\n  }\\n  attr {\\n    key: &quot;use_locking&quot;\\n    value {\\n      b: true\\n    }\\n  }\\n  attr {\\n    key: &quot;validate_shape&quot;\\n    value {\\n      b: true\\n    }\\n  }\\n}\\nnode {\\n  name: &quot;dnn/hidden2/kernel/read&quot;\\n  op: &quot;Identity&quot;\\n  input: &quot;dnn/hidden2/kernel&quot;\\n  attr {\\n    key: &quot;T&quot;\\n    value {\\n      type: DT_FLOAT\\n    }\\n  }\\n  attr {\\n    key: &quot;_class&quot;\\n    value {\\n      list {\\n        s: &quot;loc:@dnn/hidden2/kernel&quot;\\n      }\\n    }\\n  }\\n}\\nnode {\\n  name: &quot;dnn/hidden2/zeros/shape_as_tensor&quot;\\n  op: &quot;Const&quot;\\n  attr {\\n    key: &quot;dtype&quot;\\n    value {\\n      type: DT_INT32\\n    }\\n  }\\n  attr {\\n    key: &quot;value&quot;\\n    value {\\n      tensor {\\n        dtype: DT_INT32\\n        tensor_shape {\\n          dim {\\n            size: 1\\n          }\\n        }\\n        int_val: 100\\n      }\\n    }\\n  }\\n}\\nnode {\\n  name: &quot;dnn/hidden2/zeros/Const&quot;\\n  op: &quot;Const&quot;\\n  attr {\\n    key: &quot;dtype&quot;\\n    value {\\n      type: DT_FLOAT\\n    }\\n  }\\n  attr {\\n    key: &quot;value&quot;\\n    value {\\n      tensor {\\n        dtype: DT_FLOAT\\n        tensor_shape {\\n        }\\n        float_val: 0.0\\n      }\\n    }\\n  }\\n}\\nnode {\\n  name: &quot;dnn/hidden2/zeros&quot;\\n  op: &quot;Fill&quot;\\n  input: &quot;dnn/hidden2/zeros/shape_as_tensor&quot;\\n  input: &quot;dnn/hidden2/zeros/Const&quot;\\n  attr {\\n    key: &quot;T&quot;\\n    value {\\n      type: DT_FLOAT\\n    }\\n  }\\n  attr {\\n    key: &quot;index_type&quot;\\n    value {\\n      type: DT_INT32\\n    }\\n  }\\n}\\nnode {\\n  name: &quot;dnn/hidden2/bias&quot;\\n  op: &quot;VariableV2&quot;\\n  attr {\\n    key: &quot;container&quot;\\n    value {\\n      s: &quot;&quot;\\n    }\\n  }\\n  attr {\\n    key: &quot;dtype&quot;\\n    value {\\n      type: DT_FLOAT\\n    }\\n  }\\n  attr {\\n    key: &quot;shape&quot;\\n    value {\\n      shape {\\n        dim {\\n          size: 100\\n        }\\n      }\\n    }\\n  }\\n  attr {\\n    key: &quot;shared_name&quot;\\n    value {\\n      s: &quot;&quot;\\n    }\\n  }\\n}\\nnode {\\n  name: &quot;dnn/hidden2/bias/Assign&quot;\\n  op: &quot;Assign&quot;\\n  input: &quot;dnn/hidden2/bias&quot;\\n  input: &quot;dnn/hidden2/zeros&quot;\\n  attr {\\n    key: &quot;T&quot;\\n    value {\\n      type: DT_FLOAT\\n    }\\n  }\\n  attr {\\n    key: &quot;_class&quot;\\n    value {\\n      list {\\n        s: &quot;loc:@dnn/hidden2/bias&quot;\\n      }\\n    }\\n  }\\n  attr {\\n    key: &quot;use_locking&quot;\\n    value {\\n      b: true\\n    }\\n  }\\n  attr {\\n    key: &quot;validate_shape&quot;\\n    value {\\n      b: true\\n    }\\n  }\\n}\\nnode {\\n  name: &quot;dnn/hidden2/bias/read&quot;\\n  op: &quot;Identity&quot;\\n  input: &quot;dnn/hidden2/bias&quot;\\n  attr {\\n    key: &quot;T&quot;\\n    value {\\n      type: DT_FLOAT\\n    }\\n  }\\n  attr {\\n    key: &quot;_class&quot;\\n    value {\\n      list {\\n        s: &quot;loc:@dnn/hidden2/bias&quot;\\n      }\\n    }\\n  }\\n}\\nnode {\\n  name: &quot;dnn/hidden2/MatMul&quot;\\n  op: &quot;MatMul&quot;\\n  input: &quot;dnn/hidden1/Relu&quot;\\n  input: &quot;dnn/hidden2/kernel/read&quot;\\n  attr {\\n    key: &quot;T&quot;\\n    value {\\n      type: DT_FLOAT\\n    }\\n  }\\n  attr {\\n    key: &quot;transpose_a&quot;\\n    value {\\n      b: false\\n    }\\n  }\\n  attr {\\n    key: &quot;transpose_b&quot;\\n    value {\\n      b: false\\n    }\\n  }\\n}\\nnode {\\n  name: &quot;dnn/hidden2/add&quot;\\n  op: &quot;Add&quot;\\n  input: &quot;dnn/hidden2/MatMul&quot;\\n  input: &quot;dnn/hidden2/bias/read&quot;\\n  attr {\\n    key: &quot;T&quot;\\n    value {\\n      type: DT_FLOAT\\n    }\\n  }\\n}\\nnode {\\n  name: &quot;dnn/hidden2/Relu&quot;\\n  op: &quot;Relu&quot;\\n  input: &quot;dnn/hidden2/add&quot;\\n  attr {\\n    key: &quot;T&quot;\\n    value {\\n      type: DT_FLOAT\\n    }\\n  }\\n}\\nnode {\\n  name: &quot;dnn/outputs/truncated_normal/shape&quot;\\n  op: &quot;Const&quot;\\n  attr {\\n    key: &quot;dtype&quot;\\n    value {\\n      type: DT_INT32\\n    }\\n  }\\n  attr {\\n    key: &quot;value&quot;\\n    value {\\n      tensor {\\n        dtype: DT_INT32\\n        tensor_shape {\\n          dim {\\n            size: 2\\n          }\\n        }\\n        tensor_content: &quot;d\\\\000\\\\000\\\\000\\\\n\\\\000\\\\000\\\\000&quot;\\n      }\\n    }\\n  }\\n}\\nnode {\\n  name: &quot;dnn/outputs/truncated_normal/mean&quot;\\n  op: &quot;Const&quot;\\n  attr {\\n    key: &quot;dtype&quot;\\n    value {\\n      type: DT_FLOAT\\n    }\\n  }\\n  attr {\\n    key: &quot;value&quot;\\n    value {\\n      tensor {\\n        dtype: DT_FLOAT\\n        tensor_shape {\\n        }\\n        float_val: 0.0\\n      }\\n    }\\n  }\\n}\\nnode {\\n  name: &quot;dnn/outputs/truncated_normal/stddev&quot;\\n  op: &quot;Const&quot;\\n  attr {\\n    key: &quot;dtype&quot;\\n    value {\\n      type: DT_FLOAT\\n    }\\n  }\\n  attr {\\n    key: &quot;value&quot;\\n    value {\\n      tensor {\\n        dtype: DT_FLOAT\\n        tensor_shape {\\n        }\\n        float_val: 0.20000000298023224\\n      }\\n    }\\n  }\\n}\\nnode {\\n  name: &quot;dnn/outputs/truncated_normal/TruncatedNormal&quot;\\n  op: &quot;TruncatedNormal&quot;\\n  input: &quot;dnn/outputs/truncated_normal/shape&quot;\\n  attr {\\n    key: &quot;T&quot;\\n    value {\\n      type: DT_INT32\\n    }\\n  }\\n  attr {\\n    key: &quot;dtype&quot;\\n    value {\\n      type: DT_FLOAT\\n    }\\n  }\\n  attr {\\n    key: &quot;seed&quot;\\n    value {\\n      i: 42\\n    }\\n  }\\n  attr {\\n    key: &quot;seed2&quot;\\n    value {\\n      i: 41\\n    }\\n  }\\n}\\nnode {\\n  name: &quot;dnn/outputs/truncated_normal/mul&quot;\\n  op: &quot;Mul&quot;\\n  input: &quot;dnn/outputs/truncated_normal/TruncatedNormal&quot;\\n  input: &quot;dnn/outputs/truncated_normal/stddev&quot;\\n  attr {\\n    key: &quot;T&quot;\\n    value {\\n      type: DT_FLOAT\\n    }\\n  }\\n}\\nnode {\\n  name: &quot;dnn/outputs/truncated_normal&quot;\\n  op: &quot;Add&quot;\\n  input: &quot;dnn/outputs/truncated_normal/mul&quot;\\n  input: &quot;dnn/outputs/truncated_normal/mean&quot;\\n  attr {\\n    key: &quot;T&quot;\\n    value {\\n      type: DT_FLOAT\\n    }\\n  }\\n}\\nnode {\\n  name: &quot;dnn/outputs/kernel&quot;\\n  op: &quot;VariableV2&quot;\\n  attr {\\n    key: &quot;container&quot;\\n    value {\\n      s: &quot;&quot;\\n    }\\n  }\\n  attr {\\n    key: &quot;dtype&quot;\\n    value {\\n      type: DT_FLOAT\\n    }\\n  }\\n  attr {\\n    key: &quot;shape&quot;\\n    value {\\n      shape {\\n        dim {\\n          size: 100\\n        }\\n        dim {\\n          size: 10\\n        }\\n      }\\n    }\\n  }\\n  attr {\\n    key: &quot;shared_name&quot;\\n    value {\\n      s: &quot;&quot;\\n    }\\n  }\\n}\\nnode {\\n  name: &quot;dnn/outputs/kernel/Assign&quot;\\n  op: &quot;Assign&quot;\\n  input: &quot;dnn/outputs/kernel&quot;\\n  input: &quot;dnn/outputs/truncated_normal&quot;\\n  attr {\\n    key: &quot;T&quot;\\n    value {\\n      type: DT_FLOAT\\n    }\\n  }\\n  attr {\\n    key: &quot;_class&quot;\\n    value {\\n      list {\\n        s: &quot;loc:@dnn/outputs/kernel&quot;\\n      }\\n    }\\n  }\\n  attr {\\n    key: &quot;use_locking&quot;\\n    value {\\n      b: true\\n    }\\n  }\\n  attr {\\n    key: &quot;validate_shape&quot;\\n    value {\\n      b: true\\n    }\\n  }\\n}\\nnode {\\n  name: &quot;dnn/outputs/kernel/read&quot;\\n  op: &quot;Identity&quot;\\n  input: &quot;dnn/outputs/kernel&quot;\\n  attr {\\n    key: &quot;T&quot;\\n    value {\\n      type: DT_FLOAT\\n    }\\n  }\\n  attr {\\n    key: &quot;_class&quot;\\n    value {\\n      list {\\n        s: &quot;loc:@dnn/outputs/kernel&quot;\\n      }\\n    }\\n  }\\n}\\nnode {\\n  name: &quot;dnn/outputs/zeros/shape_as_tensor&quot;\\n  op: &quot;Const&quot;\\n  attr {\\n    key: &quot;dtype&quot;\\n    value {\\n      type: DT_INT32\\n    }\\n  }\\n  attr {\\n    key: &quot;value&quot;\\n    value {\\n      tensor {\\n        dtype: DT_INT32\\n        tensor_shape {\\n          dim {\\n            size: 1\\n          }\\n        }\\n        int_val: 10\\n      }\\n    }\\n  }\\n}\\nnode {\\n  name: &quot;dnn/outputs/zeros/Const&quot;\\n  op: &quot;Const&quot;\\n  attr {\\n    key: &quot;dtype&quot;\\n    value {\\n      type: DT_FLOAT\\n    }\\n  }\\n  attr {\\n    key: &quot;value&quot;\\n    value {\\n      tensor {\\n        dtype: DT_FLOAT\\n        tensor_shape {\\n        }\\n        float_val: 0.0\\n      }\\n    }\\n  }\\n}\\nnode {\\n  name: &quot;dnn/outputs/zeros&quot;\\n  op: &quot;Fill&quot;\\n  input: &quot;dnn/outputs/zeros/shape_as_tensor&quot;\\n  input: &quot;dnn/outputs/zeros/Const&quot;\\n  attr {\\n    key: &quot;T&quot;\\n    value {\\n      type: DT_FLOAT\\n    }\\n  }\\n  attr {\\n    key: &quot;index_type&quot;\\n    value {\\n      type: DT_INT32\\n    }\\n  }\\n}\\nnode {\\n  name: &quot;dnn/outputs/bias&quot;\\n  op: &quot;VariableV2&quot;\\n  attr {\\n    key: &quot;container&quot;\\n    value {\\n      s: &quot;&quot;\\n    }\\n  }\\n  attr {\\n    key: &quot;dtype&quot;\\n    value {\\n      type: DT_FLOAT\\n    }\\n  }\\n  attr {\\n    key: &quot;shape&quot;\\n    value {\\n      shape {\\n        dim {\\n          size: 10\\n        }\\n      }\\n    }\\n  }\\n  attr {\\n    key: &quot;shared_name&quot;\\n    value {\\n      s: &quot;&quot;\\n    }\\n  }\\n}\\nnode {\\n  name: &quot;dnn/outputs/bias/Assign&quot;\\n  op: &quot;Assign&quot;\\n  input: &quot;dnn/outputs/bias&quot;\\n  input: &quot;dnn/outputs/zeros&quot;\\n  attr {\\n    key: &quot;T&quot;\\n    value {\\n      type: DT_FLOAT\\n    }\\n  }\\n  attr {\\n    key: &quot;_class&quot;\\n    value {\\n      list {\\n        s: &quot;loc:@dnn/outputs/bias&quot;\\n      }\\n    }\\n  }\\n  attr {\\n    key: &quot;use_locking&quot;\\n    value {\\n      b: true\\n    }\\n  }\\n  attr {\\n    key: &quot;validate_shape&quot;\\n    value {\\n      b: true\\n    }\\n  }\\n}\\nnode {\\n  name: &quot;dnn/outputs/bias/read&quot;\\n  op: &quot;Identity&quot;\\n  input: &quot;dnn/outputs/bias&quot;\\n  attr {\\n    key: &quot;T&quot;\\n    value {\\n      type: DT_FLOAT\\n    }\\n  }\\n  attr {\\n    key: &quot;_class&quot;\\n    value {\\n      list {\\n        s: &quot;loc:@dnn/outputs/bias&quot;\\n      }\\n    }\\n  }\\n}\\nnode {\\n  name: &quot;dnn/outputs/MatMul&quot;\\n  op: &quot;MatMul&quot;\\n  input: &quot;dnn/hidden2/Relu&quot;\\n  input: &quot;dnn/outputs/kernel/read&quot;\\n  attr {\\n    key: &quot;T&quot;\\n    value {\\n      type: DT_FLOAT\\n    }\\n  }\\n  attr {\\n    key: &quot;transpose_a&quot;\\n    value {\\n      b: false\\n    }\\n  }\\n  attr {\\n    key: &quot;transpose_b&quot;\\n    value {\\n      b: false\\n    }\\n  }\\n}\\nnode {\\n  name: &quot;dnn/outputs/add&quot;\\n  op: &quot;Add&quot;\\n  input: &quot;dnn/outputs/MatMul&quot;\\n  input: &quot;dnn/outputs/bias/read&quot;\\n  attr {\\n    key: &quot;T&quot;\\n    value {\\n      type: DT_FLOAT\\n    }\\n  }\\n}\\nnode {\\n  name: &quot;loss/SparseSoftmaxCrossEntropyWithLogits/Shape&quot;\\n  op: &quot;Shape&quot;\\n  input: &quot;y&quot;\\n  attr {\\n    key: &quot;T&quot;\\n    value {\\n      type: DT_INT64\\n    }\\n  }\\n  attr {\\n    key: &quot;out_type&quot;\\n    value {\\n      type: DT_INT32\\n    }\\n  }\\n}\\nnode {\\n  name: &quot;loss/SparseSoftmaxCrossEntropyWithLogits/SparseSoftmaxCrossEntropyWithLogits&quot;\\n  op: &quot;SparseSoftmaxCrossEntropyWithLogits&quot;\\n  input: &quot;dnn/outputs/add&quot;\\n  input: &quot;y&quot;\\n  attr {\\n    key: &quot;T&quot;\\n    value {\\n      type: DT_FLOAT\\n    }\\n  }\\n  attr {\\n    key: &quot;Tlabels&quot;\\n    value {\\n      type: DT_INT64\\n    }\\n  }\\n}\\nnode {\\n  name: &quot;loss/Const&quot;\\n  op: &quot;Const&quot;\\n  attr {\\n    key: &quot;dtype&quot;\\n    value {\\n      type: DT_INT32\\n    }\\n  }\\n  attr {\\n    key: &quot;value&quot;\\n    value {\\n      tensor {\\n        dtype: DT_INT32\\n        tensor_shape {\\n          dim {\\n            size: 1\\n          }\\n        }\\n        int_val: 0\\n      }\\n    }\\n  }\\n}\\nnode {\\n  name: &quot;loss/loss&quot;\\n  op: &quot;Mean&quot;\\n  input: &quot;loss/SparseSoftmaxCrossEntropyWithLogits/SparseSoftmaxCrossEntropyWithLogits&quot;\\n  input: &quot;loss/Const&quot;\\n  attr {\\n    key: &quot;T&quot;\\n    value {\\n      type: DT_FLOAT\\n    }\\n  }\\n  attr {\\n    key: &quot;Tidx&quot;\\n    value {\\n      type: DT_INT32\\n    }\\n  }\\n  attr {\\n    key: &quot;keep_dims&quot;\\n    value {\\n      b: false\\n    }\\n  }\\n}\\nnode {\\n  name: &quot;train/gradients/Shape&quot;\\n  op: &quot;Const&quot;\\n  attr {\\n    key: &quot;dtype&quot;\\n    value {\\n      type: DT_INT32\\n    }\\n  }\\n  attr {\\n    key: &quot;value&quot;\\n    value {\\n      tensor {\\n        dtype: DT_INT32\\n        tensor_shape {\\n          dim {\\n          }\\n        }\\n      }\\n    }\\n  }\\n}\\nnode {\\n  name: &quot;train/gradients/grad_ys_0&quot;\\n  op: &quot;Const&quot;\\n  attr {\\n    key: &quot;dtype&quot;\\n    value {\\n      type: DT_FLOAT\\n    }\\n  }\\n  attr {\\n    key: &quot;value&quot;\\n    value {\\n      tensor {\\n        dtype: DT_FLOAT\\n        tensor_shape {\\n        }\\n        float_val: 1.0\\n      }\\n    }\\n  }\\n}\\nnode {\\n  name: &quot;train/gradients/Fill&quot;\\n  op: &quot;Fill&quot;\\n  input: &quot;train/gradients/Shape&quot;\\n  input: &quot;train/gradients/grad_ys_0&quot;\\n  attr {\\n    key: &quot;T&quot;\\n    value {\\n      type: DT_FLOAT\\n    }\\n  }\\n  attr {\\n    key: &quot;index_type&quot;\\n    value {\\n      type: DT_INT32\\n    }\\n  }\\n}\\nnode {\\n  name: &quot;train/gradients/loss/loss_grad/Reshape/shape&quot;\\n  op: &quot;Const&quot;\\n  attr {\\n    key: &quot;dtype&quot;\\n    value {\\n      type: DT_INT32\\n    }\\n  }\\n  attr {\\n    key: &quot;value&quot;\\n    value {\\n      tensor {\\n        dtype: DT_INT32\\n        tensor_shape {\\n          dim {\\n            size: 1\\n          }\\n        }\\n        int_val: 1\\n      }\\n    }\\n  }\\n}\\nnode {\\n  name: &quot;train/gradients/loss/loss_grad/Reshape&quot;\\n  op: &quot;Reshape&quot;\\n  input: &quot;train/gradients/Fill&quot;\\n  input: &quot;train/gradients/loss/loss_grad/Reshape/shape&quot;\\n  attr {\\n    key: &quot;T&quot;\\n    value {\\n      type: DT_FLOAT\\n    }\\n  }\\n  attr {\\n    key: &quot;Tshape&quot;\\n    value {\\n      type: DT_INT32\\n    }\\n  }\\n}\\nnode {\\n  name: &quot;train/gradients/loss/loss_grad/Shape&quot;\\n  op: &quot;Shape&quot;\\n  input: &quot;loss/SparseSoftmaxCrossEntropyWithLogits/SparseSoftmaxCrossEntropyWithLogits&quot;\\n  attr {\\n    key: &quot;T&quot;\\n    value {\\n      type: DT_FLOAT\\n    }\\n  }\\n  attr {\\n    key: &quot;out_type&quot;\\n    value {\\n      type: DT_INT32\\n    }\\n  }\\n}\\nnode {\\n  name: &quot;train/gradients/loss/loss_grad/Tile&quot;\\n  op: &quot;Tile&quot;\\n  input: &quot;train/gradients/loss/loss_grad/Reshape&quot;\\n  input: &quot;train/gradients/loss/loss_grad/Shape&quot;\\n  attr {\\n    key: &quot;T&quot;\\n    value {\\n      type: DT_FLOAT\\n    }\\n  }\\n  attr {\\n    key: &quot;Tmultiples&quot;\\n    value {\\n      type: DT_INT32\\n    }\\n  }\\n}\\nnode {\\n  name: &quot;train/gradients/loss/loss_grad/Shape_1&quot;\\n  op: &quot;Shape&quot;\\n  input: &quot;loss/SparseSoftmaxCrossEntropyWithLogits/SparseSoftmaxCrossEntropyWithLogits&quot;\\n  attr {\\n    key: &quot;T&quot;\\n    value {\\n      type: DT_FLOAT\\n    }\\n  }\\n  attr {\\n    key: &quot;out_type&quot;\\n    value {\\n      type: DT_INT32\\n    }\\n  }\\n}\\nnode {\\n  name: &quot;train/gradients/loss/loss_grad/Shape_2&quot;\\n  op: &quot;Const&quot;\\n  attr {\\n    key: &quot;dtype&quot;\\n    value {\\n      type: DT_INT32\\n    }\\n  }\\n  attr {\\n    key: &quot;value&quot;\\n    value {\\n      tensor {\\n        dtype: DT_INT32\\n        tensor_shape {\\n          dim {\\n          }\\n        }\\n      }\\n    }\\n  }\\n}\\nnode {\\n  name: &quot;train/gradients/loss/loss_grad/Const&quot;\\n  op: &quot;Const&quot;\\n  attr {\\n    key: &quot;dtype&quot;\\n    value {\\n      type: DT_INT32\\n    }\\n  }\\n  attr {\\n    key: &quot;value&quot;\\n    value {\\n      tensor {\\n        dtype: DT_INT32\\n        tensor_shape {\\n          dim {\\n            size: 1\\n          }\\n        }\\n        int_val: 0\\n      }\\n    }\\n  }\\n}\\nnode {\\n  name: &quot;train/gradients/loss/loss_grad/Prod&quot;\\n  op: &quot;Prod&quot;\\n  input: &quot;train/gradients/loss/loss_grad/Shape_1&quot;\\n  input: &quot;train/gradients/loss/loss_grad/Const&quot;\\n  attr {\\n    key: &quot;T&quot;\\n    value {\\n      type: DT_INT32\\n    }\\n  }\\n  attr {\\n    key: &quot;Tidx&quot;\\n    value {\\n      type: DT_INT32\\n    }\\n  }\\n  attr {\\n    key: &quot;keep_dims&quot;\\n    value {\\n      b: false\\n    }\\n  }\\n}\\nnode {\\n  name: &quot;train/gradients/loss/loss_grad/Const_1&quot;\\n  op: &quot;Const&quot;\\n  attr {\\n    key: &quot;dtype&quot;\\n    value {\\n      type: DT_INT32\\n    }\\n  }\\n  attr {\\n    key: &quot;value&quot;\\n    value {\\n      tensor {\\n        dtype: DT_INT32\\n        tensor_shape {\\n          dim {\\n            size: 1\\n          }\\n        }\\n        int_val: 0\\n      }\\n    }\\n  }\\n}\\nnode {\\n  name: &quot;train/gradients/loss/loss_grad/Prod_1&quot;\\n  op: &quot;Prod&quot;\\n  input: &quot;train/gradients/loss/loss_grad/Shape_2&quot;\\n  input: &quot;train/gradients/loss/loss_grad/Const_1&quot;\\n  attr {\\n    key: &quot;T&quot;\\n    value {\\n      type: DT_INT32\\n    }\\n  }\\n  attr {\\n    key: &quot;Tidx&quot;\\n    value {\\n      type: DT_INT32\\n    }\\n  }\\n  attr {\\n    key: &quot;keep_dims&quot;\\n    value {\\n      b: false\\n    }\\n  }\\n}\\nnode {\\n  name: &quot;train/gradients/loss/loss_grad/Maximum/y&quot;\\n  op: &quot;Const&quot;\\n  attr {\\n    key: &quot;dtype&quot;\\n    value {\\n      type: DT_INT32\\n    }\\n  }\\n  attr {\\n    key: &quot;value&quot;\\n    value {\\n      tensor {\\n        dtype: DT_INT32\\n        tensor_shape {\\n        }\\n        int_val: 1\\n      }\\n    }\\n  }\\n}\\nnode {\\n  name: &quot;train/gradients/loss/loss_grad/Maximum&quot;\\n  op: &quot;Maximum&quot;\\n  input: &quot;train/gradients/loss/loss_grad/Prod_1&quot;\\n  input: &quot;train/gradients/loss/loss_grad/Maximum/y&quot;\\n  attr {\\n    key: &quot;T&quot;\\n    value {\\n      type: DT_INT32\\n    }\\n  }\\n}\\nnode {\\n  name: &quot;train/gradients/loss/loss_grad/floordiv&quot;\\n  op: &quot;FloorDiv&quot;\\n  input: &quot;train/gradients/loss/loss_grad/Prod&quot;\\n  input: &quot;train/gradients/loss/loss_grad/Maximum&quot;\\n  attr {\\n    key: &quot;T&quot;\\n    value {\\n      type: DT_INT32\\n    }\\n  }\\n}\\nnode {\\n  name: &quot;train/gradients/loss/loss_grad/Cast&quot;\\n  op: &quot;Cast&quot;\\n  input: &quot;train/gradients/loss/loss_grad/floordiv&quot;\\n  attr {\\n    key: &quot;DstT&quot;\\n    value {\\n      type: DT_FLOAT\\n    }\\n  }\\n  attr {\\n    key: &quot;SrcT&quot;\\n    value {\\n      type: DT_INT32\\n    }\\n  }\\n}\\nnode {\\n  name: &quot;train/gradients/loss/loss_grad/truediv&quot;\\n  op: &quot;RealDiv&quot;\\n  input: &quot;train/gradients/loss/loss_grad/Tile&quot;\\n  input: &quot;train/gradients/loss/loss_grad/Cast&quot;\\n  attr {\\n    key: &quot;T&quot;\\n    value {\\n      type: DT_FLOAT\\n    }\\n  }\\n}\\nnode {\\n  name: &quot;train/gradients/zeros_like&quot;\\n  op: &quot;ZerosLike&quot;\\n  input: &quot;loss/SparseSoftmaxCrossEntropyWithLogits/SparseSoftmaxCrossEntropyWithLogits:1&quot;\\n  attr {\\n    key: &quot;T&quot;\\n    value {\\n      type: DT_FLOAT\\n    }\\n  }\\n}\\nnode {\\n  name: &quot;train/gradients/loss/SparseSoftmaxCrossEntropyWithLogits/SparseSoftmaxCrossEntropyWithLogits_grad/PreventGradient&quot;\\n  op: &quot;PreventGradient&quot;\\n  input: &quot;loss/SparseSoftmaxCrossEntropyWithLogits/SparseSoftmaxCrossEntropyWithLogits:1&quot;\\n  attr {\\n    key: &quot;T&quot;\\n    value {\\n      type: DT_FLOAT\\n    }\\n  }\\n  attr {\\n    key: &quot;message&quot;\\n    value {\\n      s: &quot;Currently there is no way to take the second derivative of sparse_softmax_cross_entropy_with_logits due to the fused implementation\\\\\\'s interaction with tf.gradients()&quot;\\n    }\\n  }\\n}\\nnode {\\n  name: &quot;train/gradients/loss/SparseSoftmaxCrossEntropyWithLogits/SparseSoftmaxCrossEntropyWithLogits_grad/ExpandDims/dim&quot;\\n  op: &quot;Const&quot;\\n  attr {\\n    key: &quot;dtype&quot;\\n    value {\\n      type: DT_INT32\\n    }\\n  }\\n  attr {\\n    key: &quot;value&quot;\\n    value {\\n      tensor {\\n        dtype: DT_INT32\\n        tensor_shape {\\n        }\\n        int_val: -1\\n      }\\n    }\\n  }\\n}\\nnode {\\n  name: &quot;train/gradients/loss/SparseSoftmaxCrossEntropyWithLogits/SparseSoftmaxCrossEntropyWithLogits_grad/ExpandDims&quot;\\n  op: &quot;ExpandDims&quot;\\n  input: &quot;train/gradients/loss/loss_grad/truediv&quot;\\n  input: &quot;train/gradients/loss/SparseSoftmaxCrossEntropyWithLogits/SparseSoftmaxCrossEntropyWithLogits_grad/ExpandDims/dim&quot;\\n  attr {\\n    key: &quot;T&quot;\\n    value {\\n      type: DT_FLOAT\\n    }\\n  }\\n  attr {\\n    key: &quot;Tdim&quot;\\n    value {\\n      type: DT_INT32\\n    }\\n  }\\n}\\nnode {\\n  name: &quot;train/gradients/loss/SparseSoftmaxCrossEntropyWithLogits/SparseSoftmaxCrossEntropyWithLogits_grad/mul&quot;\\n  op: &quot;Mul&quot;\\n  input: &quot;train/gradients/loss/SparseSoftmaxCrossEntropyWithLogits/SparseSoftmaxCrossEntropyWithLogits_grad/ExpandDims&quot;\\n  input: &quot;train/gradients/loss/SparseSoftmaxCrossEntropyWithLogits/SparseSoftmaxCrossEntropyWithLogits_grad/PreventGradient&quot;\\n  attr {\\n    key: &quot;T&quot;\\n    value {\\n      type: DT_FLOAT\\n    }\\n  }\\n}\\nnode {\\n  name: &quot;train/gradients/dnn/outputs/add_grad/Shape&quot;\\n  op: &quot;Shape&quot;\\n  input: &quot;dnn/outputs/MatMul&quot;\\n  attr {\\n    key: &quot;T&quot;\\n    value {\\n      type: DT_FLOAT\\n    }\\n  }\\n  attr {\\n    key: &quot;out_type&quot;\\n    value {\\n      type: DT_INT32\\n    }\\n  }\\n}\\nnode {\\n  name: &quot;train/gradients/dnn/outputs/add_grad/Shape_1&quot;\\n  op: &quot;Const&quot;\\n  attr {\\n    key: &quot;dtype&quot;\\n    value {\\n      type: DT_INT32\\n    }\\n  }\\n  attr {\\n    key: &quot;value&quot;\\n    value {\\n      tensor {\\n        dtype: DT_INT32\\n        tensor_shape {\\n          dim {\\n            size: 1\\n          }\\n        }\\n        int_val: 10\\n      }\\n    }\\n  }\\n}\\nnode {\\n  name: &quot;train/gradients/dnn/outputs/add_grad/BroadcastGradientArgs&quot;\\n  op: &quot;BroadcastGradientArgs&quot;\\n  input: &quot;train/gradients/dnn/outputs/add_grad/Shape&quot;\\n  input: &quot;train/gradients/dnn/outputs/add_grad/Shape_1&quot;\\n  attr {\\n    key: &quot;T&quot;\\n    value {\\n      type: DT_INT32\\n    }\\n  }\\n}\\nnode {\\n  name: &quot;train/gradients/dnn/outputs/add_grad/Sum&quot;\\n  op: &quot;Sum&quot;\\n  input: &quot;train/gradients/loss/SparseSoftmaxCrossEntropyWithLogits/SparseSoftmaxCrossEntropyWithLogits_grad/mul&quot;\\n  input: &quot;train/gradients/dnn/outputs/add_grad/BroadcastGradientArgs&quot;\\n  attr {\\n    key: &quot;T&quot;\\n    value {\\n      type: DT_FLOAT\\n    }\\n  }\\n  attr {\\n    key: &quot;Tidx&quot;\\n    value {\\n      type: DT_INT32\\n    }\\n  }\\n  attr {\\n    key: &quot;keep_dims&quot;\\n    value {\\n      b: false\\n    }\\n  }\\n}\\nnode {\\n  name: &quot;train/gradients/dnn/outputs/add_grad/Reshape&quot;\\n  op: &quot;Reshape&quot;\\n  input: &quot;train/gradients/dnn/outputs/add_grad/Sum&quot;\\n  input: &quot;train/gradients/dnn/outputs/add_grad/Shape&quot;\\n  attr {\\n    key: &quot;T&quot;\\n    value {\\n      type: DT_FLOAT\\n    }\\n  }\\n  attr {\\n    key: &quot;Tshape&quot;\\n    value {\\n      type: DT_INT32\\n    }\\n  }\\n}\\nnode {\\n  name: &quot;train/gradients/dnn/outputs/add_grad/Sum_1&quot;\\n  op: &quot;Sum&quot;\\n  input: &quot;train/gradients/loss/SparseSoftmaxCrossEntropyWithLogits/SparseSoftmaxCrossEntropyWithLogits_grad/mul&quot;\\n  input: &quot;train/gradients/dnn/outputs/add_grad/BroadcastGradientArgs:1&quot;\\n  attr {\\n    key: &quot;T&quot;\\n    value {\\n      type: DT_FLOAT\\n    }\\n  }\\n  attr {\\n    key: &quot;Tidx&quot;\\n    value {\\n      type: DT_INT32\\n    }\\n  }\\n  attr {\\n    key: &quot;keep_dims&quot;\\n    value {\\n      b: false\\n    }\\n  }\\n}\\nnode {\\n  name: &quot;train/gradients/dnn/outputs/add_grad/Reshape_1&quot;\\n  op: &quot;Reshape&quot;\\n  input: &quot;train/gradients/dnn/outputs/add_grad/Sum_1&quot;\\n  input: &quot;train/gradients/dnn/outputs/add_grad/Shape_1&quot;\\n  attr {\\n    key: &quot;T&quot;\\n    value {\\n      type: DT_FLOAT\\n    }\\n  }\\n  attr {\\n    key: &quot;Tshape&quot;\\n    value {\\n      type: DT_INT32\\n    }\\n  }\\n}\\nnode {\\n  name: &quot;train/gradients/dnn/outputs/add_grad/tuple/group_deps&quot;\\n  op: &quot;NoOp&quot;\\n  input: &quot;^train/gradients/dnn/outputs/add_grad/Reshape&quot;\\n  input: &quot;^train/gradients/dnn/outputs/add_grad/Reshape_1&quot;\\n}\\nnode {\\n  name: &quot;train/gradients/dnn/outputs/add_grad/tuple/control_dependency&quot;\\n  op: &quot;Identity&quot;\\n  input: &quot;train/gradients/dnn/outputs/add_grad/Reshape&quot;\\n  input: &quot;^train/gradients/dnn/outputs/add_grad/tuple/group_deps&quot;\\n  attr {\\n    key: &quot;T&quot;\\n    value {\\n      type: DT_FLOAT\\n    }\\n  }\\n  attr {\\n    key: &quot;_class&quot;\\n    value {\\n      list {\\n        s: &quot;loc:@train/gradients/dnn/outputs/add_grad/Reshape&quot;\\n      }\\n    }\\n  }\\n}\\nnode {\\n  name: &quot;train/gradients/dnn/outputs/add_grad/tuple/control_dependency_1&quot;\\n  op: &quot;Identity&quot;\\n  input: &quot;train/gradients/dnn/outputs/add_grad/Reshape_1&quot;\\n  input: &quot;^train/gradients/dnn/outputs/add_grad/tuple/group_deps&quot;\\n  attr {\\n    key: &quot;T&quot;\\n    value {\\n      type: DT_FLOAT\\n    }\\n  }\\n  attr {\\n    key: &quot;_class&quot;\\n    value {\\n      list {\\n        s: &quot;loc:@train/gradients/dnn/outputs/add_grad/Reshape_1&quot;\\n      }\\n    }\\n  }\\n}\\nnode {\\n  name: &quot;train/gradients/dnn/outputs/MatMul_grad/MatMul&quot;\\n  op: &quot;MatMul&quot;\\n  input: &quot;train/gradients/dnn/outputs/add_grad/tuple/control_dependency&quot;\\n  input: &quot;dnn/outputs/kernel/read&quot;\\n  attr {\\n    key: &quot;T&quot;\\n    value {\\n      type: DT_FLOAT\\n    }\\n  }\\n  attr {\\n    key: &quot;transpose_a&quot;\\n    value {\\n      b: false\\n    }\\n  }\\n  attr {\\n    key: &quot;transpose_b&quot;\\n    value {\\n      b: true\\n    }\\n  }\\n}\\nnode {\\n  name: &quot;train/gradients/dnn/outputs/MatMul_grad/MatMul_1&quot;\\n  op: &quot;MatMul&quot;\\n  input: &quot;dnn/hidden2/Relu&quot;\\n  input: &quot;train/gradients/dnn/outputs/add_grad/tuple/control_dependency&quot;\\n  attr {\\n    key: &quot;T&quot;\\n    value {\\n      type: DT_FLOAT\\n    }\\n  }\\n  attr {\\n    key: &quot;transpose_a&quot;\\n    value {\\n      b: true\\n    }\\n  }\\n  attr {\\n    key: &quot;transpose_b&quot;\\n    value {\\n      b: false\\n    }\\n  }\\n}\\nnode {\\n  name: &quot;train/gradients/dnn/outputs/MatMul_grad/tuple/group_deps&quot;\\n  op: &quot;NoOp&quot;\\n  input: &quot;^train/gradients/dnn/outputs/MatMul_grad/MatMul&quot;\\n  input: &quot;^train/gradients/dnn/outputs/MatMul_grad/MatMul_1&quot;\\n}\\nnode {\\n  name: &quot;train/gradients/dnn/outputs/MatMul_grad/tuple/control_dependency&quot;\\n  op: &quot;Identity&quot;\\n  input: &quot;train/gradients/dnn/outputs/MatMul_grad/MatMul&quot;\\n  input: &quot;^train/gradients/dnn/outputs/MatMul_grad/tuple/group_deps&quot;\\n  attr {\\n    key: &quot;T&quot;\\n    value {\\n      type: DT_FLOAT\\n    }\\n  }\\n  attr {\\n    key: &quot;_class&quot;\\n    value {\\n      list {\\n        s: &quot;loc:@train/gradients/dnn/outputs/MatMul_grad/MatMul&quot;\\n      }\\n    }\\n  }\\n}\\nnode {\\n  name: &quot;train/gradients/dnn/outputs/MatMul_grad/tuple/control_dependency_1&quot;\\n  op: &quot;Identity&quot;\\n  input: &quot;train/gradients/dnn/outputs/MatMul_grad/MatMul_1&quot;\\n  input: &quot;^train/gradients/dnn/outputs/MatMul_grad/tuple/group_deps&quot;\\n  attr {\\n    key: &quot;T&quot;\\n    value {\\n      type: DT_FLOAT\\n    }\\n  }\\n  attr {\\n    key: &quot;_class&quot;\\n    value {\\n      list {\\n        s: &quot;loc:@train/gradients/dnn/outputs/MatMul_grad/MatMul_1&quot;\\n      }\\n    }\\n  }\\n}\\nnode {\\n  name: &quot;train/gradients/dnn/hidden2/Relu_grad/ReluGrad&quot;\\n  op: &quot;ReluGrad&quot;\\n  input: &quot;train/gradients/dnn/outputs/MatMul_grad/tuple/control_dependency&quot;\\n  input: &quot;dnn/hidden2/Relu&quot;\\n  attr {\\n    key: &quot;T&quot;\\n    value {\\n      type: DT_FLOAT\\n    }\\n  }\\n}\\nnode {\\n  name: &quot;train/gradients/dnn/hidden2/add_grad/Shape&quot;\\n  op: &quot;Shape&quot;\\n  input: &quot;dnn/hidden2/MatMul&quot;\\n  attr {\\n    key: &quot;T&quot;\\n    value {\\n      type: DT_FLOAT\\n    }\\n  }\\n  attr {\\n    key: &quot;out_type&quot;\\n    value {\\n      type: DT_INT32\\n    }\\n  }\\n}\\nnode {\\n  name: &quot;train/gradients/dnn/hidden2/add_grad/Shape_1&quot;\\n  op: &quot;Const&quot;\\n  attr {\\n    key: &quot;dtype&quot;\\n    value {\\n      type: DT_INT32\\n    }\\n  }\\n  attr {\\n    key: &quot;value&quot;\\n    value {\\n      tensor {\\n        dtype: DT_INT32\\n        tensor_shape {\\n          dim {\\n            size: 1\\n          }\\n        }\\n        int_val: 100\\n      }\\n    }\\n  }\\n}\\nnode {\\n  name: &quot;train/gradients/dnn/hidden2/add_grad/BroadcastGradientArgs&quot;\\n  op: &quot;BroadcastGradientArgs&quot;\\n  input: &quot;train/gradients/dnn/hidden2/add_grad/Shape&quot;\\n  input: &quot;train/gradients/dnn/hidden2/add_grad/Shape_1&quot;\\n  attr {\\n    key: &quot;T&quot;\\n    value {\\n      type: DT_INT32\\n    }\\n  }\\n}\\nnode {\\n  name: &quot;train/gradients/dnn/hidden2/add_grad/Sum&quot;\\n  op: &quot;Sum&quot;\\n  input: &quot;train/gradients/dnn/hidden2/Relu_grad/ReluGrad&quot;\\n  input: &quot;train/gradients/dnn/hidden2/add_grad/BroadcastGradientArgs&quot;\\n  attr {\\n    key: &quot;T&quot;\\n    value {\\n      type: DT_FLOAT\\n    }\\n  }\\n  attr {\\n    key: &quot;Tidx&quot;\\n    value {\\n      type: DT_INT32\\n    }\\n  }\\n  attr {\\n    key: &quot;keep_dims&quot;\\n    value {\\n      b: false\\n    }\\n  }\\n}\\nnode {\\n  name: &quot;train/gradients/dnn/hidden2/add_grad/Reshape&quot;\\n  op: &quot;Reshape&quot;\\n  input: &quot;train/gradients/dnn/hidden2/add_grad/Sum&quot;\\n  input: &quot;train/gradients/dnn/hidden2/add_grad/Shape&quot;\\n  attr {\\n    key: &quot;T&quot;\\n    value {\\n      type: DT_FLOAT\\n    }\\n  }\\n  attr {\\n    key: &quot;Tshape&quot;\\n    value {\\n      type: DT_INT32\\n    }\\n  }\\n}\\nnode {\\n  name: &quot;train/gradients/dnn/hidden2/add_grad/Sum_1&quot;\\n  op: &quot;Sum&quot;\\n  input: &quot;train/gradients/dnn/hidden2/Relu_grad/ReluGrad&quot;\\n  input: &quot;train/gradients/dnn/hidden2/add_grad/BroadcastGradientArgs:1&quot;\\n  attr {\\n    key: &quot;T&quot;\\n    value {\\n      type: DT_FLOAT\\n    }\\n  }\\n  attr {\\n    key: &quot;Tidx&quot;\\n    value {\\n      type: DT_INT32\\n    }\\n  }\\n  attr {\\n    key: &quot;keep_dims&quot;\\n    value {\\n      b: false\\n    }\\n  }\\n}\\nnode {\\n  name: &quot;train/gradients/dnn/hidden2/add_grad/Reshape_1&quot;\\n  op: &quot;Reshape&quot;\\n  input: &quot;train/gradients/dnn/hidden2/add_grad/Sum_1&quot;\\n  input: &quot;train/gradients/dnn/hidden2/add_grad/Shape_1&quot;\\n  attr {\\n    key: &quot;T&quot;\\n    value {\\n      type: DT_FLOAT\\n    }\\n  }\\n  attr {\\n    key: &quot;Tshape&quot;\\n    value {\\n      type: DT_INT32\\n    }\\n  }\\n}\\nnode {\\n  name: &quot;train/gradients/dnn/hidden2/add_grad/tuple/group_deps&quot;\\n  op: &quot;NoOp&quot;\\n  input: &quot;^train/gradients/dnn/hidden2/add_grad/Reshape&quot;\\n  input: &quot;^train/gradients/dnn/hidden2/add_grad/Reshape_1&quot;\\n}\\nnode {\\n  name: &quot;train/gradients/dnn/hidden2/add_grad/tuple/control_dependency&quot;\\n  op: &quot;Identity&quot;\\n  input: &quot;train/gradients/dnn/hidden2/add_grad/Reshape&quot;\\n  input: &quot;^train/gradients/dnn/hidden2/add_grad/tuple/group_deps&quot;\\n  attr {\\n    key: &quot;T&quot;\\n    value {\\n      type: DT_FLOAT\\n    }\\n  }\\n  attr {\\n    key: &quot;_class&quot;\\n    value {\\n      list {\\n        s: &quot;loc:@train/gradients/dnn/hidden2/add_grad/Reshape&quot;\\n      }\\n    }\\n  }\\n}\\nnode {\\n  name: &quot;train/gradients/dnn/hidden2/add_grad/tuple/control_dependency_1&quot;\\n  op: &quot;Identity&quot;\\n  input: &quot;train/gradients/dnn/hidden2/add_grad/Reshape_1&quot;\\n  input: &quot;^train/gradients/dnn/hidden2/add_grad/tuple/group_deps&quot;\\n  attr {\\n    key: &quot;T&quot;\\n    value {\\n      type: DT_FLOAT\\n    }\\n  }\\n  attr {\\n    key: &quot;_class&quot;\\n    value {\\n      list {\\n        s: &quot;loc:@train/gradients/dnn/hidden2/add_grad/Reshape_1&quot;\\n      }\\n    }\\n  }\\n}\\nnode {\\n  name: &quot;train/gradients/dnn/hidden2/MatMul_grad/MatMul&quot;\\n  op: &quot;MatMul&quot;\\n  input: &quot;train/gradients/dnn/hidden2/add_grad/tuple/control_dependency&quot;\\n  input: &quot;dnn/hidden2/kernel/read&quot;\\n  attr {\\n    key: &quot;T&quot;\\n    value {\\n      type: DT_FLOAT\\n    }\\n  }\\n  attr {\\n    key: &quot;transpose_a&quot;\\n    value {\\n      b: false\\n    }\\n  }\\n  attr {\\n    key: &quot;transpose_b&quot;\\n    value {\\n      b: true\\n    }\\n  }\\n}\\nnode {\\n  name: &quot;train/gradients/dnn/hidden2/MatMul_grad/MatMul_1&quot;\\n  op: &quot;MatMul&quot;\\n  input: &quot;dnn/hidden1/Relu&quot;\\n  input: &quot;train/gradients/dnn/hidden2/add_grad/tuple/control_dependency&quot;\\n  attr {\\n    key: &quot;T&quot;\\n    value {\\n      type: DT_FLOAT\\n    }\\n  }\\n  attr {\\n    key: &quot;transpose_a&quot;\\n    value {\\n      b: true\\n    }\\n  }\\n  attr {\\n    key: &quot;transpose_b&quot;\\n    value {\\n      b: false\\n    }\\n  }\\n}\\nnode {\\n  name: &quot;train/gradients/dnn/hidden2/MatMul_grad/tuple/group_deps&quot;\\n  op: &quot;NoOp&quot;\\n  input: &quot;^train/gradients/dnn/hidden2/MatMul_grad/MatMul&quot;\\n  input: &quot;^train/gradients/dnn/hidden2/MatMul_grad/MatMul_1&quot;\\n}\\nnode {\\n  name: &quot;train/gradients/dnn/hidden2/MatMul_grad/tuple/control_dependency&quot;\\n  op: &quot;Identity&quot;\\n  input: &quot;train/gradients/dnn/hidden2/MatMul_grad/MatMul&quot;\\n  input: &quot;^train/gradients/dnn/hidden2/MatMul_grad/tuple/group_deps&quot;\\n  attr {\\n    key: &quot;T&quot;\\n    value {\\n      type: DT_FLOAT\\n    }\\n  }\\n  attr {\\n    key: &quot;_class&quot;\\n    value {\\n      list {\\n        s: &quot;loc:@train/gradients/dnn/hidden2/MatMul_grad/MatMul&quot;\\n      }\\n    }\\n  }\\n}\\nnode {\\n  name: &quot;train/gradients/dnn/hidden2/MatMul_grad/tuple/control_dependency_1&quot;\\n  op: &quot;Identity&quot;\\n  input: &quot;train/gradients/dnn/hidden2/MatMul_grad/MatMul_1&quot;\\n  input: &quot;^train/gradients/dnn/hidden2/MatMul_grad/tuple/group_deps&quot;\\n  attr {\\n    key: &quot;T&quot;\\n    value {\\n      type: DT_FLOAT\\n    }\\n  }\\n  attr {\\n    key: &quot;_class&quot;\\n    value {\\n      list {\\n        s: &quot;loc:@train/gradients/dnn/hidden2/MatMul_grad/MatMul_1&quot;\\n      }\\n    }\\n  }\\n}\\nnode {\\n  name: &quot;train/gradients/dnn/hidden1/Relu_grad/ReluGrad&quot;\\n  op: &quot;ReluGrad&quot;\\n  input: &quot;train/gradients/dnn/hidden2/MatMul_grad/tuple/control_dependency&quot;\\n  input: &quot;dnn/hidden1/Relu&quot;\\n  attr {\\n    key: &quot;T&quot;\\n    value {\\n      type: DT_FLOAT\\n    }\\n  }\\n}\\nnode {\\n  name: &quot;train/gradients/dnn/hidden1/add_grad/Shape&quot;\\n  op: &quot;Shape&quot;\\n  input: &quot;dnn/hidden1/MatMul&quot;\\n  attr {\\n    key: &quot;T&quot;\\n    value {\\n      type: DT_FLOAT\\n    }\\n  }\\n  attr {\\n    key: &quot;out_type&quot;\\n    value {\\n      type: DT_INT32\\n    }\\n  }\\n}\\nnode {\\n  name: &quot;train/gradients/dnn/hidden1/add_grad/Shape_1&quot;\\n  op: &quot;Const&quot;\\n  attr {\\n    key: &quot;dtype&quot;\\n    value {\\n      type: DT_INT32\\n    }\\n  }\\n  attr {\\n    key: &quot;value&quot;\\n    value {\\n      tensor {\\n        dtype: DT_INT32\\n        tensor_shape {\\n          dim {\\n            size: 1\\n          }\\n        }\\n        int_val: 300\\n      }\\n    }\\n  }\\n}\\nnode {\\n  name: &quot;train/gradients/dnn/hidden1/add_grad/BroadcastGradientArgs&quot;\\n  op: &quot;BroadcastGradientArgs&quot;\\n  input: &quot;train/gradients/dnn/hidden1/add_grad/Shape&quot;\\n  input: &quot;train/gradients/dnn/hidden1/add_grad/Shape_1&quot;\\n  attr {\\n    key: &quot;T&quot;\\n    value {\\n      type: DT_INT32\\n    }\\n  }\\n}\\nnode {\\n  name: &quot;train/gradients/dnn/hidden1/add_grad/Sum&quot;\\n  op: &quot;Sum&quot;\\n  input: &quot;train/gradients/dnn/hidden1/Relu_grad/ReluGrad&quot;\\n  input: &quot;train/gradients/dnn/hidden1/add_grad/BroadcastGradientArgs&quot;\\n  attr {\\n    key: &quot;T&quot;\\n    value {\\n      type: DT_FLOAT\\n    }\\n  }\\n  attr {\\n    key: &quot;Tidx&quot;\\n    value {\\n      type: DT_INT32\\n    }\\n  }\\n  attr {\\n    key: &quot;keep_dims&quot;\\n    value {\\n      b: false\\n    }\\n  }\\n}\\nnode {\\n  name: &quot;train/gradients/dnn/hidden1/add_grad/Reshape&quot;\\n  op: &quot;Reshape&quot;\\n  input: &quot;train/gradients/dnn/hidden1/add_grad/Sum&quot;\\n  input: &quot;train/gradients/dnn/hidden1/add_grad/Shape&quot;\\n  attr {\\n    key: &quot;T&quot;\\n    value {\\n      type: DT_FLOAT\\n    }\\n  }\\n  attr {\\n    key: &quot;Tshape&quot;\\n    value {\\n      type: DT_INT32\\n    }\\n  }\\n}\\nnode {\\n  name: &quot;train/gradients/dnn/hidden1/add_grad/Sum_1&quot;\\n  op: &quot;Sum&quot;\\n  input: &quot;train/gradients/dnn/hidden1/Relu_grad/ReluGrad&quot;\\n  input: &quot;train/gradients/dnn/hidden1/add_grad/BroadcastGradientArgs:1&quot;\\n  attr {\\n    key: &quot;T&quot;\\n    value {\\n      type: DT_FLOAT\\n    }\\n  }\\n  attr {\\n    key: &quot;Tidx&quot;\\n    value {\\n      type: DT_INT32\\n    }\\n  }\\n  attr {\\n    key: &quot;keep_dims&quot;\\n    value {\\n      b: false\\n    }\\n  }\\n}\\nnode {\\n  name: &quot;train/gradients/dnn/hidden1/add_grad/Reshape_1&quot;\\n  op: &quot;Reshape&quot;\\n  input: &quot;train/gradients/dnn/hidden1/add_grad/Sum_1&quot;\\n  input: &quot;train/gradients/dnn/hidden1/add_grad/Shape_1&quot;\\n  attr {\\n    key: &quot;T&quot;\\n    value {\\n      type: DT_FLOAT\\n    }\\n  }\\n  attr {\\n    key: &quot;Tshape&quot;\\n    value {\\n      type: DT_INT32\\n    }\\n  }\\n}\\nnode {\\n  name: &quot;train/gradients/dnn/hidden1/add_grad/tuple/group_deps&quot;\\n  op: &quot;NoOp&quot;\\n  input: &quot;^train/gradients/dnn/hidden1/add_grad/Reshape&quot;\\n  input: &quot;^train/gradients/dnn/hidden1/add_grad/Reshape_1&quot;\\n}\\nnode {\\n  name: &quot;train/gradients/dnn/hidden1/add_grad/tuple/control_dependency&quot;\\n  op: &quot;Identity&quot;\\n  input: &quot;train/gradients/dnn/hidden1/add_grad/Reshape&quot;\\n  input: &quot;^train/gradients/dnn/hidden1/add_grad/tuple/group_deps&quot;\\n  attr {\\n    key: &quot;T&quot;\\n    value {\\n      type: DT_FLOAT\\n    }\\n  }\\n  attr {\\n    key: &quot;_class&quot;\\n    value {\\n      list {\\n        s: &quot;loc:@train/gradients/dnn/hidden1/add_grad/Reshape&quot;\\n      }\\n    }\\n  }\\n}\\nnode {\\n  name: &quot;train/gradients/dnn/hidden1/add_grad/tuple/control_dependency_1&quot;\\n  op: &quot;Identity&quot;\\n  input: &quot;train/gradients/dnn/hidden1/add_grad/Reshape_1&quot;\\n  input: &quot;^train/gradients/dnn/hidden1/add_grad/tuple/group_deps&quot;\\n  attr {\\n    key: &quot;T&quot;\\n    value {\\n      type: DT_FLOAT\\n    }\\n  }\\n  attr {\\n    key: &quot;_class&quot;\\n    value {\\n      list {\\n        s: &quot;loc:@train/gradients/dnn/hidden1/add_grad/Reshape_1&quot;\\n      }\\n    }\\n  }\\n}\\nnode {\\n  name: &quot;train/gradients/dnn/hidden1/MatMul_grad/MatMul&quot;\\n  op: &quot;MatMul&quot;\\n  input: &quot;train/gradients/dnn/hidden1/add_grad/tuple/control_dependency&quot;\\n  input: &quot;dnn/hidden1/kernel/read&quot;\\n  attr {\\n    key: &quot;T&quot;\\n    value {\\n      type: DT_FLOAT\\n    }\\n  }\\n  attr {\\n    key: &quot;transpose_a&quot;\\n    value {\\n      b: false\\n    }\\n  }\\n  attr {\\n    key: &quot;transpose_b&quot;\\n    value {\\n      b: true\\n    }\\n  }\\n}\\nnode {\\n  name: &quot;train/gradients/dnn/hidden1/MatMul_grad/MatMul_1&quot;\\n  op: &quot;MatMul&quot;\\n  input: &quot;X&quot;\\n  input: &quot;train/gradients/dnn/hidden1/add_grad/tuple/control_dependency&quot;\\n  attr {\\n    key: &quot;T&quot;\\n    value {\\n      type: DT_FLOAT\\n    }\\n  }\\n  attr {\\n    key: &quot;transpose_a&quot;\\n    value {\\n      b: true\\n    }\\n  }\\n  attr {\\n    key: &quot;transpose_b&quot;\\n    value {\\n      b: false\\n    }\\n  }\\n}\\nnode {\\n  name: &quot;train/gradients/dnn/hidden1/MatMul_grad/tuple/group_deps&quot;\\n  op: &quot;NoOp&quot;\\n  input: &quot;^train/gradients/dnn/hidden1/MatMul_grad/MatMul&quot;\\n  input: &quot;^train/gradients/dnn/hidden1/MatMul_grad/MatMul_1&quot;\\n}\\nnode {\\n  name: &quot;train/gradients/dnn/hidden1/MatMul_grad/tuple/control_dependency&quot;\\n  op: &quot;Identity&quot;\\n  input: &quot;train/gradients/dnn/hidden1/MatMul_grad/MatMul&quot;\\n  input: &quot;^train/gradients/dnn/hidden1/MatMul_grad/tuple/group_deps&quot;\\n  attr {\\n    key: &quot;T&quot;\\n    value {\\n      type: DT_FLOAT\\n    }\\n  }\\n  attr {\\n    key: &quot;_class&quot;\\n    value {\\n      list {\\n        s: &quot;loc:@train/gradients/dnn/hidden1/MatMul_grad/MatMul&quot;\\n      }\\n    }\\n  }\\n}\\nnode {\\n  name: &quot;train/gradients/dnn/hidden1/MatMul_grad/tuple/control_dependency_1&quot;\\n  op: &quot;Identity&quot;\\n  input: &quot;train/gradients/dnn/hidden1/MatMul_grad/MatMul_1&quot;\\n  input: &quot;^train/gradients/dnn/hidden1/MatMul_grad/tuple/group_deps&quot;\\n  attr {\\n    key: &quot;T&quot;\\n    value {\\n      type: DT_FLOAT\\n    }\\n  }\\n  attr {\\n    key: &quot;_class&quot;\\n    value {\\n      list {\\n        s: &quot;loc:@train/gradients/dnn/hidden1/MatMul_grad/MatMul_1&quot;\\n      }\\n    }\\n  }\\n}\\nnode {\\n  name: &quot;train/GradientDescent/learning_rate&quot;\\n  op: &quot;Const&quot;\\n  attr {\\n    key: &quot;dtype&quot;\\n    value {\\n      type: DT_FLOAT\\n    }\\n  }\\n  attr {\\n    key: &quot;value&quot;\\n    value {\\n      tensor {\\n        dtype: DT_FLOAT\\n        tensor_shape {\\n        }\\n        float_val: 0.009999999776482582\\n      }\\n    }\\n  }\\n}\\nnode {\\n  name: &quot;train/GradientDescent/update_dnn/hidden1/kernel/ApplyGradientDescent&quot;\\n  op: &quot;ApplyGradientDescent&quot;\\n  input: &quot;dnn/hidden1/kernel&quot;\\n  input: &quot;train/GradientDescent/learning_rate&quot;\\n  input: &quot;train/gradients/dnn/hidden1/MatMul_grad/tuple/control_dependency_1&quot;\\n  attr {\\n    key: &quot;T&quot;\\n    value {\\n      type: DT_FLOAT\\n    }\\n  }\\n  attr {\\n    key: &quot;_class&quot;\\n    value {\\n      list {\\n        s: &quot;loc:@dnn/hidden1/kernel&quot;\\n      }\\n    }\\n  }\\n  attr {\\n    key: &quot;use_locking&quot;\\n    value {\\n      b: false\\n    }\\n  }\\n}\\nnode {\\n  name: &quot;train/GradientDescent/update_dnn/hidden1/bias/ApplyGradientDescent&quot;\\n  op: &quot;ApplyGradientDescent&quot;\\n  input: &quot;dnn/hidden1/bias&quot;\\n  input: &quot;train/GradientDescent/learning_rate&quot;\\n  input: &quot;train/gradients/dnn/hidden1/add_grad/tuple/control_dependency_1&quot;\\n  attr {\\n    key: &quot;T&quot;\\n    value {\\n      type: DT_FLOAT\\n    }\\n  }\\n  attr {\\n    key: &quot;_class&quot;\\n    value {\\n      list {\\n        s: &quot;loc:@dnn/hidden1/bias&quot;\\n      }\\n    }\\n  }\\n  attr {\\n    key: &quot;use_locking&quot;\\n    value {\\n      b: false\\n    }\\n  }\\n}\\nnode {\\n  name: &quot;train/GradientDescent/update_dnn/hidden2/kernel/ApplyGradientDescent&quot;\\n  op: &quot;ApplyGradientDescent&quot;\\n  input: &quot;dnn/hidden2/kernel&quot;\\n  input: &quot;train/GradientDescent/learning_rate&quot;\\n  input: &quot;train/gradients/dnn/hidden2/MatMul_grad/tuple/control_dependency_1&quot;\\n  attr {\\n    key: &quot;T&quot;\\n    value {\\n      type: DT_FLOAT\\n    }\\n  }\\n  attr {\\n    key: &quot;_class&quot;\\n    value {\\n      list {\\n        s: &quot;loc:@dnn/hidden2/kernel&quot;\\n      }\\n    }\\n  }\\n  attr {\\n    key: &quot;use_locking&quot;\\n    value {\\n      b: false\\n    }\\n  }\\n}\\nnode {\\n  name: &quot;train/GradientDescent/update_dnn/hidden2/bias/ApplyGradientDescent&quot;\\n  op: &quot;ApplyGradientDescent&quot;\\n  input: &quot;dnn/hidden2/bias&quot;\\n  input: &quot;train/GradientDescent/learning_rate&quot;\\n  input: &quot;train/gradients/dnn/hidden2/add_grad/tuple/control_dependency_1&quot;\\n  attr {\\n    key: &quot;T&quot;\\n    value {\\n      type: DT_FLOAT\\n    }\\n  }\\n  attr {\\n    key: &quot;_class&quot;\\n    value {\\n      list {\\n        s: &quot;loc:@dnn/hidden2/bias&quot;\\n      }\\n    }\\n  }\\n  attr {\\n    key: &quot;use_locking&quot;\\n    value {\\n      b: false\\n    }\\n  }\\n}\\nnode {\\n  name: &quot;train/GradientDescent/update_dnn/outputs/kernel/ApplyGradientDescent&quot;\\n  op: &quot;ApplyGradientDescent&quot;\\n  input: &quot;dnn/outputs/kernel&quot;\\n  input: &quot;train/GradientDescent/learning_rate&quot;\\n  input: &quot;train/gradients/dnn/outputs/MatMul_grad/tuple/control_dependency_1&quot;\\n  attr {\\n    key: &quot;T&quot;\\n    value {\\n      type: DT_FLOAT\\n    }\\n  }\\n  attr {\\n    key: &quot;_class&quot;\\n    value {\\n      list {\\n        s: &quot;loc:@dnn/outputs/kernel&quot;\\n      }\\n    }\\n  }\\n  attr {\\n    key: &quot;use_locking&quot;\\n    value {\\n      b: false\\n    }\\n  }\\n}\\nnode {\\n  name: &quot;train/GradientDescent/update_dnn/outputs/bias/ApplyGradientDescent&quot;\\n  op: &quot;ApplyGradientDescent&quot;\\n  input: &quot;dnn/outputs/bias&quot;\\n  input: &quot;train/GradientDescent/learning_rate&quot;\\n  input: &quot;train/gradients/dnn/outputs/add_grad/tuple/control_dependency_1&quot;\\n  attr {\\n    key: &quot;T&quot;\\n    value {\\n      type: DT_FLOAT\\n    }\\n  }\\n  attr {\\n    key: &quot;_class&quot;\\n    value {\\n      list {\\n        s: &quot;loc:@dnn/outputs/bias&quot;\\n      }\\n    }\\n  }\\n  attr {\\n    key: &quot;use_locking&quot;\\n    value {\\n      b: false\\n    }\\n  }\\n}\\nnode {\\n  name: &quot;train/GradientDescent&quot;\\n  op: &quot;NoOp&quot;\\n  input: &quot;^train/GradientDescent/update_dnn/hidden1/kernel/ApplyGradientDescent&quot;\\n  input: &quot;^train/GradientDescent/update_dnn/hidden1/bias/ApplyGradientDescent&quot;\\n  input: &quot;^train/GradientDescent/update_dnn/hidden2/kernel/ApplyGradientDescent&quot;\\n  input: &quot;^train/GradientDescent/update_dnn/hidden2/bias/ApplyGradientDescent&quot;\\n  input: &quot;^train/GradientDescent/update_dnn/outputs/kernel/ApplyGradientDescent&quot;\\n  input: &quot;^train/GradientDescent/update_dnn/outputs/bias/ApplyGradientDescent&quot;\\n}\\nnode {\\n  name: &quot;eval/in_top_k/InTopKV2/k&quot;\\n  op: &quot;Const&quot;\\n  attr {\\n    key: &quot;dtype&quot;\\n    value {\\n      type: DT_INT64\\n    }\\n  }\\n  attr {\\n    key: &quot;value&quot;\\n    value {\\n      tensor {\\n        dtype: DT_INT64\\n        tensor_shape {\\n        }\\n        int64_val: 1\\n      }\\n    }\\n  }\\n}\\nnode {\\n  name: &quot;eval/in_top_k/InTopKV2&quot;\\n  op: &quot;InTopKV2&quot;\\n  input: &quot;dnn/outputs/add&quot;\\n  input: &quot;y&quot;\\n  input: &quot;eval/in_top_k/InTopKV2/k&quot;\\n  attr {\\n    key: &quot;T&quot;\\n    value {\\n      type: DT_INT64\\n    }\\n  }\\n}\\nnode {\\n  name: &quot;eval/Cast&quot;\\n  op: &quot;Cast&quot;\\n  input: &quot;eval/in_top_k/InTopKV2&quot;\\n  attr {\\n    key: &quot;DstT&quot;\\n    value {\\n      type: DT_FLOAT\\n    }\\n  }\\n  attr {\\n    key: &quot;SrcT&quot;\\n    value {\\n      type: DT_BOOL\\n    }\\n  }\\n}\\nnode {\\n  name: &quot;eval/Const&quot;\\n  op: &quot;Const&quot;\\n  attr {\\n    key: &quot;dtype&quot;\\n    value {\\n      type: DT_INT32\\n    }\\n  }\\n  attr {\\n    key: &quot;value&quot;\\n    value {\\n      tensor {\\n        dtype: DT_INT32\\n        tensor_shape {\\n          dim {\\n            size: 1\\n          }\\n        }\\n        int_val: 0\\n      }\\n    }\\n  }\\n}\\nnode {\\n  name: &quot;eval/Mean&quot;\\n  op: &quot;Mean&quot;\\n  input: &quot;eval/Cast&quot;\\n  input: &quot;eval/Const&quot;\\n  attr {\\n    key: &quot;T&quot;\\n    value {\\n      type: DT_FLOAT\\n    }\\n  }\\n  attr {\\n    key: &quot;Tidx&quot;\\n    value {\\n      type: DT_INT32\\n    }\\n  }\\n  attr {\\n    key: &quot;keep_dims&quot;\\n    value {\\n      b: false\\n    }\\n  }\\n}\\nnode {\\n  name: &quot;init&quot;\\n  op: &quot;NoOp&quot;\\n  input: &quot;^dnn/hidden1/kernel/Assign&quot;\\n  input: &quot;^dnn/hidden1/bias/Assign&quot;\\n  input: &quot;^dnn/hidden2/kernel/Assign&quot;\\n  input: &quot;^dnn/hidden2/bias/Assign&quot;\\n  input: &quot;^dnn/outputs/kernel/Assign&quot;\\n  input: &quot;^dnn/outputs/bias/Assign&quot;\\n}\\nnode {\\n  name: &quot;save/Const&quot;\\n  op: &quot;Const&quot;\\n  attr {\\n    key: &quot;dtype&quot;\\n    value {\\n      type: DT_STRING\\n    }\\n  }\\n  attr {\\n    key: &quot;value&quot;\\n    value {\\n      tensor {\\n        dtype: DT_STRING\\n        tensor_shape {\\n        }\\n        string_val: &quot;model&quot;\\n      }\\n    }\\n  }\\n}\\nnode {\\n  name: &quot;save/SaveV2/tensor_names&quot;\\n  op: &quot;Const&quot;\\n  attr {\\n    key: &quot;dtype&quot;\\n    value {\\n      type: DT_STRING\\n    }\\n  }\\n  attr {\\n    key: &quot;value&quot;\\n    value {\\n      tensor {\\n        dtype: DT_STRING\\n        tensor_shape {\\n          dim {\\n            size: 6\\n          }\\n        }\\n        string_val: &quot;dnn/hidden1/bias&quot;\\n        string_val: &quot;dnn/hidden1/kernel&quot;\\n        string_val: &quot;dnn/hidden2/bias&quot;\\n        string_val: &quot;dnn/hidden2/kernel&quot;\\n        string_val: &quot;dnn/outputs/bias&quot;\\n        string_val: &quot;dnn/outputs/kernel&quot;\\n      }\\n    }\\n  }\\n}\\nnode {\\n  name: &quot;save/SaveV2/shape_and_slices&quot;\\n  op: &quot;Const&quot;\\n  attr {\\n    key: &quot;dtype&quot;\\n    value {\\n      type: DT_STRING\\n    }\\n  }\\n  attr {\\n    key: &quot;value&quot;\\n    value {\\n      tensor {\\n        dtype: DT_STRING\\n        tensor_shape {\\n          dim {\\n            size: 6\\n          }\\n        }\\n        string_val: &quot;&quot;\\n        string_val: &quot;&quot;\\n        string_val: &quot;&quot;\\n        string_val: &quot;&quot;\\n        string_val: &quot;&quot;\\n        string_val: &quot;&quot;\\n      }\\n    }\\n  }\\n}\\nnode {\\n  name: &quot;save/SaveV2&quot;\\n  op: &quot;SaveV2&quot;\\n  input: &quot;save/Const&quot;\\n  input: &quot;save/SaveV2/tensor_names&quot;\\n  input: &quot;save/SaveV2/shape_and_slices&quot;\\n  input: &quot;dnn/hidden1/bias&quot;\\n  input: &quot;dnn/hidden1/kernel&quot;\\n  input: &quot;dnn/hidden2/bias&quot;\\n  input: &quot;dnn/hidden2/kernel&quot;\\n  input: &quot;dnn/outputs/bias&quot;\\n  input: &quot;dnn/outputs/kernel&quot;\\n  attr {\\n    key: &quot;dtypes&quot;\\n    value {\\n      list {\\n        type: DT_FLOAT\\n        type: DT_FLOAT\\n        type: DT_FLOAT\\n        type: DT_FLOAT\\n        type: DT_FLOAT\\n        type: DT_FLOAT\\n      }\\n    }\\n  }\\n}\\nnode {\\n  name: &quot;save/control_dependency&quot;\\n  op: &quot;Identity&quot;\\n  input: &quot;save/Const&quot;\\n  input: &quot;^save/SaveV2&quot;\\n  attr {\\n    key: &quot;T&quot;\\n    value {\\n      type: DT_STRING\\n    }\\n  }\\n  attr {\\n    key: &quot;_class&quot;\\n    value {\\n      list {\\n        s: &quot;loc:@save/Const&quot;\\n      }\\n    }\\n  }\\n}\\nnode {\\n  name: &quot;save/RestoreV2/tensor_names&quot;\\n  op: &quot;Const&quot;\\n  device: &quot;/device:CPU:0&quot;\\n  attr {\\n    key: &quot;dtype&quot;\\n    value {\\n      type: DT_STRING\\n    }\\n  }\\n  attr {\\n    key: &quot;value&quot;\\n    value {\\n      tensor {\\n        dtype: DT_STRING\\n        tensor_shape {\\n          dim {\\n            size: 6\\n          }\\n        }\\n        string_val: &quot;dnn/hidden1/bias&quot;\\n        string_val: &quot;dnn/hidden1/kernel&quot;\\n        string_val: &quot;dnn/hidden2/bias&quot;\\n        string_val: &quot;dnn/hidden2/kernel&quot;\\n        string_val: &quot;dnn/outputs/bias&quot;\\n        string_val: &quot;dnn/outputs/kernel&quot;\\n      }\\n    }\\n  }\\n}\\nnode {\\n  name: &quot;save/RestoreV2/shape_and_slices&quot;\\n  op: &quot;Const&quot;\\n  device: &quot;/device:CPU:0&quot;\\n  attr {\\n    key: &quot;dtype&quot;\\n    value {\\n      type: DT_STRING\\n    }\\n  }\\n  attr {\\n    key: &quot;value&quot;\\n    value {\\n      tensor {\\n        dtype: DT_STRING\\n        tensor_shape {\\n          dim {\\n            size: 6\\n          }\\n        }\\n        string_val: &quot;&quot;\\n        string_val: &quot;&quot;\\n        string_val: &quot;&quot;\\n        string_val: &quot;&quot;\\n        string_val: &quot;&quot;\\n        string_val: &quot;&quot;\\n      }\\n    }\\n  }\\n}\\nnode {\\n  name: &quot;save/RestoreV2&quot;\\n  op: &quot;RestoreV2&quot;\\n  input: &quot;save/Const&quot;\\n  input: &quot;save/RestoreV2/tensor_names&quot;\\n  input: &quot;save/RestoreV2/shape_and_slices&quot;\\n  device: &quot;/device:CPU:0&quot;\\n  attr {\\n    key: &quot;dtypes&quot;\\n    value {\\n      list {\\n        type: DT_FLOAT\\n        type: DT_FLOAT\\n        type: DT_FLOAT\\n        type: DT_FLOAT\\n        type: DT_FLOAT\\n        type: DT_FLOAT\\n      }\\n    }\\n  }\\n}\\nnode {\\n  name: &quot;save/Assign&quot;\\n  op: &quot;Assign&quot;\\n  input: &quot;dnn/hidden1/bias&quot;\\n  input: &quot;save/RestoreV2&quot;\\n  attr {\\n    key: &quot;T&quot;\\n    value {\\n      type: DT_FLOAT\\n    }\\n  }\\n  attr {\\n    key: &quot;_class&quot;\\n    value {\\n      list {\\n        s: &quot;loc:@dnn/hidden1/bias&quot;\\n      }\\n    }\\n  }\\n  attr {\\n    key: &quot;use_locking&quot;\\n    value {\\n      b: true\\n    }\\n  }\\n  attr {\\n    key: &quot;validate_shape&quot;\\n    value {\\n      b: true\\n    }\\n  }\\n}\\nnode {\\n  name: &quot;save/Assign_1&quot;\\n  op: &quot;Assign&quot;\\n  input: &quot;dnn/hidden1/kernel&quot;\\n  input: &quot;save/RestoreV2:1&quot;\\n  attr {\\n    key: &quot;T&quot;\\n    value {\\n      type: DT_FLOAT\\n    }\\n  }\\n  attr {\\n    key: &quot;_class&quot;\\n    value {\\n      list {\\n        s: &quot;loc:@dnn/hidden1/kernel&quot;\\n      }\\n    }\\n  }\\n  attr {\\n    key: &quot;use_locking&quot;\\n    value {\\n      b: true\\n    }\\n  }\\n  attr {\\n    key: &quot;validate_shape&quot;\\n    value {\\n      b: true\\n    }\\n  }\\n}\\nnode {\\n  name: &quot;save/Assign_2&quot;\\n  op: &quot;Assign&quot;\\n  input: &quot;dnn/hidden2/bias&quot;\\n  input: &quot;save/RestoreV2:2&quot;\\n  attr {\\n    key: &quot;T&quot;\\n    value {\\n      type: DT_FLOAT\\n    }\\n  }\\n  attr {\\n    key: &quot;_class&quot;\\n    value {\\n      list {\\n        s: &quot;loc:@dnn/hidden2/bias&quot;\\n      }\\n    }\\n  }\\n  attr {\\n    key: &quot;use_locking&quot;\\n    value {\\n      b: true\\n    }\\n  }\\n  attr {\\n    key: &quot;validate_shape&quot;\\n    value {\\n      b: true\\n    }\\n  }\\n}\\nnode {\\n  name: &quot;save/Assign_3&quot;\\n  op: &quot;Assign&quot;\\n  input: &quot;dnn/hidden2/kernel&quot;\\n  input: &quot;save/RestoreV2:3&quot;\\n  attr {\\n    key: &quot;T&quot;\\n    value {\\n      type: DT_FLOAT\\n    }\\n  }\\n  attr {\\n    key: &quot;_class&quot;\\n    value {\\n      list {\\n        s: &quot;loc:@dnn/hidden2/kernel&quot;\\n      }\\n    }\\n  }\\n  attr {\\n    key: &quot;use_locking&quot;\\n    value {\\n      b: true\\n    }\\n  }\\n  attr {\\n    key: &quot;validate_shape&quot;\\n    value {\\n      b: true\\n    }\\n  }\\n}\\nnode {\\n  name: &quot;save/Assign_4&quot;\\n  op: &quot;Assign&quot;\\n  input: &quot;dnn/outputs/bias&quot;\\n  input: &quot;save/RestoreV2:4&quot;\\n  attr {\\n    key: &quot;T&quot;\\n    value {\\n      type: DT_FLOAT\\n    }\\n  }\\n  attr {\\n    key: &quot;_class&quot;\\n    value {\\n      list {\\n        s: &quot;loc:@dnn/outputs/bias&quot;\\n      }\\n    }\\n  }\\n  attr {\\n    key: &quot;use_locking&quot;\\n    value {\\n      b: true\\n    }\\n  }\\n  attr {\\n    key: &quot;validate_shape&quot;\\n    value {\\n      b: true\\n    }\\n  }\\n}\\nnode {\\n  name: &quot;save/Assign_5&quot;\\n  op: &quot;Assign&quot;\\n  input: &quot;dnn/outputs/kernel&quot;\\n  input: &quot;save/RestoreV2:5&quot;\\n  attr {\\n    key: &quot;T&quot;\\n    value {\\n      type: DT_FLOAT\\n    }\\n  }\\n  attr {\\n    key: &quot;_class&quot;\\n    value {\\n      list {\\n        s: &quot;loc:@dnn/outputs/kernel&quot;\\n      }\\n    }\\n  }\\n  attr {\\n    key: &quot;use_locking&quot;\\n    value {\\n      b: true\\n    }\\n  }\\n  attr {\\n    key: &quot;validate_shape&quot;\\n    value {\\n      b: true\\n    }\\n  }\\n}\\nnode {\\n  name: &quot;save/restore_all&quot;\\n  op: &quot;NoOp&quot;\\n  input: &quot;^save/Assign&quot;\\n  input: &quot;^save/Assign_1&quot;\\n  input: &quot;^save/Assign_2&quot;\\n  input: &quot;^save/Assign_3&quot;\\n  input: &quot;^save/Assign_4&quot;\\n  input: &quot;^save/Assign_5&quot;\\n}\\n';\n",
       "          }\n",
       "        </script>\n",
       "        <link rel=&quot;import&quot; href=&quot;https://tensorboard.appspot.com/tf-graph-basic.build.html&quot; onload=load()>\n",
       "        <div style=&quot;height:600px&quot;>\n",
       "          <tf-graph-basic id=&quot;graph0.2851015593374667&quot;></tf-graph-basic>\n",
       "        </div>\n",
       "    \"></iframe>\n",
       "    "
      ],
      "text/plain": [
       "<IPython.core.display.HTML object>"
      ]
     },
     "metadata": {},
     "output_type": "display_data"
    }
   ],
   "source": [
    "show_graph(tf.get_default_graph())"
   ]
  },
  {
   "cell_type": "markdown",
   "metadata": {},
   "source": [
    "## Using `dense()` instead of `neuron_layer()`"
   ]
  },
  {
   "cell_type": "markdown",
   "metadata": {},
   "source": [
    "Note: the book uses `tensorflow.contrib.layers.fully_connected()` rather than `f.layers.dense()` (which did not exist when this chapter was written). It is now preferable to use `tf.layers.dense()`, because anything in the `contrib` module may change or be deleted without notice. The `dense()` function is almost identical to the `ully_connected()` function, except for a few minor differences:\n",
    "\n",
    " * several parameters are renamed: scope becomes name, `activation_fn` becomes activation (and similarly the `_fn` suffix is removed from other parameters such as `ormalizer_fn`), `weights_initializer` becomes `kernel_initializer`, etc.\n",
    " * the default activation is now `None` rather than `f.nn.relu`.\n",
    " * a few more differences are presented in chapter 11.\n",
    " \n",
    "We now re-training the above network using the `dense()` API without having to construct each layer manually:"
   ]
  },
  {
   "cell_type": "code",
   "execution_count": 78,
   "metadata": {
    "collapsed": true
   },
   "outputs": [],
   "source": [
    "n_inputs = 28*28  # MNIST\n",
    "n_hidden1 = 300\n",
    "n_hidden2 = 100\n",
    "n_outputs = 10\n",
    "\n",
    "reset_graph()\n",
    "\n",
    "# placeholder nodes to hold the (batch) training data and predictions\n",
    "X = tf.placeholder(tf.float32, shape=(None, n_inputs), name=\"X\")\n",
    "y = tf.placeholder(tf.int64, shape=(None), name=\"y\")"
   ]
  },
  {
   "cell_type": "code",
   "execution_count": 79,
   "metadata": {
    "collapsed": true
   },
   "outputs": [],
   "source": [
    "# only different part compared to the above\n",
    "with tf.name_scope(\"dnn\"):\n",
    "    hidden1 = tf.layers.dense(X, n_hidden1, name=\"hidden1\",\n",
    "                              activation=tf.nn.relu)\n",
    "    hidden2 = tf.layers.dense(hidden1, n_hidden2, name=\"hidden2\",\n",
    "                              activation=tf.nn.relu)\n",
    "    logits = tf.layers.dense(hidden2, n_outputs, name=\"outputs\")"
   ]
  },
  {
   "cell_type": "code",
   "execution_count": 80,
   "metadata": {
    "collapsed": true
   },
   "outputs": [],
   "source": [
    "# loss function\n",
    "with tf.name_scope(\"loss\"):\n",
    "    xentropy = tf.nn.sparse_softmax_cross_entropy_with_logits(labels=y, logits=logits)\n",
    "    loss = tf.reduce_mean(xentropy, name=\"loss\")"
   ]
  },
  {
   "cell_type": "code",
   "execution_count": 82,
   "metadata": {
    "collapsed": true
   },
   "outputs": [],
   "source": [
    "# train op\n",
    "learning_rate = 0.01\n",
    "\n",
    "with tf.name_scope(\"train\"):\n",
    "    optimizer = tf.train.GradientDescentOptimizer(learning_rate)\n",
    "    training_op = optimizer.minimize(loss)"
   ]
  },
  {
   "cell_type": "code",
   "execution_count": 83,
   "metadata": {
    "collapsed": true
   },
   "outputs": [],
   "source": [
    "# eval op\n",
    "with tf.name_scope(\"eval\"):\n",
    "    correct = tf.nn.in_top_k(logits, y, 1)\n",
    "    accuracy = tf.reduce_mean(tf.cast(correct, tf.float32))"
   ]
  },
  {
   "cell_type": "code",
   "execution_count": 84,
   "metadata": {},
   "outputs": [
    {
     "name": "stdout",
     "output_type": "stream",
     "text": [
      "0 Train accuracy: 0.92 Test accuracy: 0.9026\n",
      "1 Train accuracy: 0.88 Test accuracy: 0.9175\n",
      "2 Train accuracy: 0.94 Test accuracy: 0.9302\n",
      "3 Train accuracy: 0.9 Test accuracy: 0.9384\n",
      "4 Train accuracy: 0.92 Test accuracy: 0.9435\n",
      "5 Train accuracy: 0.96 Test accuracy: 0.948\n",
      "6 Train accuracy: 0.92 Test accuracy: 0.9521\n",
      "7 Train accuracy: 1.0 Test accuracy: 0.9535\n",
      "8 Train accuracy: 0.96 Test accuracy: 0.9556\n",
      "9 Train accuracy: 0.94 Test accuracy: 0.9587\n",
      "10 Train accuracy: 0.94 Test accuracy: 0.9611\n",
      "11 Train accuracy: 0.96 Test accuracy: 0.9627\n",
      "12 Train accuracy: 1.0 Test accuracy: 0.9638\n",
      "13 Train accuracy: 0.96 Test accuracy: 0.9656\n",
      "14 Train accuracy: 0.98 Test accuracy: 0.9669\n",
      "15 Train accuracy: 0.94 Test accuracy: 0.9681\n",
      "16 Train accuracy: 0.92 Test accuracy: 0.9686\n",
      "17 Train accuracy: 0.98 Test accuracy: 0.9695\n",
      "18 Train accuracy: 1.0 Test accuracy: 0.9705\n",
      "19 Train accuracy: 1.0 Test accuracy: 0.9699\n",
      "20 Train accuracy: 0.92 Test accuracy: 0.972\n",
      "21 Train accuracy: 1.0 Test accuracy: 0.9716\n",
      "22 Train accuracy: 1.0 Test accuracy: 0.9723\n",
      "23 Train accuracy: 1.0 Test accuracy: 0.9732\n",
      "24 Train accuracy: 0.96 Test accuracy: 0.9737\n",
      "25 Train accuracy: 0.98 Test accuracy: 0.9747\n",
      "26 Train accuracy: 0.98 Test accuracy: 0.9754\n",
      "27 Train accuracy: 1.0 Test accuracy: 0.9743\n",
      "28 Train accuracy: 1.0 Test accuracy: 0.9752\n",
      "29 Train accuracy: 1.0 Test accuracy: 0.9745\n",
      "30 Train accuracy: 0.98 Test accuracy: 0.9756\n",
      "31 Train accuracy: 1.0 Test accuracy: 0.9762\n",
      "32 Train accuracy: 0.96 Test accuracy: 0.9762\n",
      "33 Train accuracy: 0.98 Test accuracy: 0.9766\n",
      "34 Train accuracy: 1.0 Test accuracy: 0.9774\n",
      "35 Train accuracy: 1.0 Test accuracy: 0.9765\n",
      "36 Train accuracy: 1.0 Test accuracy: 0.9774\n",
      "37 Train accuracy: 1.0 Test accuracy: 0.9767\n",
      "38 Train accuracy: 1.0 Test accuracy: 0.9757\n",
      "39 Train accuracy: 1.0 Test accuracy: 0.9775\n"
     ]
    }
   ],
   "source": [
    "init = tf.global_variables_initializer()\n",
    "saver = tf.train.Saver()\n",
    "\n",
    "n_epochs = 40\n",
    "batch_size = 50\n",
    "\n",
    "with tf.Session() as sess:\n",
    "    init.run()\n",
    "    for epoch in range(n_epochs):\n",
    "        for iteration in range(mnist.train.num_examples // batch_size):\n",
    "            X_batch, y_batch = mnist.train.next_batch(batch_size)\n",
    "            sess.run(training_op, feed_dict={X: X_batch, y: y_batch})\n",
    "        acc_train = accuracy.eval(feed_dict={X: X_batch, y: y_batch})\n",
    "        acc_test = accuracy.eval(feed_dict={X: mnist.test.images, y: mnist.test.labels})\n",
    "        print(epoch, \"Train accuracy:\", acc_train, \"Test accuracy:\", acc_test)\n",
    "\n",
    "    save_path = saver.save(sess, \"./my_model_final.ckpt\")"
   ]
  },
  {
   "cell_type": "markdown",
   "metadata": {},
   "source": [
    "Now that the neural network is trained, you can use it to make predictions. To o that, you can reuse the same construction phase, but change the execution phase like this:\n",
    "\n",
    "```\n",
    "with tf.Session() as sess:\n",
    "    saver.restore(sess, \"./my_model_final.ckpt\")\n",
    "    X_new_scaled = [...] # some new images scaled between 0 and 1\n",
    "    Z = logits.eval(feed_dict={X: X_new_scaled})\n",
    "    y_pred = np.argmax(Z, axis = 1)\n",
    "```"
   ]
  },
  {
   "cell_type": "markdown",
   "metadata": {},
   "source": [
    "# Exercise solutions"
   ]
  },
  {
   "cell_type": "markdown",
   "metadata": {},
   "source": [
    "## Exercise #9"
   ]
  },
  {
   "cell_type": "markdown",
   "metadata": {},
   "source": [
    "Train a deep MLP on the MNIST dataset and see if you can get over 98% precision. Just like in the last exercise of chapter 9, try adding all the bells and whistles (i.e., save checkpoints, restore the last checkpoint in case of an interruption, add summaries, plot learning curves using TensorBoard, and so on).\n",
    "\n",
    "First let's create the deep net. It will have one extra hidden layer than earlier, and we also add a `tf.summary.scalar()` to track the loss and the accuracy during training, so we can view nice learning curves using TensorBoard."
   ]
  },
  {
   "cell_type": "markdown",
   "metadata": {},
   "source": [
    "### Construction"
   ]
  },
  {
   "cell_type": "code",
   "execution_count": 143,
   "metadata": {
    "collapsed": true
   },
   "outputs": [],
   "source": [
    "# network topology\n",
    "n_inputs = 28*28  # MNIST\n",
    "n_hidden1 = 300\n",
    "n_hidden2 = 300\n",
    "n_hidden3 = 100\n",
    "n_outputs = 10"
   ]
  },
  {
   "cell_type": "code",
   "execution_count": 144,
   "metadata": {
    "collapsed": true
   },
   "outputs": [],
   "source": [
    "reset_graph()\n",
    "\n",
    "X = tf.placeholder(tf.float32, shape=(None, n_inputs), name=\"X\")\n",
    "y = tf.placeholder(tf.int64, shape=(None), name=\"y\")"
   ]
  },
  {
   "cell_type": "code",
   "execution_count": 145,
   "metadata": {},
   "outputs": [],
   "source": [
    "with tf.name_scope(\"dnn\"):\n",
    "    hidden1 = tf.layers.dense(X, n_hidden1, name=\"hidden1\",\n",
    "                              activation=tf.nn.relu)\n",
    "    hidden2 = tf.layers.dense(hidden1, n_hidden2, name=\"hidden2\",\n",
    "                              activation=tf.nn.relu)\n",
    "    hidden3 = tf.layers.dense(hidden2, n_hidden3, name=\"hidden3\",\n",
    "                              activation=tf.nn.relu)\n",
    "    logits = tf.layers.dense(hidden3, n_outputs, name=\"outputs\")"
   ]
  },
  {
   "cell_type": "code",
   "execution_count": 146,
   "metadata": {
    "collapsed": true
   },
   "outputs": [],
   "source": [
    "# loss\n",
    "with tf.name_scope(\"loss\"):\n",
    "    xentropy = tf.nn.sparse_softmax_cross_entropy_with_logits(labels=y, logits=logits)\n",
    "    loss = tf.reduce_mean(xentropy, name=\"loss\")\n",
    "    loss_summary = tf.summary.scalar('log_loss', loss)"
   ]
  },
  {
   "cell_type": "code",
   "execution_count": 147,
   "metadata": {
    "collapsed": true
   },
   "outputs": [],
   "source": [
    "# train\n",
    "learning_rate = 0.01\n",
    "\n",
    "with tf.name_scope(\"train\"):\n",
    "    optimizer = tf.train.GradientDescentOptimizer(learning_rate)\n",
    "    training_op = optimizer.minimize(loss)"
   ]
  },
  {
   "cell_type": "code",
   "execution_count": 148,
   "metadata": {
    "collapsed": true
   },
   "outputs": [],
   "source": [
    "# eval\n",
    "with tf.name_scope(\"eval\"):\n",
    "    correct = tf.nn.in_top_k(logits, y, 1)\n",
    "    accuracy = tf.reduce_mean(tf.cast(correct, tf.float32))\n",
    "    accuracy_summary = tf.summary.scalar('accuracy', accuracy)"
   ]
  },
  {
   "cell_type": "code",
   "execution_count": 149,
   "metadata": {
    "collapsed": true
   },
   "outputs": [],
   "source": [
    "init = tf.global_variables_initializer()\n",
    "saver = tf.train.Saver()"
   ]
  },
  {
   "cell_type": "markdown",
   "metadata": {},
   "source": [
    "Now we need to define the directory to write the TensorBoard logs to:"
   ]
  },
  {
   "cell_type": "code",
   "execution_count": 150,
   "metadata": {
    "collapsed": true
   },
   "outputs": [],
   "source": [
    "from datetime import datetime\n",
    "\n",
    "def log_dir(prefix=\"\"):\n",
    "    now = datetime.utcnow().strftime(\"%Y%m%d%H%M%S\")\n",
    "    root_logdir = \"tf_logs\"\n",
    "    if prefix:\n",
    "        prefix += \"-\"\n",
    "    name = prefix + \"run-\" + now\n",
    "    return \"{}/{}/\".format(root_logdir, name)"
   ]
  },
  {
   "cell_type": "code",
   "execution_count": 151,
   "metadata": {
    "collapsed": true
   },
   "outputs": [],
   "source": [
    "logdir = log_dir(\"mnist_dnn\")"
   ]
  },
  {
   "cell_type": "markdown",
   "metadata": {},
   "source": [
    "Now we can create the FileWriter that we will use to write the TensorBoard logs:"
   ]
  },
  {
   "cell_type": "code",
   "execution_count": 152,
   "metadata": {
    "collapsed": true
   },
   "outputs": [],
   "source": [
    "file_writer = tf.summary.FileWriter(logdir, tf.get_default_graph())"
   ]
  },
  {
   "cell_type": "markdown",
   "metadata": {},
   "source": [
    "Hey! Why don't we implement early stopping? For this, we are going to need a validation set. Luckily, the dataset returned by TensorFlow's input_data() function (see above) is already split into a training set (60,000 instances, already shuffled for us), a validation set (5,000 instances) and a test set (5,000 instances). So we can easily define `X_valid` and `y_valid`:"
   ]
  },
  {
   "cell_type": "code",
   "execution_count": 153,
   "metadata": {
    "collapsed": true
   },
   "outputs": [],
   "source": [
    "X_valid = mnist.validation.images\n",
    "y_valid = mnist.validation.labels"
   ]
  },
  {
   "cell_type": "markdown",
   "metadata": {},
   "source": [
    "### Execution"
   ]
  },
  {
   "cell_type": "code",
   "execution_count": 156,
   "metadata": {},
   "outputs": [
    {
     "name": "stdout",
     "output_type": "stream",
     "text": [
      "Training was interrupted. Continuing at epoch 146\n",
      "INFO:tensorflow:Restoring parameters from /tmp/my_deep_mnist_model.ckpt\n",
      "Epoch: 150 \tValidation accuracy: 98.060% \tLoss: 0.08566\n",
      "Epoch: 155 \tValidation accuracy: 98.140% \tLoss: 0.08650\n",
      "Epoch: 160 \tValidation accuracy: 98.100% \tLoss: 0.08733\n",
      "Epoch: 165 \tValidation accuracy: 98.120% \tLoss: 0.08785\n",
      "Epoch: 170 \tValidation accuracy: 98.080% \tLoss: 0.08787\n",
      "Epoch: 175 \tValidation accuracy: 98.120% \tLoss: 0.08822\n",
      "Epoch: 180 \tValidation accuracy: 98.100% \tLoss: 0.08844\n",
      "Epoch: 185 \tValidation accuracy: 98.140% \tLoss: 0.08872\n",
      "Epoch: 190 \tValidation accuracy: 98.160% \tLoss: 0.08957\n",
      "Epoch: 195 \tValidation accuracy: 98.140% \tLoss: 0.08937\n",
      "Epoch: 200 \tValidation accuracy: 98.140% \tLoss: 0.08996\n",
      "Epoch: 205 \tValidation accuracy: 98.100% \tLoss: 0.09030\n",
      "Epoch: 210 \tValidation accuracy: 98.120% \tLoss: 0.09058\n",
      "Epoch: 215 \tValidation accuracy: 98.160% \tLoss: 0.09085\n",
      "Epoch: 220 \tValidation accuracy: 98.120% \tLoss: 0.09162\n",
      "Epoch: 225 \tValidation accuracy: 98.140% \tLoss: 0.09165\n",
      "Epoch: 230 \tValidation accuracy: 98.120% \tLoss: 0.09183\n",
      "Epoch: 235 \tValidation accuracy: 98.120% \tLoss: 0.09239\n",
      "Epoch: 240 \tValidation accuracy: 98.120% \tLoss: 0.09292\n",
      "Epoch: 245 \tValidation accuracy: 98.140% \tLoss: 0.09269\n",
      "Epoch: 250 \tValidation accuracy: 98.140% \tLoss: 0.09311\n",
      "Epoch: 255 \tValidation accuracy: 98.140% \tLoss: 0.09316\n",
      "epochs_without_progress =  105 Early stopping\n"
     ]
    }
   ],
   "source": [
    "m, n = X_train.shape\n",
    "\n",
    "n_epochs = 10001\n",
    "batch_size = 50\n",
    "n_batches = int(np.ceil(m / batch_size))\n",
    "\n",
    "checkpoint_path = \"/tmp/my_deep_mnist_model.ckpt\"\n",
    "checkpoint_epoch_path = checkpoint_path + \".epoch\"\n",
    "final_model_path = \"./my_deep_mnist_model\"\n",
    "\n",
    "best_loss = np.infty\n",
    "epochs_without_progress = 0\n",
    "max_epochs_without_progress = 100\n",
    "\n",
    "with tf.Session() as sess:\n",
    "    if os.path.isfile(checkpoint_epoch_path):\n",
    "        # if the checkpoint file exists, restore the model and load the epoch number\n",
    "        with open(checkpoint_epoch_path, \"rb\") as f:\n",
    "            start_epoch = int(f.read())\n",
    "        print(\"Training was interrupted. Continuing at epoch\", start_epoch)\n",
    "        saver.restore(sess, checkpoint_path)\n",
    "    else:\n",
    "        start_epoch = 0\n",
    "        sess.run(init)\n",
    "\n",
    "    for epoch in range(start_epoch, n_epochs):\n",
    "        for iteration in range(mnist.train.num_examples // batch_size):\n",
    "            X_batch, y_batch = mnist.train.next_batch(batch_size)\n",
    "            sess.run(training_op, feed_dict={X: X_batch, y: y_batch})\n",
    "        accuracy_val, loss_val, accuracy_summary_str, loss_summary_str = sess.run([accuracy, loss, accuracy_summary, loss_summary], feed_dict={X: X_valid, y: y_valid})\n",
    "        file_writer.add_summary(accuracy_summary_str, epoch)\n",
    "        file_writer.add_summary(loss_summary_str, epoch)\n",
    "        if epoch % 5 == 0:\n",
    "            print(\"Epoch:\", epoch,\n",
    "                  \"\\tValidation accuracy: {:.3f}%\".format(accuracy_val * 100),\n",
    "                  \"\\tLoss: {:.5f}\".format(loss_val))\n",
    "            saver.save(sess, checkpoint_path)\n",
    "            with open(checkpoint_epoch_path, \"wb\") as f:\n",
    "                f.write(b\"%d\" % (epoch + 1))\n",
    "            if loss_val < best_loss:\n",
    "                saver.save(sess, final_model_path)\n",
    "                best_loss = loss_val\n",
    "            else:\n",
    "                epochs_without_progress += 5\n",
    "                if epochs_without_progress > max_epochs_without_progress:\n",
    "                    print(\"epochs_without_progress = \", epochs_without_progress, \"Early stopping\")\n",
    "                    break"
   ]
  },
  {
   "cell_type": "code",
   "execution_count": 157,
   "metadata": {},
   "outputs": [],
   "source": [
    "os.remove(checkpoint_epoch_path)"
   ]
  },
  {
   "cell_type": "markdown",
   "metadata": {},
   "source": [
    "### Test Predictions"
   ]
  },
  {
   "cell_type": "code",
   "execution_count": 158,
   "metadata": {},
   "outputs": [
    {
     "name": "stdout",
     "output_type": "stream",
     "text": [
      "INFO:tensorflow:Restoring parameters from ./my_deep_mnist_model\n"
     ]
    }
   ],
   "source": [
    "with tf.Session() as sess:\n",
    "    saver.restore(sess, final_model_path)\n",
    "    accuracy_val = accuracy.eval(feed_dict={X: X_test, y: y_test})"
   ]
  },
  {
   "cell_type": "code",
   "execution_count": 159,
   "metadata": {},
   "outputs": [
    {
     "data": {
      "text/plain": [
       "0.9785"
      ]
     },
     "execution_count": 159,
     "metadata": {},
     "output_type": "execute_result"
    }
   ],
   "source": [
    "accuracy_val"
   ]
  }
 ],
 "metadata": {
  "kernelspec": {
   "display_name": "Python 3",
   "language": "python",
   "name": "python3"
  },
  "language_info": {
   "codemirror_mode": {
    "name": "ipython",
    "version": 3
   },
   "file_extension": ".py",
   "mimetype": "text/x-python",
   "name": "python",
   "nbconvert_exporter": "python",
   "pygments_lexer": "ipython3",
   "version": "3.6.2"
  }
 },
 "nbformat": 4,
 "nbformat_minor": 2
}
